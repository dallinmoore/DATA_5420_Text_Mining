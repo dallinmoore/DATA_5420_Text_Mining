{
  "cells": [
    {
      "cell_type": "markdown",
      "id": "e0699519",
      "metadata": {
        "id": "e0699519"
      },
      "source": [
        "# In-Class Assignment: Text Similarity \\& Recommendation Systems\n",
        "\n",
        "## *DATA 5420/6420*\n",
        "## Name: Dallin Moore\n",
        "\n",
        "In this in-class assignment we will utilize two different implementations of similarity to create a content-based and query-based movie recommender. We will first utilize content-based filtering in order to find movies with similar plot descriptions so that we can then recommend like movies. Then we will create a second recommeder that uses a search query to find the most relevant movie recommendations!\n",
        "\n",
        "The dataset we will be working with can be pulled from Kaggle [here](https://www.kaggle.com/datasets/tmdb/tmdb-movie-metadata), which contains metadata of 5,000 movies from The Movie Database (TMDB), an open-source, editable database for movies and TV shows.\n",
        "\n",
        "Let's bring in the `tmdb_5000_movies.csv` file and take a look at its contents, as well as load our necessary dependencies."
      ]
    },
    {
      "cell_type": "code",
      "execution_count": 17,
      "id": "5a191fa2",
      "metadata": {
        "id": "5a191fa2",
        "colab": {
          "base_uri": "https://localhost:8080/"
        },
        "outputId": "27c4ef77-12af-4451-a056-eaa83b1b3745"
      },
      "outputs": [
        {
          "output_type": "stream",
          "name": "stderr",
          "text": [
            "[nltk_data] Downloading package punkt to /root/nltk_data...\n",
            "[nltk_data]   Package punkt is already up-to-date!\n",
            "[nltk_data] Downloading package stopwords to /root/nltk_data...\n",
            "[nltk_data]   Package stopwords is already up-to-date!\n"
          ]
        }
      ],
      "source": [
        "import pandas as pd\n",
        "import nltk\n",
        "import re\n",
        "import numpy as np\n",
        "\n",
        "nltk.download('punkt')\n",
        "nltk.download('stopwords')\n",
        "\n",
        "from sklearn.feature_extraction.text import TfidfVectorizer\n",
        "from sklearn.metrics.pairwise import cosine_similarity"
      ]
    },
    {
      "cell_type": "code",
      "execution_count": 18,
      "id": "dad010c0",
      "metadata": {
        "id": "dad010c0",
        "colab": {
          "base_uri": "https://localhost:8080/"
        },
        "outputId": "15499257-03dd-42ad-a80b-b63e99ce8bfd"
      },
      "outputs": [
        {
          "output_type": "stream",
          "name": "stdout",
          "text": [
            "<class 'pandas.core.frame.DataFrame'>\n",
            "RangeIndex: 4802 entries, 0 to 4801\n",
            "Data columns (total 20 columns):\n",
            " #   Column                Non-Null Count  Dtype  \n",
            "---  ------                --------------  -----  \n",
            " 0   budget                4802 non-null   int64  \n",
            " 1   genres                4774 non-null   object \n",
            " 2   homepage              1712 non-null   object \n",
            " 3   id                    4802 non-null   int64  \n",
            " 4   keywords              4802 non-null   object \n",
            " 5   original_language     4802 non-null   object \n",
            " 6   original_title        4802 non-null   object \n",
            " 7   overview              4799 non-null   object \n",
            " 8   popularity            4802 non-null   float64\n",
            " 9   production_companies  4802 non-null   object \n",
            " 10  production_countries  4802 non-null   object \n",
            " 11  release_date          4801 non-null   object \n",
            " 12  revenue               4802 non-null   int64  \n",
            " 13  runtime               4800 non-null   float64\n",
            " 14  spoken_languages      4802 non-null   object \n",
            " 15  status                4802 non-null   object \n",
            " 16  tagline               3958 non-null   object \n",
            " 17  title                 4802 non-null   object \n",
            " 18  vote_average          4802 non-null   float64\n",
            " 19  vote_count            4802 non-null   int64  \n",
            "dtypes: float64(3), int64(4), object(13)\n",
            "memory usage: 750.4+ KB\n"
          ]
        }
      ],
      "source": [
        "df = pd.read_csv('/content/cleaned_tmdb_5000_movies.csv')\n",
        "df.info()"
      ]
    },
    {
      "cell_type": "markdown",
      "id": "e6b195d9",
      "metadata": {
        "id": "e6b195d9"
      },
      "source": [
        "**Amongst our columns of interest `genres`, `tagline`, `overview` and `title` do we have missing data?**"
      ]
    },
    {
      "cell_type": "markdown",
      "id": "175aca3a",
      "metadata": {
        "id": "175aca3a"
      },
      "source": [
        "Yes, there is missing data for overview and tagline. There is also missing data for genres, but not as many instances of missing data."
      ]
    },
    {
      "cell_type": "markdown",
      "id": "64e4884e",
      "metadata": {
        "id": "64e4884e"
      },
      "source": [
        "## Building a Movie Recommender System\n",
        "\n",
        "We will take the following steps to build the recommender system:\n",
        "\n",
        "1) Prep the dataframe\n",
        "\n",
        "\n",
        "2) Preprocess the text\n",
        "\n",
        "\n",
        "3) Feature Engineering\n",
        "\n",
        "\n",
        "4) Document Similairty Computation\n",
        "\n",
        "\n",
        "5) Find top similar movies\n",
        "\n",
        "\n",
        "6) Create a movie recommender function"
      ]
    },
    {
      "cell_type": "markdown",
      "id": "3c842145",
      "metadata": {
        "id": "3c842145"
      },
      "source": [
        "### 1) Prep the Dataframe\n",
        "\n",
        "Let's take a few data preparation steps, including dropping out unneccesary columns (we just care about text columns in this case), getting rid of null values, and merging the `tagline` column with the `overview` column as a plot `description` column."
      ]
    },
    {
      "cell_type": "code",
      "source": [
        "df = df[['title', 'tagline', 'overview', 'genres', 'popularity']]\n",
        "df['description'] = df['tagline'].map(str) + ' ' + df['overview'].map(str) + ' ' + df['genres'].map(str)\n",
        "df.head()"
      ],
      "metadata": {
        "id": "kJRRZsV-QTIJ",
        "colab": {
          "base_uri": "https://localhost:8080/",
          "height": 397
        },
        "outputId": "b4b39fbf-72a2-466d-83c8-fe92384cd221"
      },
      "id": "kJRRZsV-QTIJ",
      "execution_count": 19,
      "outputs": [
        {
          "output_type": "stream",
          "name": "stderr",
          "text": [
            "<ipython-input-19-82b7ec14d6ce>:2: SettingWithCopyWarning: \n",
            "A value is trying to be set on a copy of a slice from a DataFrame.\n",
            "Try using .loc[row_indexer,col_indexer] = value instead\n",
            "\n",
            "See the caveats in the documentation: https://pandas.pydata.org/pandas-docs/stable/user_guide/indexing.html#returning-a-view-versus-a-copy\n",
            "  df['description'] = df['tagline'].map(str) + ' ' + df['overview'].map(str) + ' ' + df['genres'].map(str)\n"
          ]
        },
        {
          "output_type": "execute_result",
          "data": {
            "text/plain": [
              "                                      title  \\\n",
              "0                                    Avatar   \n",
              "1  Pirates of the Caribbean: At World's End   \n",
              "2                                   Spectre   \n",
              "3                     The Dark Knight Rises   \n",
              "4                               John Carter   \n",
              "\n",
              "                                          tagline  \\\n",
              "0                     Enter the World of Pandora.   \n",
              "1  At the end of the world, the adventure begins.   \n",
              "2                           A Plan No One Escapes   \n",
              "3                                 The Legend Ends   \n",
              "4            Lost in our world, found in another.   \n",
              "\n",
              "                                            overview  \\\n",
              "0  In the 22nd century, a paraplegic Marine is di...   \n",
              "1  Captain Barbossa, long believed to be dead, ha...   \n",
              "2  A cryptic message from Bond’s past sends him o...   \n",
              "3  Following the death of District Attorney Harve...   \n",
              "4  John Carter is a war-weary, former military ca...   \n",
              "\n",
              "                                        genres  popularity  \\\n",
              "0  Action, Adventure, Fantasy, Science Fiction  150.437577   \n",
              "1                   Adventure, Fantasy, Action  139.082615   \n",
              "2                     Action, Adventure, Crime  107.376788   \n",
              "3               Action, Crime, Drama, Thriller  112.312950   \n",
              "4           Action, Adventure, Science Fiction   43.926995   \n",
              "\n",
              "                                         description  \n",
              "0  Enter the World of Pandora. In the 22nd centur...  \n",
              "1  At the end of the world, the adventure begins....  \n",
              "2  A Plan No One Escapes A cryptic message from B...  \n",
              "3  The Legend Ends Following the death of Distric...  \n",
              "4  Lost in our world, found in another. John Cart...  "
            ],
            "text/html": [
              "\n",
              "  <div id=\"df-c243cb79-0fd0-4b21-abd8-2c0ba7949953\" class=\"colab-df-container\">\n",
              "    <div>\n",
              "<style scoped>\n",
              "    .dataframe tbody tr th:only-of-type {\n",
              "        vertical-align: middle;\n",
              "    }\n",
              "\n",
              "    .dataframe tbody tr th {\n",
              "        vertical-align: top;\n",
              "    }\n",
              "\n",
              "    .dataframe thead th {\n",
              "        text-align: right;\n",
              "    }\n",
              "</style>\n",
              "<table border=\"1\" class=\"dataframe\">\n",
              "  <thead>\n",
              "    <tr style=\"text-align: right;\">\n",
              "      <th></th>\n",
              "      <th>title</th>\n",
              "      <th>tagline</th>\n",
              "      <th>overview</th>\n",
              "      <th>genres</th>\n",
              "      <th>popularity</th>\n",
              "      <th>description</th>\n",
              "    </tr>\n",
              "  </thead>\n",
              "  <tbody>\n",
              "    <tr>\n",
              "      <th>0</th>\n",
              "      <td>Avatar</td>\n",
              "      <td>Enter the World of Pandora.</td>\n",
              "      <td>In the 22nd century, a paraplegic Marine is di...</td>\n",
              "      <td>Action, Adventure, Fantasy, Science Fiction</td>\n",
              "      <td>150.437577</td>\n",
              "      <td>Enter the World of Pandora. In the 22nd centur...</td>\n",
              "    </tr>\n",
              "    <tr>\n",
              "      <th>1</th>\n",
              "      <td>Pirates of the Caribbean: At World's End</td>\n",
              "      <td>At the end of the world, the adventure begins.</td>\n",
              "      <td>Captain Barbossa, long believed to be dead, ha...</td>\n",
              "      <td>Adventure, Fantasy, Action</td>\n",
              "      <td>139.082615</td>\n",
              "      <td>At the end of the world, the adventure begins....</td>\n",
              "    </tr>\n",
              "    <tr>\n",
              "      <th>2</th>\n",
              "      <td>Spectre</td>\n",
              "      <td>A Plan No One Escapes</td>\n",
              "      <td>A cryptic message from Bond’s past sends him o...</td>\n",
              "      <td>Action, Adventure, Crime</td>\n",
              "      <td>107.376788</td>\n",
              "      <td>A Plan No One Escapes A cryptic message from B...</td>\n",
              "    </tr>\n",
              "    <tr>\n",
              "      <th>3</th>\n",
              "      <td>The Dark Knight Rises</td>\n",
              "      <td>The Legend Ends</td>\n",
              "      <td>Following the death of District Attorney Harve...</td>\n",
              "      <td>Action, Crime, Drama, Thriller</td>\n",
              "      <td>112.312950</td>\n",
              "      <td>The Legend Ends Following the death of Distric...</td>\n",
              "    </tr>\n",
              "    <tr>\n",
              "      <th>4</th>\n",
              "      <td>John Carter</td>\n",
              "      <td>Lost in our world, found in another.</td>\n",
              "      <td>John Carter is a war-weary, former military ca...</td>\n",
              "      <td>Action, Adventure, Science Fiction</td>\n",
              "      <td>43.926995</td>\n",
              "      <td>Lost in our world, found in another. John Cart...</td>\n",
              "    </tr>\n",
              "  </tbody>\n",
              "</table>\n",
              "</div>\n",
              "    <div class=\"colab-df-buttons\">\n",
              "\n",
              "  <div class=\"colab-df-container\">\n",
              "    <button class=\"colab-df-convert\" onclick=\"convertToInteractive('df-c243cb79-0fd0-4b21-abd8-2c0ba7949953')\"\n",
              "            title=\"Convert this dataframe to an interactive table.\"\n",
              "            style=\"display:none;\">\n",
              "\n",
              "  <svg xmlns=\"http://www.w3.org/2000/svg\" height=\"24px\" viewBox=\"0 -960 960 960\">\n",
              "    <path d=\"M120-120v-720h720v720H120Zm60-500h600v-160H180v160Zm220 220h160v-160H400v160Zm0 220h160v-160H400v160ZM180-400h160v-160H180v160Zm440 0h160v-160H620v160ZM180-180h160v-160H180v160Zm440 0h160v-160H620v160Z\"/>\n",
              "  </svg>\n",
              "    </button>\n",
              "\n",
              "  <style>\n",
              "    .colab-df-container {\n",
              "      display:flex;\n",
              "      gap: 12px;\n",
              "    }\n",
              "\n",
              "    .colab-df-convert {\n",
              "      background-color: #E8F0FE;\n",
              "      border: none;\n",
              "      border-radius: 50%;\n",
              "      cursor: pointer;\n",
              "      display: none;\n",
              "      fill: #1967D2;\n",
              "      height: 32px;\n",
              "      padding: 0 0 0 0;\n",
              "      width: 32px;\n",
              "    }\n",
              "\n",
              "    .colab-df-convert:hover {\n",
              "      background-color: #E2EBFA;\n",
              "      box-shadow: 0px 1px 2px rgba(60, 64, 67, 0.3), 0px 1px 3px 1px rgba(60, 64, 67, 0.15);\n",
              "      fill: #174EA6;\n",
              "    }\n",
              "\n",
              "    .colab-df-buttons div {\n",
              "      margin-bottom: 4px;\n",
              "    }\n",
              "\n",
              "    [theme=dark] .colab-df-convert {\n",
              "      background-color: #3B4455;\n",
              "      fill: #D2E3FC;\n",
              "    }\n",
              "\n",
              "    [theme=dark] .colab-df-convert:hover {\n",
              "      background-color: #434B5C;\n",
              "      box-shadow: 0px 1px 3px 1px rgba(0, 0, 0, 0.15);\n",
              "      filter: drop-shadow(0px 1px 2px rgba(0, 0, 0, 0.3));\n",
              "      fill: #FFFFFF;\n",
              "    }\n",
              "  </style>\n",
              "\n",
              "    <script>\n",
              "      const buttonEl =\n",
              "        document.querySelector('#df-c243cb79-0fd0-4b21-abd8-2c0ba7949953 button.colab-df-convert');\n",
              "      buttonEl.style.display =\n",
              "        google.colab.kernel.accessAllowed ? 'block' : 'none';\n",
              "\n",
              "      async function convertToInteractive(key) {\n",
              "        const element = document.querySelector('#df-c243cb79-0fd0-4b21-abd8-2c0ba7949953');\n",
              "        const dataTable =\n",
              "          await google.colab.kernel.invokeFunction('convertToInteractive',\n",
              "                                                    [key], {});\n",
              "        if (!dataTable) return;\n",
              "\n",
              "        const docLinkHtml = 'Like what you see? Visit the ' +\n",
              "          '<a target=\"_blank\" href=https://colab.research.google.com/notebooks/data_table.ipynb>data table notebook</a>'\n",
              "          + ' to learn more about interactive tables.';\n",
              "        element.innerHTML = '';\n",
              "        dataTable['output_type'] = 'display_data';\n",
              "        await google.colab.output.renderOutput(dataTable, element);\n",
              "        const docLink = document.createElement('div');\n",
              "        docLink.innerHTML = docLinkHtml;\n",
              "        element.appendChild(docLink);\n",
              "      }\n",
              "    </script>\n",
              "  </div>\n",
              "\n",
              "\n",
              "<div id=\"df-e1d81799-1992-465a-a2ab-9f87b6db8030\">\n",
              "  <button class=\"colab-df-quickchart\" onclick=\"quickchart('df-e1d81799-1992-465a-a2ab-9f87b6db8030')\"\n",
              "            title=\"Suggest charts\"\n",
              "            style=\"display:none;\">\n",
              "\n",
              "<svg xmlns=\"http://www.w3.org/2000/svg\" height=\"24px\"viewBox=\"0 0 24 24\"\n",
              "     width=\"24px\">\n",
              "    <g>\n",
              "        <path d=\"M19 3H5c-1.1 0-2 .9-2 2v14c0 1.1.9 2 2 2h14c1.1 0 2-.9 2-2V5c0-1.1-.9-2-2-2zM9 17H7v-7h2v7zm4 0h-2V7h2v10zm4 0h-2v-4h2v4z\"/>\n",
              "    </g>\n",
              "</svg>\n",
              "  </button>\n",
              "\n",
              "<style>\n",
              "  .colab-df-quickchart {\n",
              "      --bg-color: #E8F0FE;\n",
              "      --fill-color: #1967D2;\n",
              "      --hover-bg-color: #E2EBFA;\n",
              "      --hover-fill-color: #174EA6;\n",
              "      --disabled-fill-color: #AAA;\n",
              "      --disabled-bg-color: #DDD;\n",
              "  }\n",
              "\n",
              "  [theme=dark] .colab-df-quickchart {\n",
              "      --bg-color: #3B4455;\n",
              "      --fill-color: #D2E3FC;\n",
              "      --hover-bg-color: #434B5C;\n",
              "      --hover-fill-color: #FFFFFF;\n",
              "      --disabled-bg-color: #3B4455;\n",
              "      --disabled-fill-color: #666;\n",
              "  }\n",
              "\n",
              "  .colab-df-quickchart {\n",
              "    background-color: var(--bg-color);\n",
              "    border: none;\n",
              "    border-radius: 50%;\n",
              "    cursor: pointer;\n",
              "    display: none;\n",
              "    fill: var(--fill-color);\n",
              "    height: 32px;\n",
              "    padding: 0;\n",
              "    width: 32px;\n",
              "  }\n",
              "\n",
              "  .colab-df-quickchart:hover {\n",
              "    background-color: var(--hover-bg-color);\n",
              "    box-shadow: 0 1px 2px rgba(60, 64, 67, 0.3), 0 1px 3px 1px rgba(60, 64, 67, 0.15);\n",
              "    fill: var(--button-hover-fill-color);\n",
              "  }\n",
              "\n",
              "  .colab-df-quickchart-complete:disabled,\n",
              "  .colab-df-quickchart-complete:disabled:hover {\n",
              "    background-color: var(--disabled-bg-color);\n",
              "    fill: var(--disabled-fill-color);\n",
              "    box-shadow: none;\n",
              "  }\n",
              "\n",
              "  .colab-df-spinner {\n",
              "    border: 2px solid var(--fill-color);\n",
              "    border-color: transparent;\n",
              "    border-bottom-color: var(--fill-color);\n",
              "    animation:\n",
              "      spin 1s steps(1) infinite;\n",
              "  }\n",
              "\n",
              "  @keyframes spin {\n",
              "    0% {\n",
              "      border-color: transparent;\n",
              "      border-bottom-color: var(--fill-color);\n",
              "      border-left-color: var(--fill-color);\n",
              "    }\n",
              "    20% {\n",
              "      border-color: transparent;\n",
              "      border-left-color: var(--fill-color);\n",
              "      border-top-color: var(--fill-color);\n",
              "    }\n",
              "    30% {\n",
              "      border-color: transparent;\n",
              "      border-left-color: var(--fill-color);\n",
              "      border-top-color: var(--fill-color);\n",
              "      border-right-color: var(--fill-color);\n",
              "    }\n",
              "    40% {\n",
              "      border-color: transparent;\n",
              "      border-right-color: var(--fill-color);\n",
              "      border-top-color: var(--fill-color);\n",
              "    }\n",
              "    60% {\n",
              "      border-color: transparent;\n",
              "      border-right-color: var(--fill-color);\n",
              "    }\n",
              "    80% {\n",
              "      border-color: transparent;\n",
              "      border-right-color: var(--fill-color);\n",
              "      border-bottom-color: var(--fill-color);\n",
              "    }\n",
              "    90% {\n",
              "      border-color: transparent;\n",
              "      border-bottom-color: var(--fill-color);\n",
              "    }\n",
              "  }\n",
              "</style>\n",
              "\n",
              "  <script>\n",
              "    async function quickchart(key) {\n",
              "      const quickchartButtonEl =\n",
              "        document.querySelector('#' + key + ' button');\n",
              "      quickchartButtonEl.disabled = true;  // To prevent multiple clicks.\n",
              "      quickchartButtonEl.classList.add('colab-df-spinner');\n",
              "      try {\n",
              "        const charts = await google.colab.kernel.invokeFunction(\n",
              "            'suggestCharts', [key], {});\n",
              "      } catch (error) {\n",
              "        console.error('Error during call to suggestCharts:', error);\n",
              "      }\n",
              "      quickchartButtonEl.classList.remove('colab-df-spinner');\n",
              "      quickchartButtonEl.classList.add('colab-df-quickchart-complete');\n",
              "    }\n",
              "    (() => {\n",
              "      let quickchartButtonEl =\n",
              "        document.querySelector('#df-e1d81799-1992-465a-a2ab-9f87b6db8030 button');\n",
              "      quickchartButtonEl.style.display =\n",
              "        google.colab.kernel.accessAllowed ? 'block' : 'none';\n",
              "    })();\n",
              "  </script>\n",
              "</div>\n",
              "    </div>\n",
              "  </div>\n"
            ],
            "application/vnd.google.colaboratory.intrinsic+json": {
              "type": "dataframe",
              "variable_name": "df",
              "summary": "{\n  \"name\": \"df\",\n  \"rows\": 4802,\n  \"fields\": [\n    {\n      \"column\": \"title\",\n      \"properties\": {\n        \"dtype\": \"string\",\n        \"num_unique_values\": 4799,\n        \"samples\": [\n          \"Menace II Society\",\n          \"Pompeii\",\n          \"They Live\"\n        ],\n        \"semantic_type\": \"\",\n        \"description\": \"\"\n      }\n    },\n    {\n      \"column\": \"tagline\",\n      \"properties\": {\n        \"dtype\": \"string\",\n        \"num_unique_values\": 3943,\n        \"samples\": [\n          \"Life is a trip, but the afterlife is one hell of a ride\",\n          \"An Unspeakable Horror. A Creative Genius. Captured For Eternity.\",\n          \"May the schwartz be with you\"\n        ],\n        \"semantic_type\": \"\",\n        \"description\": \"\"\n      }\n    },\n    {\n      \"column\": \"overview\",\n      \"properties\": {\n        \"dtype\": \"string\",\n        \"num_unique_values\": 4799,\n        \"samples\": [\n          \"Craig and Smokey are two guys in Los Angeles hanging out on their porch on a Friday afternoon, smoking and drinking, looking for something to do.\",\n          \"Set in 79 A.D., POMPEII tells the epic story of Milo, a slave turned invincible gladiator who finds himself in a race against time to save his true love Cassia, the beautiful daughter of a wealthy merchant who has been unwillingly betrothed to a corrupt Roman Senator. As Mount Vesuvius erupts in a torrent of blazing lava, Milo must fight his way out of the arena in order to save his beloved as the once magnificent Pompeii crumbles around him.\",\n          \"Two women, Nic and Jules, brought a son and daughter into the world through artificial insemination. When one of their children reaches age, both kids go behind their mothers' backs to meet with the donor. Life becomes so much more interesting when the father, two mothers and children start to become attached to each other.\"\n        ],\n        \"semantic_type\": \"\",\n        \"description\": \"\"\n      }\n    },\n    {\n      \"column\": \"genres\",\n      \"properties\": {\n        \"dtype\": \"category\",\n        \"num_unique_values\": 1174,\n        \"samples\": [\n          \"Action, Science Fiction, Fantasy, Thriller, Horror\",\n          \"Comedy, Music, Family, Fantasy, Animation\",\n          \"Romance, Horror, Comedy, Thriller\"\n        ],\n        \"semantic_type\": \"\",\n        \"description\": \"\"\n      }\n    },\n    {\n      \"column\": \"popularity\",\n      \"properties\": {\n        \"dtype\": \"number\",\n        \"std\": 31.81941649487031,\n        \"min\": 0.0,\n        \"max\": 875.581305,\n        \"num_unique_values\": 4801,\n        \"samples\": [\n          13.267631,\n          0.010909,\n          5.842299\n        ],\n        \"semantic_type\": \"\",\n        \"description\": \"\"\n      }\n    },\n    {\n      \"column\": \"description\",\n      \"properties\": {\n        \"dtype\": \"string\",\n        \"num_unique_values\": 4801,\n        \"samples\": [\n          \"Attitude meets espionage. When the Switchblade, the most sophisticated prototype stealth fighter created yet, is stolen from the U.S. government, one of the United States' top spies, Alex Scott, is called to action. What he doesn't expect is to get teamed up with a cocky civilian, World Class Boxing Champion Kelly Robinson, on a dangerous top secret espionage mission. Their assignment: using equal parts skill and humor, catch Arnold Gundars, one of the world's most successful arms dealers. Action, Adventure, Comedy, Thriller\",\n          \"nan The story of the children who work 12-14 hour days in the fields without the protection of child labor laws. These children are not toiling in the fields in some far away land. They are working in America. Documentary\",\n          \"The rules are set. The game is on. As their first year of high school looms ahead, best friends Julie, Hannah, Yancy and Farrah have one last summer sleepover. Little do they know they're about to embark on the adventure of a lifetime. Desperate to shed their nerdy status, they take part in a night-long scavenger hunt that pits them against their popular archrivals. Everything under the sun goes on -- from taking Yancy's father's car to sneaking into nightclubs! Comedy, Family\"\n        ],\n        \"semantic_type\": \"\",\n        \"description\": \"\"\n      }\n    }\n  ]\n}"
            }
          },
          "metadata": {},
          "execution_count": 19
        }
      ]
    },
    {
      "cell_type": "code",
      "execution_count": 20,
      "id": "3f2133c2",
      "metadata": {
        "id": "3f2133c2",
        "colab": {
          "base_uri": "https://localhost:8080/"
        },
        "outputId": "009def10-ce62-4f9e-9ead-67d5e1f65643"
      },
      "outputs": [
        {
          "output_type": "stream",
          "name": "stdout",
          "text": [
            "<class 'pandas.core.frame.DataFrame'>\n",
            "RangeIndex: 4802 entries, 0 to 4801\n",
            "Data columns (total 6 columns):\n",
            " #   Column       Non-Null Count  Dtype  \n",
            "---  ------       --------------  -----  \n",
            " 0   title        4802 non-null   object \n",
            " 1   tagline      4802 non-null   object \n",
            " 2   overview     4799 non-null   object \n",
            " 3   genres       4774 non-null   object \n",
            " 4   popularity   4802 non-null   float64\n",
            " 5   description  4802 non-null   object \n",
            "dtypes: float64(1), object(5)\n",
            "memory usage: 225.2+ KB\n"
          ]
        }
      ],
      "source": [
        "df.tagline.fillna('',inplace=True) # add empty strings\n",
        "df.info()"
      ]
    },
    {
      "cell_type": "code",
      "source": [
        "df.dropna(inplace=True)\n",
        "df.info()"
      ],
      "metadata": {
        "colab": {
          "base_uri": "https://localhost:8080/"
        },
        "id": "ZJC8esGzG1pK",
        "outputId": "8c826cda-9055-4003-8e4a-a0b5adebaa86"
      },
      "id": "ZJC8esGzG1pK",
      "execution_count": 21,
      "outputs": [
        {
          "output_type": "stream",
          "name": "stdout",
          "text": [
            "<class 'pandas.core.frame.DataFrame'>\n",
            "Int64Index: 4771 entries, 0 to 4801\n",
            "Data columns (total 6 columns):\n",
            " #   Column       Non-Null Count  Dtype  \n",
            "---  ------       --------------  -----  \n",
            " 0   title        4771 non-null   object \n",
            " 1   tagline      4771 non-null   object \n",
            " 2   overview     4771 non-null   object \n",
            " 3   genres       4771 non-null   object \n",
            " 4   popularity   4771 non-null   float64\n",
            " 5   description  4771 non-null   object \n",
            "dtypes: float64(1), object(5)\n",
            "memory usage: 260.9+ KB\n"
          ]
        }
      ]
    },
    {
      "cell_type": "code",
      "execution_count": 22,
      "id": "5a5747fb",
      "metadata": {
        "id": "5a5747fb",
        "colab": {
          "base_uri": "https://localhost:8080/",
          "height": 293
        },
        "outputId": "d4cf6a9c-d416-47d7-af81-ec3011069fef"
      },
      "outputs": [
        {
          "output_type": "execute_result",
          "data": {
            "text/plain": [
              "                                      title  \\\n",
              "0                                    Avatar   \n",
              "1  Pirates of the Caribbean: At World's End   \n",
              "2                                   Spectre   \n",
              "3                     The Dark Knight Rises   \n",
              "4                               John Carter   \n",
              "\n",
              "                                          tagline  \\\n",
              "0                     Enter the World of Pandora.   \n",
              "1  At the end of the world, the adventure begins.   \n",
              "2                           A Plan No One Escapes   \n",
              "3                                 The Legend Ends   \n",
              "4            Lost in our world, found in another.   \n",
              "\n",
              "                                            overview  \\\n",
              "0  In the 22nd century, a paraplegic Marine is di...   \n",
              "1  Captain Barbossa, long believed to be dead, ha...   \n",
              "2  A cryptic message from Bond’s past sends him o...   \n",
              "3  Following the death of District Attorney Harve...   \n",
              "4  John Carter is a war-weary, former military ca...   \n",
              "\n",
              "                                        genres  popularity  \\\n",
              "0  Action, Adventure, Fantasy, Science Fiction  150.437577   \n",
              "1                   Adventure, Fantasy, Action  139.082615   \n",
              "2                     Action, Adventure, Crime  107.376788   \n",
              "3               Action, Crime, Drama, Thriller  112.312950   \n",
              "4           Action, Adventure, Science Fiction   43.926995   \n",
              "\n",
              "                                         description  \n",
              "0  Enter the World of Pandora. In the 22nd centur...  \n",
              "1  At the end of the world, the adventure begins....  \n",
              "2  A Plan No One Escapes A cryptic message from B...  \n",
              "3  The Legend Ends Following the death of Distric...  \n",
              "4  Lost in our world, found in another. John Cart...  "
            ],
            "text/html": [
              "\n",
              "  <div id=\"df-55eef6e4-4b79-4759-8e5a-f3814cc89281\" class=\"colab-df-container\">\n",
              "    <div>\n",
              "<style scoped>\n",
              "    .dataframe tbody tr th:only-of-type {\n",
              "        vertical-align: middle;\n",
              "    }\n",
              "\n",
              "    .dataframe tbody tr th {\n",
              "        vertical-align: top;\n",
              "    }\n",
              "\n",
              "    .dataframe thead th {\n",
              "        text-align: right;\n",
              "    }\n",
              "</style>\n",
              "<table border=\"1\" class=\"dataframe\">\n",
              "  <thead>\n",
              "    <tr style=\"text-align: right;\">\n",
              "      <th></th>\n",
              "      <th>title</th>\n",
              "      <th>tagline</th>\n",
              "      <th>overview</th>\n",
              "      <th>genres</th>\n",
              "      <th>popularity</th>\n",
              "      <th>description</th>\n",
              "    </tr>\n",
              "  </thead>\n",
              "  <tbody>\n",
              "    <tr>\n",
              "      <th>0</th>\n",
              "      <td>Avatar</td>\n",
              "      <td>Enter the World of Pandora.</td>\n",
              "      <td>In the 22nd century, a paraplegic Marine is di...</td>\n",
              "      <td>Action, Adventure, Fantasy, Science Fiction</td>\n",
              "      <td>150.437577</td>\n",
              "      <td>Enter the World of Pandora. In the 22nd centur...</td>\n",
              "    </tr>\n",
              "    <tr>\n",
              "      <th>1</th>\n",
              "      <td>Pirates of the Caribbean: At World's End</td>\n",
              "      <td>At the end of the world, the adventure begins.</td>\n",
              "      <td>Captain Barbossa, long believed to be dead, ha...</td>\n",
              "      <td>Adventure, Fantasy, Action</td>\n",
              "      <td>139.082615</td>\n",
              "      <td>At the end of the world, the adventure begins....</td>\n",
              "    </tr>\n",
              "    <tr>\n",
              "      <th>2</th>\n",
              "      <td>Spectre</td>\n",
              "      <td>A Plan No One Escapes</td>\n",
              "      <td>A cryptic message from Bond’s past sends him o...</td>\n",
              "      <td>Action, Adventure, Crime</td>\n",
              "      <td>107.376788</td>\n",
              "      <td>A Plan No One Escapes A cryptic message from B...</td>\n",
              "    </tr>\n",
              "    <tr>\n",
              "      <th>3</th>\n",
              "      <td>The Dark Knight Rises</td>\n",
              "      <td>The Legend Ends</td>\n",
              "      <td>Following the death of District Attorney Harve...</td>\n",
              "      <td>Action, Crime, Drama, Thriller</td>\n",
              "      <td>112.312950</td>\n",
              "      <td>The Legend Ends Following the death of Distric...</td>\n",
              "    </tr>\n",
              "    <tr>\n",
              "      <th>4</th>\n",
              "      <td>John Carter</td>\n",
              "      <td>Lost in our world, found in another.</td>\n",
              "      <td>John Carter is a war-weary, former military ca...</td>\n",
              "      <td>Action, Adventure, Science Fiction</td>\n",
              "      <td>43.926995</td>\n",
              "      <td>Lost in our world, found in another. John Cart...</td>\n",
              "    </tr>\n",
              "  </tbody>\n",
              "</table>\n",
              "</div>\n",
              "    <div class=\"colab-df-buttons\">\n",
              "\n",
              "  <div class=\"colab-df-container\">\n",
              "    <button class=\"colab-df-convert\" onclick=\"convertToInteractive('df-55eef6e4-4b79-4759-8e5a-f3814cc89281')\"\n",
              "            title=\"Convert this dataframe to an interactive table.\"\n",
              "            style=\"display:none;\">\n",
              "\n",
              "  <svg xmlns=\"http://www.w3.org/2000/svg\" height=\"24px\" viewBox=\"0 -960 960 960\">\n",
              "    <path d=\"M120-120v-720h720v720H120Zm60-500h600v-160H180v160Zm220 220h160v-160H400v160Zm0 220h160v-160H400v160ZM180-400h160v-160H180v160Zm440 0h160v-160H620v160ZM180-180h160v-160H180v160Zm440 0h160v-160H620v160Z\"/>\n",
              "  </svg>\n",
              "    </button>\n",
              "\n",
              "  <style>\n",
              "    .colab-df-container {\n",
              "      display:flex;\n",
              "      gap: 12px;\n",
              "    }\n",
              "\n",
              "    .colab-df-convert {\n",
              "      background-color: #E8F0FE;\n",
              "      border: none;\n",
              "      border-radius: 50%;\n",
              "      cursor: pointer;\n",
              "      display: none;\n",
              "      fill: #1967D2;\n",
              "      height: 32px;\n",
              "      padding: 0 0 0 0;\n",
              "      width: 32px;\n",
              "    }\n",
              "\n",
              "    .colab-df-convert:hover {\n",
              "      background-color: #E2EBFA;\n",
              "      box-shadow: 0px 1px 2px rgba(60, 64, 67, 0.3), 0px 1px 3px 1px rgba(60, 64, 67, 0.15);\n",
              "      fill: #174EA6;\n",
              "    }\n",
              "\n",
              "    .colab-df-buttons div {\n",
              "      margin-bottom: 4px;\n",
              "    }\n",
              "\n",
              "    [theme=dark] .colab-df-convert {\n",
              "      background-color: #3B4455;\n",
              "      fill: #D2E3FC;\n",
              "    }\n",
              "\n",
              "    [theme=dark] .colab-df-convert:hover {\n",
              "      background-color: #434B5C;\n",
              "      box-shadow: 0px 1px 3px 1px rgba(0, 0, 0, 0.15);\n",
              "      filter: drop-shadow(0px 1px 2px rgba(0, 0, 0, 0.3));\n",
              "      fill: #FFFFFF;\n",
              "    }\n",
              "  </style>\n",
              "\n",
              "    <script>\n",
              "      const buttonEl =\n",
              "        document.querySelector('#df-55eef6e4-4b79-4759-8e5a-f3814cc89281 button.colab-df-convert');\n",
              "      buttonEl.style.display =\n",
              "        google.colab.kernel.accessAllowed ? 'block' : 'none';\n",
              "\n",
              "      async function convertToInteractive(key) {\n",
              "        const element = document.querySelector('#df-55eef6e4-4b79-4759-8e5a-f3814cc89281');\n",
              "        const dataTable =\n",
              "          await google.colab.kernel.invokeFunction('convertToInteractive',\n",
              "                                                    [key], {});\n",
              "        if (!dataTable) return;\n",
              "\n",
              "        const docLinkHtml = 'Like what you see? Visit the ' +\n",
              "          '<a target=\"_blank\" href=https://colab.research.google.com/notebooks/data_table.ipynb>data table notebook</a>'\n",
              "          + ' to learn more about interactive tables.';\n",
              "        element.innerHTML = '';\n",
              "        dataTable['output_type'] = 'display_data';\n",
              "        await google.colab.output.renderOutput(dataTable, element);\n",
              "        const docLink = document.createElement('div');\n",
              "        docLink.innerHTML = docLinkHtml;\n",
              "        element.appendChild(docLink);\n",
              "      }\n",
              "    </script>\n",
              "  </div>\n",
              "\n",
              "\n",
              "<div id=\"df-4647c86e-313f-4ed8-b412-1a658dbbe20a\">\n",
              "  <button class=\"colab-df-quickchart\" onclick=\"quickchart('df-4647c86e-313f-4ed8-b412-1a658dbbe20a')\"\n",
              "            title=\"Suggest charts\"\n",
              "            style=\"display:none;\">\n",
              "\n",
              "<svg xmlns=\"http://www.w3.org/2000/svg\" height=\"24px\"viewBox=\"0 0 24 24\"\n",
              "     width=\"24px\">\n",
              "    <g>\n",
              "        <path d=\"M19 3H5c-1.1 0-2 .9-2 2v14c0 1.1.9 2 2 2h14c1.1 0 2-.9 2-2V5c0-1.1-.9-2-2-2zM9 17H7v-7h2v7zm4 0h-2V7h2v10zm4 0h-2v-4h2v4z\"/>\n",
              "    </g>\n",
              "</svg>\n",
              "  </button>\n",
              "\n",
              "<style>\n",
              "  .colab-df-quickchart {\n",
              "      --bg-color: #E8F0FE;\n",
              "      --fill-color: #1967D2;\n",
              "      --hover-bg-color: #E2EBFA;\n",
              "      --hover-fill-color: #174EA6;\n",
              "      --disabled-fill-color: #AAA;\n",
              "      --disabled-bg-color: #DDD;\n",
              "  }\n",
              "\n",
              "  [theme=dark] .colab-df-quickchart {\n",
              "      --bg-color: #3B4455;\n",
              "      --fill-color: #D2E3FC;\n",
              "      --hover-bg-color: #434B5C;\n",
              "      --hover-fill-color: #FFFFFF;\n",
              "      --disabled-bg-color: #3B4455;\n",
              "      --disabled-fill-color: #666;\n",
              "  }\n",
              "\n",
              "  .colab-df-quickchart {\n",
              "    background-color: var(--bg-color);\n",
              "    border: none;\n",
              "    border-radius: 50%;\n",
              "    cursor: pointer;\n",
              "    display: none;\n",
              "    fill: var(--fill-color);\n",
              "    height: 32px;\n",
              "    padding: 0;\n",
              "    width: 32px;\n",
              "  }\n",
              "\n",
              "  .colab-df-quickchart:hover {\n",
              "    background-color: var(--hover-bg-color);\n",
              "    box-shadow: 0 1px 2px rgba(60, 64, 67, 0.3), 0 1px 3px 1px rgba(60, 64, 67, 0.15);\n",
              "    fill: var(--button-hover-fill-color);\n",
              "  }\n",
              "\n",
              "  .colab-df-quickchart-complete:disabled,\n",
              "  .colab-df-quickchart-complete:disabled:hover {\n",
              "    background-color: var(--disabled-bg-color);\n",
              "    fill: var(--disabled-fill-color);\n",
              "    box-shadow: none;\n",
              "  }\n",
              "\n",
              "  .colab-df-spinner {\n",
              "    border: 2px solid var(--fill-color);\n",
              "    border-color: transparent;\n",
              "    border-bottom-color: var(--fill-color);\n",
              "    animation:\n",
              "      spin 1s steps(1) infinite;\n",
              "  }\n",
              "\n",
              "  @keyframes spin {\n",
              "    0% {\n",
              "      border-color: transparent;\n",
              "      border-bottom-color: var(--fill-color);\n",
              "      border-left-color: var(--fill-color);\n",
              "    }\n",
              "    20% {\n",
              "      border-color: transparent;\n",
              "      border-left-color: var(--fill-color);\n",
              "      border-top-color: var(--fill-color);\n",
              "    }\n",
              "    30% {\n",
              "      border-color: transparent;\n",
              "      border-left-color: var(--fill-color);\n",
              "      border-top-color: var(--fill-color);\n",
              "      border-right-color: var(--fill-color);\n",
              "    }\n",
              "    40% {\n",
              "      border-color: transparent;\n",
              "      border-right-color: var(--fill-color);\n",
              "      border-top-color: var(--fill-color);\n",
              "    }\n",
              "    60% {\n",
              "      border-color: transparent;\n",
              "      border-right-color: var(--fill-color);\n",
              "    }\n",
              "    80% {\n",
              "      border-color: transparent;\n",
              "      border-right-color: var(--fill-color);\n",
              "      border-bottom-color: var(--fill-color);\n",
              "    }\n",
              "    90% {\n",
              "      border-color: transparent;\n",
              "      border-bottom-color: var(--fill-color);\n",
              "    }\n",
              "  }\n",
              "</style>\n",
              "\n",
              "  <script>\n",
              "    async function quickchart(key) {\n",
              "      const quickchartButtonEl =\n",
              "        document.querySelector('#' + key + ' button');\n",
              "      quickchartButtonEl.disabled = true;  // To prevent multiple clicks.\n",
              "      quickchartButtonEl.classList.add('colab-df-spinner');\n",
              "      try {\n",
              "        const charts = await google.colab.kernel.invokeFunction(\n",
              "            'suggestCharts', [key], {});\n",
              "      } catch (error) {\n",
              "        console.error('Error during call to suggestCharts:', error);\n",
              "      }\n",
              "      quickchartButtonEl.classList.remove('colab-df-spinner');\n",
              "      quickchartButtonEl.classList.add('colab-df-quickchart-complete');\n",
              "    }\n",
              "    (() => {\n",
              "      let quickchartButtonEl =\n",
              "        document.querySelector('#df-4647c86e-313f-4ed8-b412-1a658dbbe20a button');\n",
              "      quickchartButtonEl.style.display =\n",
              "        google.colab.kernel.accessAllowed ? 'block' : 'none';\n",
              "    })();\n",
              "  </script>\n",
              "</div>\n",
              "    </div>\n",
              "  </div>\n"
            ],
            "application/vnd.google.colaboratory.intrinsic+json": {
              "type": "dataframe",
              "variable_name": "df",
              "summary": "{\n  \"name\": \"df\",\n  \"rows\": 4771,\n  \"fields\": [\n    {\n      \"column\": \"title\",\n      \"properties\": {\n        \"dtype\": \"string\",\n        \"num_unique_values\": 4768,\n        \"samples\": [\n          \"For Love of the Game\",\n          \"Connie and Carla\",\n          \"The Muse\"\n        ],\n        \"semantic_type\": \"\",\n        \"description\": \"\"\n      }\n    },\n    {\n      \"column\": \"tagline\",\n      \"properties\": {\n        \"dtype\": \"string\",\n        \"num_unique_values\": 3941,\n        \"samples\": [\n          \"They're closer than you think.\",\n          \"This time he's fighting for his life.\",\n          \"The most daring rescue mission of our time is a story that has never been told\"\n        ],\n        \"semantic_type\": \"\",\n        \"description\": \"\"\n      }\n    },\n    {\n      \"column\": \"overview\",\n      \"properties\": {\n        \"dtype\": \"string\",\n        \"num_unique_values\": 4771,\n        \"samples\": [\n          \"A baseball legend almost finished with his distinguished career at the age of forty has one last chance to prove who he is, what he is capable of, and win the heart of the woman he has loved for the past four years.\",\n          \"There's a deadly zombie epidemic threatening humanity, but Wade, a small-town farmer and family man, refuses to accept defeat even when his daughter Maggie becomes infected. As Maggie's condition worsens and the authorities seek to eradicate those with the virus, Wade is pushed to the limits in an effort to protect her. Joely Richardson co-stars in this post-apocalyptic thriller.\",\n          \"Three stories happening in New York. The first, by Scorsese, is about a painter who creates his works helped by high volume music and an attractive assistant; second, by Coppola, is about a rich and bold 12 years old who helps her separated parents to reconciliate; third, by Allen, is a witty piece of comedy about the impossibility of getting rid of the son's role.\"\n        ],\n        \"semantic_type\": \"\",\n        \"description\": \"\"\n      }\n    },\n    {\n      \"column\": \"genres\",\n      \"properties\": {\n        \"dtype\": \"category\",\n        \"num_unique_values\": 1174,\n        \"samples\": [\n          \"Action, Science Fiction, Fantasy, Thriller, Horror\",\n          \"Comedy, Music, Family, Fantasy, Animation\",\n          \"Romance, Horror, Comedy, Thriller\"\n        ],\n        \"semantic_type\": \"\",\n        \"description\": \"\"\n      }\n    },\n    {\n      \"column\": \"popularity\",\n      \"properties\": {\n        \"dtype\": \"number\",\n        \"std\": 31.876156109401194,\n        \"min\": 0.000372,\n        \"max\": 875.581305,\n        \"num_unique_values\": 4770,\n        \"samples\": [\n          9.622345,\n          6.102663,\n          2.857936\n        ],\n        \"semantic_type\": \"\",\n        \"description\": \"\"\n      }\n    },\n    {\n      \"column\": \"description\",\n      \"properties\": {\n        \"dtype\": \"string\",\n        \"num_unique_values\": 4771,\n        \"samples\": [\n          \"Billy Chapel must choose between the woman he loves and the game he lives for. A baseball legend almost finished with his distinguished career at the age of forty has one last chance to prove who he is, what he is capable of, and win the heart of the woman he has loved for the past four years. Drama, Romance\",\n          \"Don't Get Bitten There's a deadly zombie epidemic threatening humanity, but Wade, a small-town farmer and family man, refuses to accept defeat even when his daughter Maggie becomes infected. As Maggie's condition worsens and the authorities seek to eradicate those with the virus, Wade is pushed to the limits in an effort to protect her. Joely Richardson co-stars in this post-apocalyptic thriller. Horror\",\n          \"One city, three stories tall. Three stories happening in New York. The first, by Scorsese, is about a painter who creates his works helped by high volume music and an attractive assistant; second, by Coppola, is about a rich and bold 12 years old who helps her separated parents to reconciliate; third, by Allen, is a witty piece of comedy about the impossibility of getting rid of the son's role. Comedy, Drama, Romance\"\n        ],\n        \"semantic_type\": \"\",\n        \"description\": \"\"\n      }\n    }\n  ]\n}"
            }
          },
          "metadata": {},
          "execution_count": 22
        }
      ],
      "source": [
        "df.head()"
      ]
    },
    {
      "cell_type": "code",
      "source": [
        "df['description'].loc[0]"
      ],
      "metadata": {
        "id": "H_m2Y0a9QFd7",
        "colab": {
          "base_uri": "https://localhost:8080/",
          "height": 52
        },
        "outputId": "9d4073b4-a11a-4ded-bcaa-1e9b354456f5"
      },
      "id": "H_m2Y0a9QFd7",
      "execution_count": 26,
      "outputs": [
        {
          "output_type": "execute_result",
          "data": {
            "text/plain": [
              "'Enter the World of Pandora. In the 22nd century, a paraplegic Marine is dispatched to the moon Pandora on a unique mission, but becomes torn between following orders and protecting an alien civilization. Action, Adventure, Fantasy, Science Fiction'"
            ],
            "application/vnd.google.colaboratory.intrinsic+json": {
              "type": "string"
            }
          },
          "metadata": {},
          "execution_count": 26
        }
      ]
    },
    {
      "cell_type": "markdown",
      "id": "ef9c20bc",
      "metadata": {
        "id": "ef9c20bc"
      },
      "source": [
        "### 2) Preprocess the Text\n",
        "\n",
        "In this next step we will define a normalize document function since this isn't particulary complicated text. Let's think about what steps we need to take in cleaning and normalization, and which we don't."
      ]
    },
    {
      "cell_type": "code",
      "execution_count": 27,
      "id": "b6a43b6b",
      "metadata": {
        "id": "b6a43b6b",
        "colab": {
          "base_uri": "https://localhost:8080/"
        },
        "outputId": "fb3ba7cf-e82f-4a60-8a38-1f9cd72aecd9"
      },
      "outputs": [
        {
          "output_type": "execute_result",
          "data": {
            "text/plain": [
              "4771"
            ]
          },
          "metadata": {},
          "execution_count": 27
        }
      ],
      "source": [
        "stop_words = nltk.corpus.stopwords.words('english')\n",
        "\n",
        "# add comments\n",
        "def normalize_document(doc):\n",
        "    doc = re.sub(r'[^a-zA-Z0-9\\s]', '', doc, re.I|re.A)\n",
        "    doc = doc.lower()\n",
        "    doc = doc.strip()\n",
        "    tokens = nltk.word_tokenize(doc)\n",
        "    filtered_tokens = [token for token in tokens if token not in stop_words]\n",
        "    doc = ' '.join(filtered_tokens)\n",
        "    return doc\n",
        "\n",
        "normalize_corpus = np.vectorize(normalize_document)\n",
        "\n",
        "norm_corpus = normalize_corpus(list(df['description'])) # add input\n",
        "len(norm_corpus)"
      ]
    },
    {
      "cell_type": "code",
      "execution_count": 28,
      "id": "84b12f99",
      "metadata": {
        "id": "84b12f99",
        "colab": {
          "base_uri": "https://localhost:8080/"
        },
        "outputId": "e85fcdc7-2ada-41e6-ee85-7870441c0b98"
      },
      "outputs": [
        {
          "output_type": "execute_result",
          "data": {
            "text/plain": [
              "array(['enter world pandora 22nd century paraplegic marine dispatched moon pandora unique mission becomes torn following orders protecting alien civilization action adventure fantasy science fiction',\n",
              "       'end world adventure begins captain barbossa long believed dead come back life headed edge earth turner elizabeth swann nothing quite seems adventure fantasy action'],\n",
              "      dtype='<U823')"
            ]
          },
          "metadata": {},
          "execution_count": 28
        }
      ],
      "source": [
        "norm_corpus[0:2]"
      ]
    },
    {
      "cell_type": "markdown",
      "id": "a33023b8",
      "metadata": {
        "id": "a33023b8"
      },
      "source": [
        "### 3) Feature Engineering - Extract TF-IDF Features\n",
        "\n",
        "For this task we will use TFIDF features, and will utilize the `TfidfVectorizer` from `sklearn`."
      ]
    },
    {
      "cell_type": "code",
      "execution_count": 30,
      "id": "85acf6c2",
      "metadata": {
        "id": "85acf6c2",
        "colab": {
          "base_uri": "https://localhost:8080/"
        },
        "outputId": "eca94f3a-f0ec-4817-d5e7-2ab8aba9c29f"
      },
      "outputs": [
        {
          "output_type": "execute_result",
          "data": {
            "text/plain": [
              "(4771, 21385)"
            ]
          },
          "metadata": {},
          "execution_count": 30
        }
      ],
      "source": [
        "# set parameters for tf-idf for unigrams and bigrams\n",
        "tf = TfidfVectorizer(ngram_range=(1,2),min_df=2, max_df=0.8)\n",
        "# extract tfidf features from norm_corpus\n",
        "tfidf_matrix = tf.fit_transform(norm_corpus)\n",
        "tfidf_matrix.shape"
      ]
    },
    {
      "cell_type": "markdown",
      "id": "151e5e17",
      "metadata": {
        "id": "151e5e17"
      },
      "source": [
        "### 4a) Compute Pairwise Document Similarity - Cosine Similarity\n",
        "\n",
        "We'll run through calculating document similarity first with cosine similarity, then we'll repeat the process with our second distance metric."
      ]
    },
    {
      "cell_type": "code",
      "execution_count": 32,
      "id": "a9144966",
      "metadata": {
        "scrolled": true,
        "id": "a9144966",
        "colab": {
          "base_uri": "https://localhost:8080/",
          "height": 255
        },
        "outputId": "78ac9eba-9ec1-4d3b-9977-85359de33b2a"
      },
      "outputs": [
        {
          "output_type": "execute_result",
          "data": {
            "text/plain": [
              "       0         1         2         3         4         5         6     \\\n",
              "0  1.000000  0.064992  0.023083  0.020625  0.069052  0.053474  0.004955   \n",
              "1  0.064992  1.000000  0.028223  0.003318  0.052748  0.049763  0.010109   \n",
              "2  0.023083  0.028223  1.000000  0.006774  0.017930  0.018678  0.004266   \n",
              "3  0.020625  0.003318  0.006774  1.000000  0.010695  0.002631  0.015687   \n",
              "4  0.069052  0.052748  0.017930  0.010695  1.000000  0.016853  0.025817   \n",
              "\n",
              "       7         8         9     ...      4761      4762      4763      4764  \\\n",
              "0  0.069593  0.037559  0.051728  ...  0.000000  0.009096  0.000000  0.021824   \n",
              "1  0.038441  0.075137  0.047580  ...  0.019820  0.009279  0.000000  0.004484   \n",
              "2  0.043630  0.019999  0.021500  ...  0.011901  0.041418  0.000000  0.000000   \n",
              "3  0.026388  0.025063  0.071573  ...  0.010890  0.001689  0.002929  0.010470   \n",
              "4  0.077786  0.005009  0.036908  ...  0.016926  0.014130  0.000000  0.000000   \n",
              "\n",
              "       4765      4766      4767  4768      4769      4770  \n",
              "0  0.054488  0.000000  0.003581   0.0  0.006076  0.000000  \n",
              "1  0.000000  0.000000  0.015138   0.0  0.019668  0.000000  \n",
              "2  0.000000  0.016125  0.007459   0.0  0.010665  0.003929  \n",
              "3  0.011020  0.001677  0.015488   0.0  0.027206  0.027233  \n",
              "4  0.018699  0.000000  0.012786   0.0  0.009440  0.000000  \n",
              "\n",
              "[5 rows x 4771 columns]"
            ],
            "text/html": [
              "\n",
              "  <div id=\"df-f275835e-9a09-4169-b2e9-182054a90fce\" class=\"colab-df-container\">\n",
              "    <div>\n",
              "<style scoped>\n",
              "    .dataframe tbody tr th:only-of-type {\n",
              "        vertical-align: middle;\n",
              "    }\n",
              "\n",
              "    .dataframe tbody tr th {\n",
              "        vertical-align: top;\n",
              "    }\n",
              "\n",
              "    .dataframe thead th {\n",
              "        text-align: right;\n",
              "    }\n",
              "</style>\n",
              "<table border=\"1\" class=\"dataframe\">\n",
              "  <thead>\n",
              "    <tr style=\"text-align: right;\">\n",
              "      <th></th>\n",
              "      <th>0</th>\n",
              "      <th>1</th>\n",
              "      <th>2</th>\n",
              "      <th>3</th>\n",
              "      <th>4</th>\n",
              "      <th>5</th>\n",
              "      <th>6</th>\n",
              "      <th>7</th>\n",
              "      <th>8</th>\n",
              "      <th>9</th>\n",
              "      <th>...</th>\n",
              "      <th>4761</th>\n",
              "      <th>4762</th>\n",
              "      <th>4763</th>\n",
              "      <th>4764</th>\n",
              "      <th>4765</th>\n",
              "      <th>4766</th>\n",
              "      <th>4767</th>\n",
              "      <th>4768</th>\n",
              "      <th>4769</th>\n",
              "      <th>4770</th>\n",
              "    </tr>\n",
              "  </thead>\n",
              "  <tbody>\n",
              "    <tr>\n",
              "      <th>0</th>\n",
              "      <td>1.000000</td>\n",
              "      <td>0.064992</td>\n",
              "      <td>0.023083</td>\n",
              "      <td>0.020625</td>\n",
              "      <td>0.069052</td>\n",
              "      <td>0.053474</td>\n",
              "      <td>0.004955</td>\n",
              "      <td>0.069593</td>\n",
              "      <td>0.037559</td>\n",
              "      <td>0.051728</td>\n",
              "      <td>...</td>\n",
              "      <td>0.000000</td>\n",
              "      <td>0.009096</td>\n",
              "      <td>0.000000</td>\n",
              "      <td>0.021824</td>\n",
              "      <td>0.054488</td>\n",
              "      <td>0.000000</td>\n",
              "      <td>0.003581</td>\n",
              "      <td>0.0</td>\n",
              "      <td>0.006076</td>\n",
              "      <td>0.000000</td>\n",
              "    </tr>\n",
              "    <tr>\n",
              "      <th>1</th>\n",
              "      <td>0.064992</td>\n",
              "      <td>1.000000</td>\n",
              "      <td>0.028223</td>\n",
              "      <td>0.003318</td>\n",
              "      <td>0.052748</td>\n",
              "      <td>0.049763</td>\n",
              "      <td>0.010109</td>\n",
              "      <td>0.038441</td>\n",
              "      <td>0.075137</td>\n",
              "      <td>0.047580</td>\n",
              "      <td>...</td>\n",
              "      <td>0.019820</td>\n",
              "      <td>0.009279</td>\n",
              "      <td>0.000000</td>\n",
              "      <td>0.004484</td>\n",
              "      <td>0.000000</td>\n",
              "      <td>0.000000</td>\n",
              "      <td>0.015138</td>\n",
              "      <td>0.0</td>\n",
              "      <td>0.019668</td>\n",
              "      <td>0.000000</td>\n",
              "    </tr>\n",
              "    <tr>\n",
              "      <th>2</th>\n",
              "      <td>0.023083</td>\n",
              "      <td>0.028223</td>\n",
              "      <td>1.000000</td>\n",
              "      <td>0.006774</td>\n",
              "      <td>0.017930</td>\n",
              "      <td>0.018678</td>\n",
              "      <td>0.004266</td>\n",
              "      <td>0.043630</td>\n",
              "      <td>0.019999</td>\n",
              "      <td>0.021500</td>\n",
              "      <td>...</td>\n",
              "      <td>0.011901</td>\n",
              "      <td>0.041418</td>\n",
              "      <td>0.000000</td>\n",
              "      <td>0.000000</td>\n",
              "      <td>0.000000</td>\n",
              "      <td>0.016125</td>\n",
              "      <td>0.007459</td>\n",
              "      <td>0.0</td>\n",
              "      <td>0.010665</td>\n",
              "      <td>0.003929</td>\n",
              "    </tr>\n",
              "    <tr>\n",
              "      <th>3</th>\n",
              "      <td>0.020625</td>\n",
              "      <td>0.003318</td>\n",
              "      <td>0.006774</td>\n",
              "      <td>1.000000</td>\n",
              "      <td>0.010695</td>\n",
              "      <td>0.002631</td>\n",
              "      <td>0.015687</td>\n",
              "      <td>0.026388</td>\n",
              "      <td>0.025063</td>\n",
              "      <td>0.071573</td>\n",
              "      <td>...</td>\n",
              "      <td>0.010890</td>\n",
              "      <td>0.001689</td>\n",
              "      <td>0.002929</td>\n",
              "      <td>0.010470</td>\n",
              "      <td>0.011020</td>\n",
              "      <td>0.001677</td>\n",
              "      <td>0.015488</td>\n",
              "      <td>0.0</td>\n",
              "      <td>0.027206</td>\n",
              "      <td>0.027233</td>\n",
              "    </tr>\n",
              "    <tr>\n",
              "      <th>4</th>\n",
              "      <td>0.069052</td>\n",
              "      <td>0.052748</td>\n",
              "      <td>0.017930</td>\n",
              "      <td>0.010695</td>\n",
              "      <td>1.000000</td>\n",
              "      <td>0.016853</td>\n",
              "      <td>0.025817</td>\n",
              "      <td>0.077786</td>\n",
              "      <td>0.005009</td>\n",
              "      <td>0.036908</td>\n",
              "      <td>...</td>\n",
              "      <td>0.016926</td>\n",
              "      <td>0.014130</td>\n",
              "      <td>0.000000</td>\n",
              "      <td>0.000000</td>\n",
              "      <td>0.018699</td>\n",
              "      <td>0.000000</td>\n",
              "      <td>0.012786</td>\n",
              "      <td>0.0</td>\n",
              "      <td>0.009440</td>\n",
              "      <td>0.000000</td>\n",
              "    </tr>\n",
              "  </tbody>\n",
              "</table>\n",
              "<p>5 rows × 4771 columns</p>\n",
              "</div>\n",
              "    <div class=\"colab-df-buttons\">\n",
              "\n",
              "  <div class=\"colab-df-container\">\n",
              "    <button class=\"colab-df-convert\" onclick=\"convertToInteractive('df-f275835e-9a09-4169-b2e9-182054a90fce')\"\n",
              "            title=\"Convert this dataframe to an interactive table.\"\n",
              "            style=\"display:none;\">\n",
              "\n",
              "  <svg xmlns=\"http://www.w3.org/2000/svg\" height=\"24px\" viewBox=\"0 -960 960 960\">\n",
              "    <path d=\"M120-120v-720h720v720H120Zm60-500h600v-160H180v160Zm220 220h160v-160H400v160Zm0 220h160v-160H400v160ZM180-400h160v-160H180v160Zm440 0h160v-160H620v160ZM180-180h160v-160H180v160Zm440 0h160v-160H620v160Z\"/>\n",
              "  </svg>\n",
              "    </button>\n",
              "\n",
              "  <style>\n",
              "    .colab-df-container {\n",
              "      display:flex;\n",
              "      gap: 12px;\n",
              "    }\n",
              "\n",
              "    .colab-df-convert {\n",
              "      background-color: #E8F0FE;\n",
              "      border: none;\n",
              "      border-radius: 50%;\n",
              "      cursor: pointer;\n",
              "      display: none;\n",
              "      fill: #1967D2;\n",
              "      height: 32px;\n",
              "      padding: 0 0 0 0;\n",
              "      width: 32px;\n",
              "    }\n",
              "\n",
              "    .colab-df-convert:hover {\n",
              "      background-color: #E2EBFA;\n",
              "      box-shadow: 0px 1px 2px rgba(60, 64, 67, 0.3), 0px 1px 3px 1px rgba(60, 64, 67, 0.15);\n",
              "      fill: #174EA6;\n",
              "    }\n",
              "\n",
              "    .colab-df-buttons div {\n",
              "      margin-bottom: 4px;\n",
              "    }\n",
              "\n",
              "    [theme=dark] .colab-df-convert {\n",
              "      background-color: #3B4455;\n",
              "      fill: #D2E3FC;\n",
              "    }\n",
              "\n",
              "    [theme=dark] .colab-df-convert:hover {\n",
              "      background-color: #434B5C;\n",
              "      box-shadow: 0px 1px 3px 1px rgba(0, 0, 0, 0.15);\n",
              "      filter: drop-shadow(0px 1px 2px rgba(0, 0, 0, 0.3));\n",
              "      fill: #FFFFFF;\n",
              "    }\n",
              "  </style>\n",
              "\n",
              "    <script>\n",
              "      const buttonEl =\n",
              "        document.querySelector('#df-f275835e-9a09-4169-b2e9-182054a90fce button.colab-df-convert');\n",
              "      buttonEl.style.display =\n",
              "        google.colab.kernel.accessAllowed ? 'block' : 'none';\n",
              "\n",
              "      async function convertToInteractive(key) {\n",
              "        const element = document.querySelector('#df-f275835e-9a09-4169-b2e9-182054a90fce');\n",
              "        const dataTable =\n",
              "          await google.colab.kernel.invokeFunction('convertToInteractive',\n",
              "                                                    [key], {});\n",
              "        if (!dataTable) return;\n",
              "\n",
              "        const docLinkHtml = 'Like what you see? Visit the ' +\n",
              "          '<a target=\"_blank\" href=https://colab.research.google.com/notebooks/data_table.ipynb>data table notebook</a>'\n",
              "          + ' to learn more about interactive tables.';\n",
              "        element.innerHTML = '';\n",
              "        dataTable['output_type'] = 'display_data';\n",
              "        await google.colab.output.renderOutput(dataTable, element);\n",
              "        const docLink = document.createElement('div');\n",
              "        docLink.innerHTML = docLinkHtml;\n",
              "        element.appendChild(docLink);\n",
              "      }\n",
              "    </script>\n",
              "  </div>\n",
              "\n",
              "\n",
              "<div id=\"df-a15ab6dc-fd0d-41d4-9688-4bc7020fcf10\">\n",
              "  <button class=\"colab-df-quickchart\" onclick=\"quickchart('df-a15ab6dc-fd0d-41d4-9688-4bc7020fcf10')\"\n",
              "            title=\"Suggest charts\"\n",
              "            style=\"display:none;\">\n",
              "\n",
              "<svg xmlns=\"http://www.w3.org/2000/svg\" height=\"24px\"viewBox=\"0 0 24 24\"\n",
              "     width=\"24px\">\n",
              "    <g>\n",
              "        <path d=\"M19 3H5c-1.1 0-2 .9-2 2v14c0 1.1.9 2 2 2h14c1.1 0 2-.9 2-2V5c0-1.1-.9-2-2-2zM9 17H7v-7h2v7zm4 0h-2V7h2v10zm4 0h-2v-4h2v4z\"/>\n",
              "    </g>\n",
              "</svg>\n",
              "  </button>\n",
              "\n",
              "<style>\n",
              "  .colab-df-quickchart {\n",
              "      --bg-color: #E8F0FE;\n",
              "      --fill-color: #1967D2;\n",
              "      --hover-bg-color: #E2EBFA;\n",
              "      --hover-fill-color: #174EA6;\n",
              "      --disabled-fill-color: #AAA;\n",
              "      --disabled-bg-color: #DDD;\n",
              "  }\n",
              "\n",
              "  [theme=dark] .colab-df-quickchart {\n",
              "      --bg-color: #3B4455;\n",
              "      --fill-color: #D2E3FC;\n",
              "      --hover-bg-color: #434B5C;\n",
              "      --hover-fill-color: #FFFFFF;\n",
              "      --disabled-bg-color: #3B4455;\n",
              "      --disabled-fill-color: #666;\n",
              "  }\n",
              "\n",
              "  .colab-df-quickchart {\n",
              "    background-color: var(--bg-color);\n",
              "    border: none;\n",
              "    border-radius: 50%;\n",
              "    cursor: pointer;\n",
              "    display: none;\n",
              "    fill: var(--fill-color);\n",
              "    height: 32px;\n",
              "    padding: 0;\n",
              "    width: 32px;\n",
              "  }\n",
              "\n",
              "  .colab-df-quickchart:hover {\n",
              "    background-color: var(--hover-bg-color);\n",
              "    box-shadow: 0 1px 2px rgba(60, 64, 67, 0.3), 0 1px 3px 1px rgba(60, 64, 67, 0.15);\n",
              "    fill: var(--button-hover-fill-color);\n",
              "  }\n",
              "\n",
              "  .colab-df-quickchart-complete:disabled,\n",
              "  .colab-df-quickchart-complete:disabled:hover {\n",
              "    background-color: var(--disabled-bg-color);\n",
              "    fill: var(--disabled-fill-color);\n",
              "    box-shadow: none;\n",
              "  }\n",
              "\n",
              "  .colab-df-spinner {\n",
              "    border: 2px solid var(--fill-color);\n",
              "    border-color: transparent;\n",
              "    border-bottom-color: var(--fill-color);\n",
              "    animation:\n",
              "      spin 1s steps(1) infinite;\n",
              "  }\n",
              "\n",
              "  @keyframes spin {\n",
              "    0% {\n",
              "      border-color: transparent;\n",
              "      border-bottom-color: var(--fill-color);\n",
              "      border-left-color: var(--fill-color);\n",
              "    }\n",
              "    20% {\n",
              "      border-color: transparent;\n",
              "      border-left-color: var(--fill-color);\n",
              "      border-top-color: var(--fill-color);\n",
              "    }\n",
              "    30% {\n",
              "      border-color: transparent;\n",
              "      border-left-color: var(--fill-color);\n",
              "      border-top-color: var(--fill-color);\n",
              "      border-right-color: var(--fill-color);\n",
              "    }\n",
              "    40% {\n",
              "      border-color: transparent;\n",
              "      border-right-color: var(--fill-color);\n",
              "      border-top-color: var(--fill-color);\n",
              "    }\n",
              "    60% {\n",
              "      border-color: transparent;\n",
              "      border-right-color: var(--fill-color);\n",
              "    }\n",
              "    80% {\n",
              "      border-color: transparent;\n",
              "      border-right-color: var(--fill-color);\n",
              "      border-bottom-color: var(--fill-color);\n",
              "    }\n",
              "    90% {\n",
              "      border-color: transparent;\n",
              "      border-bottom-color: var(--fill-color);\n",
              "    }\n",
              "  }\n",
              "</style>\n",
              "\n",
              "  <script>\n",
              "    async function quickchart(key) {\n",
              "      const quickchartButtonEl =\n",
              "        document.querySelector('#' + key + ' button');\n",
              "      quickchartButtonEl.disabled = true;  // To prevent multiple clicks.\n",
              "      quickchartButtonEl.classList.add('colab-df-spinner');\n",
              "      try {\n",
              "        const charts = await google.colab.kernel.invokeFunction(\n",
              "            'suggestCharts', [key], {});\n",
              "      } catch (error) {\n",
              "        console.error('Error during call to suggestCharts:', error);\n",
              "      }\n",
              "      quickchartButtonEl.classList.remove('colab-df-spinner');\n",
              "      quickchartButtonEl.classList.add('colab-df-quickchart-complete');\n",
              "    }\n",
              "    (() => {\n",
              "      let quickchartButtonEl =\n",
              "        document.querySelector('#df-a15ab6dc-fd0d-41d4-9688-4bc7020fcf10 button');\n",
              "      quickchartButtonEl.style.display =\n",
              "        google.colab.kernel.accessAllowed ? 'block' : 'none';\n",
              "    })();\n",
              "  </script>\n",
              "</div>\n",
              "    </div>\n",
              "  </div>\n"
            ],
            "application/vnd.google.colaboratory.intrinsic+json": {
              "type": "dataframe",
              "variable_name": "doc_sim_df"
            }
          },
          "metadata": {},
          "execution_count": 32
        }
      ],
      "source": [
        "doc_sim = cosine_similarity(tfidf_matrix)                                                     # compute document similarity by examining the cosine similairty b/w documents in matrix\n",
        "doc_sim_df = pd.DataFrame(doc_sim)                                                  # take doc_sim, convert to dataframe\n",
        "doc_sim_df.head()"
      ]
    },
    {
      "cell_type": "markdown",
      "id": "30474abe",
      "metadata": {
        "id": "30474abe"
      },
      "source": [
        "### 5a) Find Top Similar Movies for a Sample Movie\n",
        "\n",
        "Our next step will be getting the list of movies from our `df['title']` column, and then examining the top most similar movies for a sample movie choice. Let's see what comes up for the movie *Interstellar* (or you can choose a different one).\n",
        "\n",
        "We'll take the following steps:\n",
        "* Create a list of our movie titles\n",
        "* Locate our sample movie's index number\n",
        "* Save movie similarity values\n",
        "* Extract the top 5 most similar to our sample movie\n",
        "* Print out their names"
      ]
    },
    {
      "cell_type": "code",
      "execution_count": 34,
      "id": "77d02bda",
      "metadata": {
        "id": "77d02bda",
        "colab": {
          "base_uri": "https://localhost:8080/"
        },
        "outputId": "ed0b822d-c39f-407f-9d03-0318552a00af"
      },
      "outputs": [
        {
          "output_type": "execute_result",
          "data": {
            "text/plain": [
              "array(['Avatar', \"Pirates of the Caribbean: At World's End\", 'Spectre',\n",
              "       ..., 'Newlyweds', 'Signed, Sealed, Delivered', 'My Date with Drew'],\n",
              "      dtype=object)"
            ]
          },
          "metadata": {},
          "execution_count": 34
        }
      ],
      "source": [
        "# saving all the unique movie titles to a list\n",
        "movie_list = df['title'].values\n",
        "movie_list"
      ]
    },
    {
      "cell_type": "code",
      "execution_count": 37,
      "id": "e4156999",
      "metadata": {
        "id": "e4156999",
        "colab": {
          "base_uri": "https://localhost:8080/"
        },
        "outputId": "24f76f87-3147-41c2-e7e2-57138526724d"
      },
      "outputs": [
        {
          "output_type": "execute_result",
          "data": {
            "text/plain": [
              "270"
            ]
          },
          "metadata": {},
          "execution_count": 37
        }
      ],
      "source": [
        "# extracted the index number for the sample movie\n",
        "movie_idx = np.where(movie_list == \"The Martian\")[0][0]\n",
        "movie_idx"
      ]
    },
    {
      "cell_type": "code",
      "execution_count": 39,
      "id": "3aae9787",
      "metadata": {
        "id": "3aae9787",
        "colab": {
          "base_uri": "https://localhost:8080/"
        },
        "outputId": "7cd536b9-b738-4443-833b-7dfde3611055"
      },
      "outputs": [
        {
          "output_type": "execute_result",
          "data": {
            "text/plain": [
              "array([0.0417861 , 0.04092668, 0.03534661, ..., 0.        , 0.01132623,\n",
              "       0.        ])"
            ]
          },
          "metadata": {},
          "execution_count": 39
        }
      ],
      "source": [
        "# extracting the similarity scores associated with the sample movie\n",
        "movie_similarities = doc_sim_df.iloc[movie_idx].values\n",
        "movie_similarities"
      ]
    },
    {
      "cell_type": "code",
      "execution_count": 40,
      "id": "50261f5f",
      "metadata": {
        "id": "50261f5f",
        "colab": {
          "base_uri": "https://localhost:8080/"
        },
        "outputId": "114a3141-0ba2-4f9d-be19-6b7b2696fa4a"
      },
      "outputs": [
        {
          "output_type": "execute_result",
          "data": {
            "text/plain": [
              "array(['The Last Days on Mars', 'Swept Away', 'Red Planet', 'Alive',\n",
              "       'Mission to Mars'], dtype=object)"
            ]
          },
          "metadata": {},
          "execution_count": 40
        }
      ],
      "source": [
        "similar_movie_idxs = np.argsort(-movie_similarities)[1:6]                                                     # save the movie index of the top 5 highest similarity scores\n",
        "similar_movies = movie_list[similar_movie_idxs]                                                         # pull out the movie names associated with those top 5 movie indices\n",
        "similar_movies"
      ]
    },
    {
      "cell_type": "code",
      "execution_count": 42,
      "id": "db0a31a5",
      "metadata": {
        "id": "db0a31a5",
        "colab": {
          "base_uri": "https://localhost:8080/",
          "height": 70
        },
        "outputId": "13a66cc6-560f-44bf-a237-25152c0bb8ad"
      },
      "outputs": [
        {
          "output_type": "execute_result",
          "data": {
            "text/plain": [
              "'During a manned mission to Mars, Astronaut Mark Watney is presumed dead after a fierce storm and left behind by his crew. But Watney has survived and finds himself stranded and alone on the hostile planet. With only meager supplies, he must draw upon his ingenuity, wit and spirit to subsist and find a way to signal to Earth that he is alive.'"
            ],
            "application/vnd.google.colaboratory.intrinsic+json": {
              "type": "string"
            }
          },
          "metadata": {},
          "execution_count": 42
        }
      ],
      "source": [
        "df['overview'].loc[270]"
      ]
    },
    {
      "cell_type": "code",
      "execution_count": 43,
      "id": "41a3d4d2",
      "metadata": {
        "id": "41a3d4d2",
        "colab": {
          "base_uri": "https://localhost:8080/"
        },
        "outputId": "9a3cf978-c7f7-4b08-a0c2-d299d3e1cb25"
      },
      "outputs": [
        {
          "output_type": "execute_result",
          "data": {
            "text/plain": [
              "2963"
            ]
          },
          "metadata": {},
          "execution_count": 43
        }
      ],
      "source": [
        "np.where(movie_list == 'The Last Days on Mars')[0][0]"
      ]
    },
    {
      "cell_type": "code",
      "source": [
        "df['overview'].loc[2963]"
      ],
      "metadata": {
        "colab": {
          "base_uri": "https://localhost:8080/",
          "height": 70
        },
        "id": "0RqmjFv2LDmg",
        "outputId": "3375753c-a29b-4c4d-87c6-9f43238b9242"
      },
      "id": "0RqmjFv2LDmg",
      "execution_count": 44,
      "outputs": [
        {
          "output_type": "execute_result",
          "data": {
            "text/plain": [
              "'Sir Robert Chiltern is a successful Government minister, well-off and with a loving wife. All this is threatened when Mrs Cheveley appears in London with damning evidence of a past misdeed. Sir Robert turns for help to his friend Lord Goring, an apparently idle philanderer and the despair of his father. Goring knows the lady of old, and, for him, takes the whole thing pretty seriously.'"
            ],
            "application/vnd.google.colaboratory.intrinsic+json": {
              "type": "string"
            }
          },
          "metadata": {},
          "execution_count": 44
        }
      ]
    },
    {
      "cell_type": "markdown",
      "id": "9b6b5b35",
      "metadata": {
        "id": "9b6b5b35"
      },
      "source": [
        "**How did the movie recommender perform? Are the suggestions logical, are some of them more illogical? Of the recommendations that do make sense, what overlap might be being captured between these movies?**"
      ]
    },
    {
      "cell_type": "markdown",
      "id": "ef7463a2",
      "metadata": {
        "id": "ef7463a2"
      },
      "source": [
        "All of the movies were obviously about mars, which shouldn't be surprising and shows that the model worked."
      ]
    },
    {
      "cell_type": "markdown",
      "id": "c04ebefc",
      "metadata": {
        "id": "c04ebefc"
      },
      "source": [
        "### 6a) Build a movie recommender function\n",
        "\n",
        "Now let's define a function to recommend the top 5 similar movies for any movie in our dataset:"
      ]
    },
    {
      "cell_type": "code",
      "execution_count": 45,
      "id": "dfe4af43",
      "metadata": {
        "id": "dfe4af43"
      },
      "outputs": [],
      "source": [
        "# combine everything done above\n",
        "def movie_recommender(movie_title, movies=movie_list, doc_sims=doc_sim_df):\n",
        "\n",
        "    movie_idx = np.where(movies == movie_title)[0][0]\n",
        "\n",
        "    movie_similarities = doc_sims.iloc[movie_idx].values\n",
        "\n",
        "    similar_movie_idxs = np.argsort(-movie_similarities)[1:6]\n",
        "\n",
        "    similar_movies = movies[similar_movie_idxs]\n",
        "\n",
        "    return print(\"Based on your interest in\", movie_title,\"I'd Recommend checking out:\", similar_movies)"
      ]
    },
    {
      "cell_type": "code",
      "execution_count": 46,
      "id": "a9d6341e",
      "metadata": {
        "id": "a9d6341e",
        "colab": {
          "base_uri": "https://localhost:8080/"
        },
        "outputId": "87aa5a65-f654-43af-d016-41632bbc04dd"
      },
      "outputs": [
        {
          "output_type": "stream",
          "name": "stdout",
          "text": [
            "Based on your interest in Bambi I'd Recommend checking out: ['The Notebook' 'American Dreamz' 'My Dog Tulip'\n",
            " 'Love in the Time of Cholera' 'Veer-Zaara']\n"
          ]
        }
      ],
      "source": [
        "movie_recommender('Bambi') # input movie"
      ]
    },
    {
      "cell_type": "markdown",
      "id": "ec893974",
      "metadata": {
        "id": "ec893974"
      },
      "source": [
        "**Have a friend/family member/partner try out your movie recommender and report how it performs on their selected movie! Did they find a new movie they'd consider watching?**"
      ]
    },
    {
      "cell_type": "markdown",
      "id": "c5152f7b",
      "metadata": {
        "id": "c5152f7b"
      },
      "source": [
        "Maybe. Although I'm not familiar with all of the recomended movies, I was expecting more animated movies and that was not the case."
      ]
    },
    {
      "cell_type": "markdown",
      "source": [
        "## 7) Query-Based Recommendation\n",
        "\n",
        "We can now apply many of the same steps we just took to create a query-based recommendation system instead of a content-based recommendation system. Here, instead of comparing an input movie against all other movies, we'll compare an input query against all the movies -- all still using cosine similarity!"
      ],
      "metadata": {
        "id": "wApUPXGRRi5b"
      },
      "id": "wApUPXGRRi5b"
    },
    {
      "cell_type": "code",
      "source": [
        "def query_movie_recommender(search_query, movies=movie_list, tfidf_matrix=tfidf_matrix):\n",
        "    # Transform the search query into its vector form\n",
        "    query_vector = tf.transform([search_query])\n",
        "\n",
        "    cosine_similarities = cosine_similarity(query_vector, tfidf_matrix)\n",
        "\n",
        "    similar_movie_idxs = cosine_similarities[0].argsort()[-5:][::-1]\n",
        "\n",
        "    similar_movies = movies[similar_movie_idxs]\n",
        "\n",
        "    return print(\"Based on your search query, I'd recommend checking out:\", similar_movies)"
      ],
      "metadata": {
        "id": "sYLO8Y3qR0q3"
      },
      "id": "sYLO8Y3qR0q3",
      "execution_count": 47,
      "outputs": []
    },
    {
      "cell_type": "code",
      "source": [
        "query_movie_recommender('love story with dogs')"
      ],
      "metadata": {
        "id": "--wVT_zKR-_8",
        "colab": {
          "base_uri": "https://localhost:8080/"
        },
        "outputId": "658f3141-7f26-456e-99ef-d0e6b8fa3ea9"
      },
      "id": "--wVT_zKR-_8",
      "execution_count": 48,
      "outputs": [
        {
          "output_type": "stream",
          "name": "stdout",
          "text": [
            "Based on your search query, I'd recommend checking out: ['All Good Things' 'Never Again' 'Her' 'Eight Below' 'Cats & Dogs']\n"
          ]
        }
      ]
    },
    {
      "cell_type": "markdown",
      "source": [
        "**Pratically speaking, how do these approaches to recommendation differ? Would you say one appears to perform better than the other?**"
      ],
      "metadata": {
        "id": "_fDNBQAYSl3q"
      },
      "id": "_fDNBQAYSl3q"
    },
    {
      "cell_type": "markdown",
      "source": [
        "Not necessarily. I think that they both have their individual use cases. It might be easier to use a movie to create more recomendations because you already know what that movie is about so there could be less guessing. The query is nice if you want something completely new however. If you don't know any movies like what you want."
      ],
      "metadata": {
        "id": "daBEwFngSu49"
      },
      "id": "daBEwFngSu49"
    },
    {
      "cell_type": "markdown",
      "source": [
        "**Try this out with a friend/partner/family member and report back on the success of your recommendations!**"
      ],
      "metadata": {
        "id": "flX1aT-OSvPV"
      },
      "id": "flX1aT-OSvPV"
    },
    {
      "cell_type": "markdown",
      "source": [
        "They were very impressed! There are lots of recomendations that I had never heard of and it was fun to use."
      ],
      "metadata": {
        "id": "pFglBxIZS089"
      },
      "id": "pFglBxIZS089"
    },
    {
      "cell_type": "code",
      "source": [],
      "metadata": {
        "id": "bTmRTXQYMv62"
      },
      "id": "bTmRTXQYMv62",
      "execution_count": null,
      "outputs": []
    }
  ],
  "metadata": {
    "kernelspec": {
      "display_name": "Python 3 (ipykernel)",
      "language": "python",
      "name": "python3"
    },
    "language_info": {
      "codemirror_mode": {
        "name": "ipython",
        "version": 3
      },
      "file_extension": ".py",
      "mimetype": "text/x-python",
      "name": "python",
      "nbconvert_exporter": "python",
      "pygments_lexer": "ipython3",
      "version": "3.9.7"
    },
    "colab": {
      "provenance": []
    }
  },
  "nbformat": 4,
  "nbformat_minor": 5
}