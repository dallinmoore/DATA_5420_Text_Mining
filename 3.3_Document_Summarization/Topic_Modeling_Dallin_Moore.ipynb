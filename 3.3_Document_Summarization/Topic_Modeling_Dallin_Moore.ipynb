{
  "nbformat": 4,
  "nbformat_minor": 0,
  "metadata": {
    "colab": {
      "provenance": []
    },
    "kernelspec": {
      "name": "python3",
      "display_name": "Python 3"
    },
    "language_info": {
      "name": "python"
    }
  },
  "cells": [
    {
      "cell_type": "markdown",
      "source": [
        "# **In-Class Assignment: Topic Modeling**\n",
        "\n",
        "## *DATA 5420/6420*\n",
        "## Name: Dallin Moore\n",
        "\n",
        "Topic modeling is a more sophisticated approach to extracting topics/themes from a corpus than some of the more simple methods we discussed during class, like key phrase extraction. There are a number of algorithms that can be used to peform topic modeling, we will focus on the most common, called LDA.\n",
        "\n",
        "*   Latent Dirichlet Allocation\n",
        "\n",
        "In this in-class assignment we will implement the above method on a corpus of research papers from the NeurIPS conference to try and extract meaningful topic labels for these papers. While we will focus on LDA, there are other methods for performing topic modeling like LSI, and NMF.\n"
      ],
      "metadata": {
        "id": "dYOHte7NlGJR"
      }
    },
    {
      "cell_type": "code",
      "source": [
        "# load all dependencies\n",
        "import nltk\n",
        "import gensim\n",
        "\n",
        "from nltk.corpus import stopwords\n",
        "from nltk.stem import WordNetLemmatizer\n",
        "from sklearn.feature_extraction.text import TfidfVectorizer\n",
        "\n",
        "import re\n",
        "import os\n",
        "import numpy as np\n",
        "import pandas as pd\n",
        "import matplotlib.pyplot as plt\n",
        "nltk.download('omw-1.4')\n",
        "nltk.download('punkt')\n",
        "nltk.download('wordnet')\n",
        "nltk.download('stopwords')\n",
        "\n",
        "from sklearn.decomposition import LatentDirichletAllocation\n",
        "from gensim.models.coherencemodel import CoherenceModel\n",
        "from gensim.corpora.dictionary import Dictionary\n",
        "import gensim\n",
        "import matplotlib.pyplot as plt"
      ],
      "metadata": {
        "id": "giM7h9Q9r4wN",
        "colab": {
          "base_uri": "https://localhost:8080/"
        },
        "outputId": "7f956f62-ee71-4175-d8ff-b87b702ed592"
      },
      "execution_count": 1,
      "outputs": [
        {
          "output_type": "stream",
          "name": "stderr",
          "text": [
            "[nltk_data] Downloading package omw-1.4 to /root/nltk_data...\n",
            "[nltk_data] Downloading package punkt to /root/nltk_data...\n",
            "[nltk_data]   Unzipping tokenizers/punkt.zip.\n",
            "[nltk_data] Downloading package wordnet to /root/nltk_data...\n",
            "[nltk_data] Downloading package stopwords to /root/nltk_data...\n",
            "[nltk_data]   Unzipping corpora/stopwords.zip.\n"
          ]
        }
      ]
    },
    {
      "cell_type": "markdown",
      "source": [
        "## **1) Data Retrieval**\n",
        "\n",
        "We will be downloading the dataset directly using the following commands:"
      ],
      "metadata": {
        "id": "vS2-VuCrr4gS"
      }
    },
    {
      "cell_type": "code",
      "execution_count": 2,
      "metadata": {
        "id": "E_TCas0xk2qc",
        "colab": {
          "base_uri": "https://localhost:8080/"
        },
        "outputId": "47b411f6-18e0-41bc-9594-93e81045cc20"
      },
      "outputs": [
        {
          "output_type": "stream",
          "name": "stdout",
          "text": [
            "--2024-03-08 03:49:06--  https://cs.nyu.edu/~roweis/data/nips12raw_str602.tgz\n",
            "Resolving cs.nyu.edu (cs.nyu.edu)... 216.165.22.203\n",
            "Connecting to cs.nyu.edu (cs.nyu.edu)|216.165.22.203|:443... connected.\n",
            "HTTP request sent, awaiting response... 200 OK\n",
            "Length: 12851423 (12M) [application/x-gzip]\n",
            "Saving to: ‘nips12raw_str602.tgz’\n",
            "\n",
            "nips12raw_str602.tg 100%[===================>]  12.26M  20.5MB/s    in 0.6s    \n",
            "\n",
            "2024-03-08 03:49:07 (20.5 MB/s) - ‘nips12raw_str602.tgz’ saved [12851423/12851423]\n",
            "\n"
          ]
        }
      ],
      "source": [
        "!wget https://cs.nyu.edu/~roweis/data/nips12raw_str602.tgz"
      ]
    },
    {
      "cell_type": "markdown",
      "source": [
        "#### **A) Data Extraction**\n",
        "\n",
        "We need to uncompress this tgz file and extract the different text files within each of the subfolders, like so:"
      ],
      "metadata": {
        "id": "KSZTp9edn0ym"
      }
    },
    {
      "cell_type": "code",
      "source": [
        "!tar -xzf nips12raw_str602.tgz"
      ],
      "metadata": {
        "id": "HkvnO5VBn5GZ"
      },
      "execution_count": 3,
      "outputs": []
    },
    {
      "cell_type": "code",
      "source": [
        "DATA_PATH = '/content/nipstxt'                                    # add in content path\n",
        "print(os.listdir(DATA_PATH))"
      ],
      "metadata": {
        "id": "C5lhQiF7oAny",
        "colab": {
          "base_uri": "https://localhost:8080/"
        },
        "outputId": "f00cae36-6839-401a-dd88-1da807c75e9d"
      },
      "execution_count": 4,
      "outputs": [
        {
          "output_type": "stream",
          "name": "stdout",
          "text": [
            "['README_yann', 'MATLAB_NOTES', 'nips11', 'nips06', 'nips10', 'nips05', 'idx', 'orig', 'nips00', 'nips07', 'nips09', 'nips03', 'nips01', 'nips04', 'nips12', 'nips02', 'RAW_DATA_NOTES', 'nips08']\n"
          ]
        }
      ]
    },
    {
      "cell_type": "markdown",
      "source": [
        "## **2) Basic Text Preprocessing**\n",
        "\n",
        "Let's think about which text cleaning step we want to implement here for a process like topic modeling, where the goal is to group together terms that tend to co-occur with one another across documents to essentially form clusters of terms -- which form topics"
      ],
      "metadata": {
        "id": "YOJaEvsTrXPp"
      }
    },
    {
      "cell_type": "code",
      "source": [
        "def preprocess_text(text):\n",
        "    text = re.sub(r\"[^a-zA-Z]\", \" \", text.lower())\n",
        "    tokens = nltk.word_tokenize(text)\n",
        "    tokens = [token for token in tokens if token not in stopwords.words('english')]\n",
        "    lemmatizer = WordNetLemmatizer()\n",
        "    lemmas = [lemmatizer.lemmatize(token) for token in tokens]\n",
        "\n",
        "    return ' '.join(lemmas)"
      ],
      "metadata": {
        "id": "fQty16iyrjYO"
      },
      "execution_count": 5,
      "outputs": []
    },
    {
      "cell_type": "code",
      "source": [
        "# specify the folders we want to extract from\n",
        "folders = [\"nips{0:02}\".format(i) for i in range(0, 5)]\n",
        "papers = []\n",
        "\n",
        "for folder in folders: # create a list of filenames within each folder\n",
        "    folder_path = os.path.join(DATA_PATH, folder)\n",
        "    file_names = os.listdir(folder_path)\n",
        "\n",
        "# for each file, create the full file path, read in the file, preprocess the text, append to list of all papers\n",
        "for file_name in file_names:\n",
        "    file_path = os.path.join(folder_path, file_name)\n",
        "    with open(file_path, encoding='utf-8', errors='ignore') as f:\n",
        "        data = f.read()\n",
        "        preprocessed_data = preprocess_text(data)\n",
        "        papers.append(preprocessed_data)"
      ],
      "metadata": {
        "id": "V_ZJAPtfhl2c"
      },
      "execution_count": 6,
      "outputs": []
    },
    {
      "cell_type": "code",
      "source": [
        "papers[0][:1000]"
      ],
      "metadata": {
        "id": "VlhVBNxBoOSg",
        "colab": {
          "base_uri": "https://localhost:8080/",
          "height": 139
        },
        "outputId": "6202ea46-220d-4b78-f1f5-7ad4910e05c5"
      },
      "execution_count": 7,
      "outputs": [
        {
          "output_type": "execute_result",
          "data": {
            "text/plain": [
              "'node splitting constructive algorithm feed forward neural network mike wynne jones research initiative pattern recognition st andrew road great malvern wr p uk mikewj hermes mod uk abstract constructive algorithm proposed feed forward neural network us node splitting hidden layer build large network smaller one small network form approximate model set training data split creates larger powerful network initialised approximate solution already found insufficiency smaller network modelling system generated data lead oscillation hidden node whose weight vector cover gions input space detail required model node identified split two using principal component analysis allowing new node cover two main mode oscillating vector node selected splitting using principal component analysis oscillating weight vector examining hessian matrix second derivative network error respect weight second derivative method also applied input layer provides useful indication relative importance parameter classifi'"
            ],
            "application/vnd.google.colaboratory.intrinsic+json": {
              "type": "string"
            }
          },
          "metadata": {},
          "execution_count": 7
        }
      ]
    },
    {
      "cell_type": "markdown",
      "source": [
        "## 3) **Feature Engineering**\n",
        "\n",
        "Before we perform any sort of vectorization, we're going to narrow down our pool of words to more common n-grams; specifically bigrams where the min_df = 2, and the max_df = 0.70, meaning..."
      ],
      "metadata": {
        "id": "BHmzLnLgw27M"
      }
    },
    {
      "cell_type": "code",
      "source": [
        "tv = TfidfVectorizer(min_df=2, max_df=0.7, ngram_range=(2,2))\n",
        "dtm = tv.fit_transform(papers)\n",
        "vocabulary = np.array(tv.get_feature_names_out())\n",
        "dtm.shape"
      ],
      "metadata": {
        "id": "nbjAjkiEyGZr",
        "colab": {
          "base_uri": "https://localhost:8080/"
        },
        "outputId": "b7021e52-a75d-4a6b-fb48-0473dd79c3f5"
      },
      "execution_count": 8,
      "outputs": [
        {
          "output_type": "execute_result",
          "data": {
            "text/plain": [
              "(144, 16858)"
            ]
          },
          "metadata": {},
          "execution_count": 8
        }
      ]
    },
    {
      "cell_type": "code",
      "source": [
        "pd.DataFrame(dtm.toarray(), columns=vocabulary, index=['Doc_'+str(i) for i in range(len(papers))])"
      ],
      "metadata": {
        "id": "CMRNmynCjhYE",
        "colab": {
          "base_uri": "https://localhost:8080/",
          "height": 461
        },
        "outputId": "04ce91ca-1c3c-43a2-cdf9-8da60f92fd9d"
      },
      "execution_count": 10,
      "outputs": [
        {
          "output_type": "execute_result",
          "data": {
            "text/plain": [
              "         aaai press  ability distribution  ability generalize  \\\n",
              "Doc_0           0.0                   0.0                 0.0   \n",
              "Doc_1           0.0                   0.0                 0.0   \n",
              "Doc_2           0.0                   0.0                 0.0   \n",
              "Doc_3           0.0                   0.0                 0.0   \n",
              "Doc_4           0.0                   0.0                 0.0   \n",
              "...             ...                   ...                 ...   \n",
              "Doc_139         0.0                   0.0                 0.0   \n",
              "Doc_140         0.0                   0.0                 0.0   \n",
              "Doc_141         0.0                   0.0                 0.0   \n",
              "Doc_142         0.0                   0.0                 0.0   \n",
              "Doc_143         0.0                   0.0                 0.0   \n",
              "\n",
              "         ability generate  ability model  ability network  ability neural  \\\n",
              "Doc_0                 0.0            0.0              0.0             0.0   \n",
              "Doc_1                 0.0            0.0              0.0             0.0   \n",
              "Doc_2                 0.0            0.0              0.0             0.0   \n",
              "Doc_3                 0.0            0.0              0.0             0.0   \n",
              "Doc_4                 0.0            0.0              0.0             0.0   \n",
              "...                   ...            ...              ...             ...   \n",
              "Doc_139               0.0            0.0              0.0             0.0   \n",
              "Doc_140               0.0            0.0              0.0             0.0   \n",
              "Doc_141               0.0            0.0              0.0             0.0   \n",
              "Doc_142               0.0            0.0              0.0             0.0   \n",
              "Doc_143               0.0            0.0              0.0             0.0   \n",
              "\n",
              "         ability proc  ability recognize  able approximate  ...  zip code  \\\n",
              "Doc_0             0.0                0.0               0.0  ...  0.000000   \n",
              "Doc_1             0.0                0.0               0.0  ...  0.000000   \n",
              "Doc_2             0.0                0.0               0.0  ...  0.057234   \n",
              "Doc_3             0.0                0.0               0.0  ...  0.000000   \n",
              "Doc_4             0.0                0.0               0.0  ...  0.000000   \n",
              "...               ...                ...               ...  ...       ...   \n",
              "Doc_139           0.0                0.0               0.0  ...  0.000000   \n",
              "Doc_140           0.0                0.0               0.0  ...  0.000000   \n",
              "Doc_141           0.0                0.0               0.0  ...  0.000000   \n",
              "Doc_142           0.0                0.0               0.0  ...  0.000000   \n",
              "Doc_143           0.0                0.0               0.0  ...  0.000000   \n",
              "\n",
              "         zipcode recognition  zipser learning  zipset andersen  \\\n",
              "Doc_0               0.000000         0.000000              0.0   \n",
              "Doc_1               0.000000         0.000000              0.0   \n",
              "Doc_2               0.000000         0.000000              0.0   \n",
              "Doc_3               0.000000         0.000000              0.0   \n",
              "Doc_4               0.000000         0.027523              0.0   \n",
              "...                      ...              ...              ...   \n",
              "Doc_139             0.000000         0.000000              0.0   \n",
              "Doc_140             0.000000         0.000000              0.0   \n",
              "Doc_141             0.037743         0.000000              0.0   \n",
              "Doc_142             0.000000         0.000000              0.0   \n",
              "Doc_143             0.000000         0.000000              0.0   \n",
              "\n",
              "         zipset learning  zisserman visual    zky ed  zky editor  zt zt  \\\n",
              "Doc_0                0.0          0.000000  0.000000         0.0    0.0   \n",
              "Doc_1                0.0          0.000000  0.032153         0.0    0.0   \n",
              "Doc_2                0.0          0.000000  0.000000         0.0    0.0   \n",
              "Doc_3                0.0          0.000000  0.000000         0.0    0.0   \n",
              "Doc_4                0.0          0.000000  0.000000         0.0    0.0   \n",
              "...                  ...               ...       ...         ...    ...   \n",
              "Doc_139              0.0          0.000000  0.000000         0.0    0.0   \n",
              "Doc_140              0.0          0.000000  0.000000         0.0    0.0   \n",
              "Doc_141              0.0          0.000000  0.000000         0.0    0.0   \n",
              "Doc_142              0.0          0.038804  0.000000         0.0    0.0   \n",
              "Doc_143              0.0          0.000000  0.000000         0.0    0.0   \n",
              "\n",
              "         zurich switzerland  \n",
              "Doc_0              0.000000  \n",
              "Doc_1              0.000000  \n",
              "Doc_2              0.000000  \n",
              "Doc_3              0.000000  \n",
              "Doc_4              0.000000  \n",
              "...                     ...  \n",
              "Doc_139            0.000000  \n",
              "Doc_140            0.000000  \n",
              "Doc_141            0.037743  \n",
              "Doc_142            0.000000  \n",
              "Doc_143            0.000000  \n",
              "\n",
              "[144 rows x 16858 columns]"
            ],
            "text/html": [
              "\n",
              "  <div id=\"df-4041d921-d276-4b7a-b6c2-bc59ea7471d7\" class=\"colab-df-container\">\n",
              "    <div>\n",
              "<style scoped>\n",
              "    .dataframe tbody tr th:only-of-type {\n",
              "        vertical-align: middle;\n",
              "    }\n",
              "\n",
              "    .dataframe tbody tr th {\n",
              "        vertical-align: top;\n",
              "    }\n",
              "\n",
              "    .dataframe thead th {\n",
              "        text-align: right;\n",
              "    }\n",
              "</style>\n",
              "<table border=\"1\" class=\"dataframe\">\n",
              "  <thead>\n",
              "    <tr style=\"text-align: right;\">\n",
              "      <th></th>\n",
              "      <th>aaai press</th>\n",
              "      <th>ability distribution</th>\n",
              "      <th>ability generalize</th>\n",
              "      <th>ability generate</th>\n",
              "      <th>ability model</th>\n",
              "      <th>ability network</th>\n",
              "      <th>ability neural</th>\n",
              "      <th>ability proc</th>\n",
              "      <th>ability recognize</th>\n",
              "      <th>able approximate</th>\n",
              "      <th>...</th>\n",
              "      <th>zip code</th>\n",
              "      <th>zipcode recognition</th>\n",
              "      <th>zipser learning</th>\n",
              "      <th>zipset andersen</th>\n",
              "      <th>zipset learning</th>\n",
              "      <th>zisserman visual</th>\n",
              "      <th>zky ed</th>\n",
              "      <th>zky editor</th>\n",
              "      <th>zt zt</th>\n",
              "      <th>zurich switzerland</th>\n",
              "    </tr>\n",
              "  </thead>\n",
              "  <tbody>\n",
              "    <tr>\n",
              "      <th>Doc_0</th>\n",
              "      <td>0.0</td>\n",
              "      <td>0.0</td>\n",
              "      <td>0.0</td>\n",
              "      <td>0.0</td>\n",
              "      <td>0.0</td>\n",
              "      <td>0.0</td>\n",
              "      <td>0.0</td>\n",
              "      <td>0.0</td>\n",
              "      <td>0.0</td>\n",
              "      <td>0.0</td>\n",
              "      <td>...</td>\n",
              "      <td>0.000000</td>\n",
              "      <td>0.000000</td>\n",
              "      <td>0.000000</td>\n",
              "      <td>0.0</td>\n",
              "      <td>0.0</td>\n",
              "      <td>0.000000</td>\n",
              "      <td>0.000000</td>\n",
              "      <td>0.0</td>\n",
              "      <td>0.0</td>\n",
              "      <td>0.000000</td>\n",
              "    </tr>\n",
              "    <tr>\n",
              "      <th>Doc_1</th>\n",
              "      <td>0.0</td>\n",
              "      <td>0.0</td>\n",
              "      <td>0.0</td>\n",
              "      <td>0.0</td>\n",
              "      <td>0.0</td>\n",
              "      <td>0.0</td>\n",
              "      <td>0.0</td>\n",
              "      <td>0.0</td>\n",
              "      <td>0.0</td>\n",
              "      <td>0.0</td>\n",
              "      <td>...</td>\n",
              "      <td>0.000000</td>\n",
              "      <td>0.000000</td>\n",
              "      <td>0.000000</td>\n",
              "      <td>0.0</td>\n",
              "      <td>0.0</td>\n",
              "      <td>0.000000</td>\n",
              "      <td>0.032153</td>\n",
              "      <td>0.0</td>\n",
              "      <td>0.0</td>\n",
              "      <td>0.000000</td>\n",
              "    </tr>\n",
              "    <tr>\n",
              "      <th>Doc_2</th>\n",
              "      <td>0.0</td>\n",
              "      <td>0.0</td>\n",
              "      <td>0.0</td>\n",
              "      <td>0.0</td>\n",
              "      <td>0.0</td>\n",
              "      <td>0.0</td>\n",
              "      <td>0.0</td>\n",
              "      <td>0.0</td>\n",
              "      <td>0.0</td>\n",
              "      <td>0.0</td>\n",
              "      <td>...</td>\n",
              "      <td>0.057234</td>\n",
              "      <td>0.000000</td>\n",
              "      <td>0.000000</td>\n",
              "      <td>0.0</td>\n",
              "      <td>0.0</td>\n",
              "      <td>0.000000</td>\n",
              "      <td>0.000000</td>\n",
              "      <td>0.0</td>\n",
              "      <td>0.0</td>\n",
              "      <td>0.000000</td>\n",
              "    </tr>\n",
              "    <tr>\n",
              "      <th>Doc_3</th>\n",
              "      <td>0.0</td>\n",
              "      <td>0.0</td>\n",
              "      <td>0.0</td>\n",
              "      <td>0.0</td>\n",
              "      <td>0.0</td>\n",
              "      <td>0.0</td>\n",
              "      <td>0.0</td>\n",
              "      <td>0.0</td>\n",
              "      <td>0.0</td>\n",
              "      <td>0.0</td>\n",
              "      <td>...</td>\n",
              "      <td>0.000000</td>\n",
              "      <td>0.000000</td>\n",
              "      <td>0.000000</td>\n",
              "      <td>0.0</td>\n",
              "      <td>0.0</td>\n",
              "      <td>0.000000</td>\n",
              "      <td>0.000000</td>\n",
              "      <td>0.0</td>\n",
              "      <td>0.0</td>\n",
              "      <td>0.000000</td>\n",
              "    </tr>\n",
              "    <tr>\n",
              "      <th>Doc_4</th>\n",
              "      <td>0.0</td>\n",
              "      <td>0.0</td>\n",
              "      <td>0.0</td>\n",
              "      <td>0.0</td>\n",
              "      <td>0.0</td>\n",
              "      <td>0.0</td>\n",
              "      <td>0.0</td>\n",
              "      <td>0.0</td>\n",
              "      <td>0.0</td>\n",
              "      <td>0.0</td>\n",
              "      <td>...</td>\n",
              "      <td>0.000000</td>\n",
              "      <td>0.000000</td>\n",
              "      <td>0.027523</td>\n",
              "      <td>0.0</td>\n",
              "      <td>0.0</td>\n",
              "      <td>0.000000</td>\n",
              "      <td>0.000000</td>\n",
              "      <td>0.0</td>\n",
              "      <td>0.0</td>\n",
              "      <td>0.000000</td>\n",
              "    </tr>\n",
              "    <tr>\n",
              "      <th>...</th>\n",
              "      <td>...</td>\n",
              "      <td>...</td>\n",
              "      <td>...</td>\n",
              "      <td>...</td>\n",
              "      <td>...</td>\n",
              "      <td>...</td>\n",
              "      <td>...</td>\n",
              "      <td>...</td>\n",
              "      <td>...</td>\n",
              "      <td>...</td>\n",
              "      <td>...</td>\n",
              "      <td>...</td>\n",
              "      <td>...</td>\n",
              "      <td>...</td>\n",
              "      <td>...</td>\n",
              "      <td>...</td>\n",
              "      <td>...</td>\n",
              "      <td>...</td>\n",
              "      <td>...</td>\n",
              "      <td>...</td>\n",
              "      <td>...</td>\n",
              "    </tr>\n",
              "    <tr>\n",
              "      <th>Doc_139</th>\n",
              "      <td>0.0</td>\n",
              "      <td>0.0</td>\n",
              "      <td>0.0</td>\n",
              "      <td>0.0</td>\n",
              "      <td>0.0</td>\n",
              "      <td>0.0</td>\n",
              "      <td>0.0</td>\n",
              "      <td>0.0</td>\n",
              "      <td>0.0</td>\n",
              "      <td>0.0</td>\n",
              "      <td>...</td>\n",
              "      <td>0.000000</td>\n",
              "      <td>0.000000</td>\n",
              "      <td>0.000000</td>\n",
              "      <td>0.0</td>\n",
              "      <td>0.0</td>\n",
              "      <td>0.000000</td>\n",
              "      <td>0.000000</td>\n",
              "      <td>0.0</td>\n",
              "      <td>0.0</td>\n",
              "      <td>0.000000</td>\n",
              "    </tr>\n",
              "    <tr>\n",
              "      <th>Doc_140</th>\n",
              "      <td>0.0</td>\n",
              "      <td>0.0</td>\n",
              "      <td>0.0</td>\n",
              "      <td>0.0</td>\n",
              "      <td>0.0</td>\n",
              "      <td>0.0</td>\n",
              "      <td>0.0</td>\n",
              "      <td>0.0</td>\n",
              "      <td>0.0</td>\n",
              "      <td>0.0</td>\n",
              "      <td>...</td>\n",
              "      <td>0.000000</td>\n",
              "      <td>0.000000</td>\n",
              "      <td>0.000000</td>\n",
              "      <td>0.0</td>\n",
              "      <td>0.0</td>\n",
              "      <td>0.000000</td>\n",
              "      <td>0.000000</td>\n",
              "      <td>0.0</td>\n",
              "      <td>0.0</td>\n",
              "      <td>0.000000</td>\n",
              "    </tr>\n",
              "    <tr>\n",
              "      <th>Doc_141</th>\n",
              "      <td>0.0</td>\n",
              "      <td>0.0</td>\n",
              "      <td>0.0</td>\n",
              "      <td>0.0</td>\n",
              "      <td>0.0</td>\n",
              "      <td>0.0</td>\n",
              "      <td>0.0</td>\n",
              "      <td>0.0</td>\n",
              "      <td>0.0</td>\n",
              "      <td>0.0</td>\n",
              "      <td>...</td>\n",
              "      <td>0.000000</td>\n",
              "      <td>0.037743</td>\n",
              "      <td>0.000000</td>\n",
              "      <td>0.0</td>\n",
              "      <td>0.0</td>\n",
              "      <td>0.000000</td>\n",
              "      <td>0.000000</td>\n",
              "      <td>0.0</td>\n",
              "      <td>0.0</td>\n",
              "      <td>0.037743</td>\n",
              "    </tr>\n",
              "    <tr>\n",
              "      <th>Doc_142</th>\n",
              "      <td>0.0</td>\n",
              "      <td>0.0</td>\n",
              "      <td>0.0</td>\n",
              "      <td>0.0</td>\n",
              "      <td>0.0</td>\n",
              "      <td>0.0</td>\n",
              "      <td>0.0</td>\n",
              "      <td>0.0</td>\n",
              "      <td>0.0</td>\n",
              "      <td>0.0</td>\n",
              "      <td>...</td>\n",
              "      <td>0.000000</td>\n",
              "      <td>0.000000</td>\n",
              "      <td>0.000000</td>\n",
              "      <td>0.0</td>\n",
              "      <td>0.0</td>\n",
              "      <td>0.038804</td>\n",
              "      <td>0.000000</td>\n",
              "      <td>0.0</td>\n",
              "      <td>0.0</td>\n",
              "      <td>0.000000</td>\n",
              "    </tr>\n",
              "    <tr>\n",
              "      <th>Doc_143</th>\n",
              "      <td>0.0</td>\n",
              "      <td>0.0</td>\n",
              "      <td>0.0</td>\n",
              "      <td>0.0</td>\n",
              "      <td>0.0</td>\n",
              "      <td>0.0</td>\n",
              "      <td>0.0</td>\n",
              "      <td>0.0</td>\n",
              "      <td>0.0</td>\n",
              "      <td>0.0</td>\n",
              "      <td>...</td>\n",
              "      <td>0.000000</td>\n",
              "      <td>0.000000</td>\n",
              "      <td>0.000000</td>\n",
              "      <td>0.0</td>\n",
              "      <td>0.0</td>\n",
              "      <td>0.000000</td>\n",
              "      <td>0.000000</td>\n",
              "      <td>0.0</td>\n",
              "      <td>0.0</td>\n",
              "      <td>0.000000</td>\n",
              "    </tr>\n",
              "  </tbody>\n",
              "</table>\n",
              "<p>144 rows × 16858 columns</p>\n",
              "</div>\n",
              "    <div class=\"colab-df-buttons\">\n",
              "\n",
              "  <div class=\"colab-df-container\">\n",
              "    <button class=\"colab-df-convert\" onclick=\"convertToInteractive('df-4041d921-d276-4b7a-b6c2-bc59ea7471d7')\"\n",
              "            title=\"Convert this dataframe to an interactive table.\"\n",
              "            style=\"display:none;\">\n",
              "\n",
              "  <svg xmlns=\"http://www.w3.org/2000/svg\" height=\"24px\" viewBox=\"0 -960 960 960\">\n",
              "    <path d=\"M120-120v-720h720v720H120Zm60-500h600v-160H180v160Zm220 220h160v-160H400v160Zm0 220h160v-160H400v160ZM180-400h160v-160H180v160Zm440 0h160v-160H620v160ZM180-180h160v-160H180v160Zm440 0h160v-160H620v160Z\"/>\n",
              "  </svg>\n",
              "    </button>\n",
              "\n",
              "  <style>\n",
              "    .colab-df-container {\n",
              "      display:flex;\n",
              "      gap: 12px;\n",
              "    }\n",
              "\n",
              "    .colab-df-convert {\n",
              "      background-color: #E8F0FE;\n",
              "      border: none;\n",
              "      border-radius: 50%;\n",
              "      cursor: pointer;\n",
              "      display: none;\n",
              "      fill: #1967D2;\n",
              "      height: 32px;\n",
              "      padding: 0 0 0 0;\n",
              "      width: 32px;\n",
              "    }\n",
              "\n",
              "    .colab-df-convert:hover {\n",
              "      background-color: #E2EBFA;\n",
              "      box-shadow: 0px 1px 2px rgba(60, 64, 67, 0.3), 0px 1px 3px 1px rgba(60, 64, 67, 0.15);\n",
              "      fill: #174EA6;\n",
              "    }\n",
              "\n",
              "    .colab-df-buttons div {\n",
              "      margin-bottom: 4px;\n",
              "    }\n",
              "\n",
              "    [theme=dark] .colab-df-convert {\n",
              "      background-color: #3B4455;\n",
              "      fill: #D2E3FC;\n",
              "    }\n",
              "\n",
              "    [theme=dark] .colab-df-convert:hover {\n",
              "      background-color: #434B5C;\n",
              "      box-shadow: 0px 1px 3px 1px rgba(0, 0, 0, 0.15);\n",
              "      filter: drop-shadow(0px 1px 2px rgba(0, 0, 0, 0.3));\n",
              "      fill: #FFFFFF;\n",
              "    }\n",
              "  </style>\n",
              "\n",
              "    <script>\n",
              "      const buttonEl =\n",
              "        document.querySelector('#df-4041d921-d276-4b7a-b6c2-bc59ea7471d7 button.colab-df-convert');\n",
              "      buttonEl.style.display =\n",
              "        google.colab.kernel.accessAllowed ? 'block' : 'none';\n",
              "\n",
              "      async function convertToInteractive(key) {\n",
              "        const element = document.querySelector('#df-4041d921-d276-4b7a-b6c2-bc59ea7471d7');\n",
              "        const dataTable =\n",
              "          await google.colab.kernel.invokeFunction('convertToInteractive',\n",
              "                                                    [key], {});\n",
              "        if (!dataTable) return;\n",
              "\n",
              "        const docLinkHtml = 'Like what you see? Visit the ' +\n",
              "          '<a target=\"_blank\" href=https://colab.research.google.com/notebooks/data_table.ipynb>data table notebook</a>'\n",
              "          + ' to learn more about interactive tables.';\n",
              "        element.innerHTML = '';\n",
              "        dataTable['output_type'] = 'display_data';\n",
              "        await google.colab.output.renderOutput(dataTable, element);\n",
              "        const docLink = document.createElement('div');\n",
              "        docLink.innerHTML = docLinkHtml;\n",
              "        element.appendChild(docLink);\n",
              "      }\n",
              "    </script>\n",
              "  </div>\n",
              "\n",
              "\n",
              "<div id=\"df-bafe68d9-71a1-4b7d-9d1e-8a3886d736b9\">\n",
              "  <button class=\"colab-df-quickchart\" onclick=\"quickchart('df-bafe68d9-71a1-4b7d-9d1e-8a3886d736b9')\"\n",
              "            title=\"Suggest charts\"\n",
              "            style=\"display:none;\">\n",
              "\n",
              "<svg xmlns=\"http://www.w3.org/2000/svg\" height=\"24px\"viewBox=\"0 0 24 24\"\n",
              "     width=\"24px\">\n",
              "    <g>\n",
              "        <path d=\"M19 3H5c-1.1 0-2 .9-2 2v14c0 1.1.9 2 2 2h14c1.1 0 2-.9 2-2V5c0-1.1-.9-2-2-2zM9 17H7v-7h2v7zm4 0h-2V7h2v10zm4 0h-2v-4h2v4z\"/>\n",
              "    </g>\n",
              "</svg>\n",
              "  </button>\n",
              "\n",
              "<style>\n",
              "  .colab-df-quickchart {\n",
              "      --bg-color: #E8F0FE;\n",
              "      --fill-color: #1967D2;\n",
              "      --hover-bg-color: #E2EBFA;\n",
              "      --hover-fill-color: #174EA6;\n",
              "      --disabled-fill-color: #AAA;\n",
              "      --disabled-bg-color: #DDD;\n",
              "  }\n",
              "\n",
              "  [theme=dark] .colab-df-quickchart {\n",
              "      --bg-color: #3B4455;\n",
              "      --fill-color: #D2E3FC;\n",
              "      --hover-bg-color: #434B5C;\n",
              "      --hover-fill-color: #FFFFFF;\n",
              "      --disabled-bg-color: #3B4455;\n",
              "      --disabled-fill-color: #666;\n",
              "  }\n",
              "\n",
              "  .colab-df-quickchart {\n",
              "    background-color: var(--bg-color);\n",
              "    border: none;\n",
              "    border-radius: 50%;\n",
              "    cursor: pointer;\n",
              "    display: none;\n",
              "    fill: var(--fill-color);\n",
              "    height: 32px;\n",
              "    padding: 0;\n",
              "    width: 32px;\n",
              "  }\n",
              "\n",
              "  .colab-df-quickchart:hover {\n",
              "    background-color: var(--hover-bg-color);\n",
              "    box-shadow: 0 1px 2px rgba(60, 64, 67, 0.3), 0 1px 3px 1px rgba(60, 64, 67, 0.15);\n",
              "    fill: var(--button-hover-fill-color);\n",
              "  }\n",
              "\n",
              "  .colab-df-quickchart-complete:disabled,\n",
              "  .colab-df-quickchart-complete:disabled:hover {\n",
              "    background-color: var(--disabled-bg-color);\n",
              "    fill: var(--disabled-fill-color);\n",
              "    box-shadow: none;\n",
              "  }\n",
              "\n",
              "  .colab-df-spinner {\n",
              "    border: 2px solid var(--fill-color);\n",
              "    border-color: transparent;\n",
              "    border-bottom-color: var(--fill-color);\n",
              "    animation:\n",
              "      spin 1s steps(1) infinite;\n",
              "  }\n",
              "\n",
              "  @keyframes spin {\n",
              "    0% {\n",
              "      border-color: transparent;\n",
              "      border-bottom-color: var(--fill-color);\n",
              "      border-left-color: var(--fill-color);\n",
              "    }\n",
              "    20% {\n",
              "      border-color: transparent;\n",
              "      border-left-color: var(--fill-color);\n",
              "      border-top-color: var(--fill-color);\n",
              "    }\n",
              "    30% {\n",
              "      border-color: transparent;\n",
              "      border-left-color: var(--fill-color);\n",
              "      border-top-color: var(--fill-color);\n",
              "      border-right-color: var(--fill-color);\n",
              "    }\n",
              "    40% {\n",
              "      border-color: transparent;\n",
              "      border-right-color: var(--fill-color);\n",
              "      border-top-color: var(--fill-color);\n",
              "    }\n",
              "    60% {\n",
              "      border-color: transparent;\n",
              "      border-right-color: var(--fill-color);\n",
              "    }\n",
              "    80% {\n",
              "      border-color: transparent;\n",
              "      border-right-color: var(--fill-color);\n",
              "      border-bottom-color: var(--fill-color);\n",
              "    }\n",
              "    90% {\n",
              "      border-color: transparent;\n",
              "      border-bottom-color: var(--fill-color);\n",
              "    }\n",
              "  }\n",
              "</style>\n",
              "\n",
              "  <script>\n",
              "    async function quickchart(key) {\n",
              "      const quickchartButtonEl =\n",
              "        document.querySelector('#' + key + ' button');\n",
              "      quickchartButtonEl.disabled = true;  // To prevent multiple clicks.\n",
              "      quickchartButtonEl.classList.add('colab-df-spinner');\n",
              "      try {\n",
              "        const charts = await google.colab.kernel.invokeFunction(\n",
              "            'suggestCharts', [key], {});\n",
              "      } catch (error) {\n",
              "        console.error('Error during call to suggestCharts:', error);\n",
              "      }\n",
              "      quickchartButtonEl.classList.remove('colab-df-spinner');\n",
              "      quickchartButtonEl.classList.add('colab-df-quickchart-complete');\n",
              "    }\n",
              "    (() => {\n",
              "      let quickchartButtonEl =\n",
              "        document.querySelector('#df-bafe68d9-71a1-4b7d-9d1e-8a3886d736b9 button');\n",
              "      quickchartButtonEl.style.display =\n",
              "        google.colab.kernel.accessAllowed ? 'block' : 'none';\n",
              "    })();\n",
              "  </script>\n",
              "</div>\n",
              "    </div>\n",
              "  </div>\n"
            ],
            "application/vnd.google.colaboratory.intrinsic+json": {
              "type": "dataframe"
            }
          },
          "metadata": {},
          "execution_count": 10
        }
      ]
    },
    {
      "cell_type": "markdown",
      "source": [
        "**Why might we use bigrams here in place of unigrams?**"
      ],
      "metadata": {
        "id": "Lj-5oBDYgKzC"
      }
    },
    {
      "cell_type": "markdown",
      "source": [
        "There a lot of concepts within the texts like 'maching learning' that lose meaning when they are considered as unigrams, which makes bigrams more useful for this scenario."
      ],
      "metadata": {
        "id": "rSV8ea8JgPXf"
      }
    },
    {
      "cell_type": "markdown",
      "source": [
        "## **4) Topic Modeling with Latent Dirichlet Allocation (LDA)**"
      ],
      "metadata": {
        "id": "5oyMyhYnjVZ3"
      }
    },
    {
      "cell_type": "markdown",
      "source": [
        "Let's start by first just running a topic model and examining the top features"
      ],
      "metadata": {
        "id": "oVXrSQoWgcoU"
      }
    },
    {
      "cell_type": "code",
      "source": [
        "# Fit LDA Model\n",
        "lda = LatentDirichletAllocation(n_components=10, random_state=42)\n",
        "lda.fit(dtm)"
      ],
      "metadata": {
        "id": "R8EAAj7AsI2V",
        "colab": {
          "base_uri": "https://localhost:8080/",
          "height": 74
        },
        "outputId": "f039bfee-2359-4705-8e64-007693118bcf"
      },
      "execution_count": 11,
      "outputs": [
        {
          "output_type": "execute_result",
          "data": {
            "text/plain": [
              "LatentDirichletAllocation(random_state=42)"
            ],
            "text/html": [
              "<style>#sk-container-id-1 {color: black;background-color: white;}#sk-container-id-1 pre{padding: 0;}#sk-container-id-1 div.sk-toggleable {background-color: white;}#sk-container-id-1 label.sk-toggleable__label {cursor: pointer;display: block;width: 100%;margin-bottom: 0;padding: 0.3em;box-sizing: border-box;text-align: center;}#sk-container-id-1 label.sk-toggleable__label-arrow:before {content: \"▸\";float: left;margin-right: 0.25em;color: #696969;}#sk-container-id-1 label.sk-toggleable__label-arrow:hover:before {color: black;}#sk-container-id-1 div.sk-estimator:hover label.sk-toggleable__label-arrow:before {color: black;}#sk-container-id-1 div.sk-toggleable__content {max-height: 0;max-width: 0;overflow: hidden;text-align: left;background-color: #f0f8ff;}#sk-container-id-1 div.sk-toggleable__content pre {margin: 0.2em;color: black;border-radius: 0.25em;background-color: #f0f8ff;}#sk-container-id-1 input.sk-toggleable__control:checked~div.sk-toggleable__content {max-height: 200px;max-width: 100%;overflow: auto;}#sk-container-id-1 input.sk-toggleable__control:checked~label.sk-toggleable__label-arrow:before {content: \"▾\";}#sk-container-id-1 div.sk-estimator input.sk-toggleable__control:checked~label.sk-toggleable__label {background-color: #d4ebff;}#sk-container-id-1 div.sk-label input.sk-toggleable__control:checked~label.sk-toggleable__label {background-color: #d4ebff;}#sk-container-id-1 input.sk-hidden--visually {border: 0;clip: rect(1px 1px 1px 1px);clip: rect(1px, 1px, 1px, 1px);height: 1px;margin: -1px;overflow: hidden;padding: 0;position: absolute;width: 1px;}#sk-container-id-1 div.sk-estimator {font-family: monospace;background-color: #f0f8ff;border: 1px dotted black;border-radius: 0.25em;box-sizing: border-box;margin-bottom: 0.5em;}#sk-container-id-1 div.sk-estimator:hover {background-color: #d4ebff;}#sk-container-id-1 div.sk-parallel-item::after {content: \"\";width: 100%;border-bottom: 1px solid gray;flex-grow: 1;}#sk-container-id-1 div.sk-label:hover label.sk-toggleable__label {background-color: #d4ebff;}#sk-container-id-1 div.sk-serial::before {content: \"\";position: absolute;border-left: 1px solid gray;box-sizing: border-box;top: 0;bottom: 0;left: 50%;z-index: 0;}#sk-container-id-1 div.sk-serial {display: flex;flex-direction: column;align-items: center;background-color: white;padding-right: 0.2em;padding-left: 0.2em;position: relative;}#sk-container-id-1 div.sk-item {position: relative;z-index: 1;}#sk-container-id-1 div.sk-parallel {display: flex;align-items: stretch;justify-content: center;background-color: white;position: relative;}#sk-container-id-1 div.sk-item::before, #sk-container-id-1 div.sk-parallel-item::before {content: \"\";position: absolute;border-left: 1px solid gray;box-sizing: border-box;top: 0;bottom: 0;left: 50%;z-index: -1;}#sk-container-id-1 div.sk-parallel-item {display: flex;flex-direction: column;z-index: 1;position: relative;background-color: white;}#sk-container-id-1 div.sk-parallel-item:first-child::after {align-self: flex-end;width: 50%;}#sk-container-id-1 div.sk-parallel-item:last-child::after {align-self: flex-start;width: 50%;}#sk-container-id-1 div.sk-parallel-item:only-child::after {width: 0;}#sk-container-id-1 div.sk-dashed-wrapped {border: 1px dashed gray;margin: 0 0.4em 0.5em 0.4em;box-sizing: border-box;padding-bottom: 0.4em;background-color: white;}#sk-container-id-1 div.sk-label label {font-family: monospace;font-weight: bold;display: inline-block;line-height: 1.2em;}#sk-container-id-1 div.sk-label-container {text-align: center;}#sk-container-id-1 div.sk-container {/* jupyter's `normalize.less` sets `[hidden] { display: none; }` but bootstrap.min.css set `[hidden] { display: none !important; }` so we also need the `!important` here to be able to override the default hidden behavior on the sphinx rendered scikit-learn.org. See: https://github.com/scikit-learn/scikit-learn/issues/21755 */display: inline-block !important;position: relative;}#sk-container-id-1 div.sk-text-repr-fallback {display: none;}</style><div id=\"sk-container-id-1\" class=\"sk-top-container\"><div class=\"sk-text-repr-fallback\"><pre>LatentDirichletAllocation(random_state=42)</pre><b>In a Jupyter environment, please rerun this cell to show the HTML representation or trust the notebook. <br />On GitHub, the HTML representation is unable to render, please try loading this page with nbviewer.org.</b></div><div class=\"sk-container\" hidden><div class=\"sk-item\"><div class=\"sk-estimator sk-toggleable\"><input class=\"sk-toggleable__control sk-hidden--visually\" id=\"sk-estimator-id-1\" type=\"checkbox\" checked><label for=\"sk-estimator-id-1\" class=\"sk-toggleable__label sk-toggleable__label-arrow\">LatentDirichletAllocation</label><div class=\"sk-toggleable__content\"><pre>LatentDirichletAllocation(random_state=42)</pre></div></div></div></div></div>"
            ]
          },
          "metadata": {},
          "execution_count": 11
        }
      ]
    },
    {
      "cell_type": "markdown",
      "source": [
        "> #### **A) Print topics with top 10 words per topic**"
      ],
      "metadata": {
        "id": "rymHHiiO00Bj"
      }
    },
    {
      "cell_type": "code",
      "source": [
        "def display_topics(model, feature_names, no_top_words):\n",
        "    for topic_idx, topic in enumerate(model.components_):\n",
        "        print(\"Topic %d:\" % (topic_idx))\n",
        "        print(\", \".join([feature_names[i] for i in topic.argsort()[:-no_top_words - 1:-1]]))\n",
        "\n",
        "\n",
        "no_top_words = 10\n",
        "display_topics(lda, vocabulary, no_top_words)"
      ],
      "metadata": {
        "id": "Kc55oSR9sOW3",
        "colab": {
          "base_uri": "https://localhost:8080/"
        },
        "outputId": "8f12a752-e4a2-4881-e755-7f4e9886b4d4"
      },
      "execution_count": 12,
      "outputs": [
        {
          "output_type": "stream",
          "name": "stdout",
          "text": [
            "Topic 0:\n",
            "test set, silicon retina, weight decay, memory based, et al, hidden unit, feature extractor, feature map, dendritic tree, sp sp\n",
            "Topic 1:\n",
            "winner take, model merging, horizontal cell, take network, motion energy, target location, training data, domain theory, limit cycle, error rate\n",
            "Topic 2:\n",
            "spinal cord, network model, model image, expert network, et al, change model, horn usher, muscle tension, gating network, cross validation\n",
            "Topic 3:\n",
            "hidden unit, uniform convergence, center location, recurrent network, context unit, pid controller, relative frequency, knowledge base, second order, supervised learning\n",
            "Topic 4:\n",
            "weight decay, mistake rate, empirical risk, auditory nerve, tone burst, feature unit, segmentation recognition, spatial frequency, firing rate, deterministic annealing\n",
            "Topic 5:\n",
            "hidden unit, training set, control point, rational function, rem sleep, degree approximation, training data, learning curve, evoked potential, piecewise linear\n",
            "Topic 6:\n",
            "hidden unit, wind speed, neural net, reinforcement learning, hebbian rule, decision tree, sensory input, block diagram, xt xt, parsec network\n",
            "Topic 7:\n",
            "hidden unit, recurrent network, ocular dominance, gating network, motor command, neural net, parameter setting, network chip, node function, recurrent neural\n",
            "Topic 8:\n",
            "kernel regression, anti hebbian, basis function, hidden neuron, view object, linear combination, rule extraction, domain knowledge, least square, absolute value\n",
            "Topic 9:\n",
            "output space, vc dimension, et al, dendritic tree, time constant, second order, learning rate, synaptic efficacy, mar model, testing data\n"
          ]
        }
      ]
    },
    {
      "cell_type": "markdown",
      "source": [
        "**But how do we know if this is a reasonable number of topics? What are some ways we could define that?**"
      ],
      "metadata": {
        "id": "RzaABDFKgjkg"
      }
    },
    {
      "cell_type": "markdown",
      "source": [
        "By looking at topic cogerence we can see what the similarity is betweeen all of the topics to know if any of the topics are somewhat uncommon. We could also look at other metrics like perplexity to get a similar understanding."
      ],
      "metadata": {
        "id": "5Lxull7mgpt-"
      }
    },
    {
      "cell_type": "markdown",
      "source": [
        "> #### **B) Examining Topic Coherence**\n",
        "\n",
        "**Let's now get an idea of how our topic model is performing by computing the perplexity and the coherence scores (UMass).**"
      ],
      "metadata": {
        "id": "ujVDR9wU087K"
      }
    },
    {
      "cell_type": "code",
      "source": [
        "# sci-kit learn does not support coherenc score so a different lda model must be brought in for the score\n",
        "def custom_tokenizer(text):\n",
        "    # create unigrams\n",
        "    tokens = nltk.word_tokenize(text)\n",
        "    tokens = [token for token in tokens if token not in stopwords.words('english')]\n",
        "    # create bigrams\n",
        "    bigrams = [\"_\".join(tokens[i:i+2]) for i in range(len(tokens)-1)]\n",
        "    return bigrams\n",
        "\n",
        "tokenized_texts = [custom_tokenizer(text) for text in papers]                          # create a list of bigram strings for each paper"
      ],
      "metadata": {
        "id": "e57ovrLUScDQ"
      },
      "execution_count": 14,
      "outputs": []
    },
    {
      "cell_type": "markdown",
      "source": [
        "**Annoyingly sklearn doesn't do coherence scores so we have to convert our LDA model to a gensim (another NLP library in python) model**"
      ],
      "metadata": {
        "id": "g0YRffWIhGD9"
      }
    },
    {
      "cell_type": "code",
      "source": [
        "gensim_dict = Dictionary(tokenized_texts)\n",
        "gensim_dict.filter_extremes(no_below=2, no_above=0.7) # we need to set this to the same filtering we did during our vectorization step\n",
        "print(gensim_dict)"
      ],
      "metadata": {
        "id": "mODvlJiRVciC",
        "colab": {
          "base_uri": "https://localhost:8080/"
        },
        "outputId": "53a5ed0b-5060-4da2-f131-7cfdac9b8630"
      },
      "execution_count": 15,
      "outputs": [
        {
          "output_type": "stream",
          "name": "stdout",
          "text": [
            "Dictionary<18643 unique tokens: ['ac_cording', 'acknowledgement_author', 'adaptive_network', 'add_new', 'added_weight']...>\n"
          ]
        }
      ]
    },
    {
      "cell_type": "markdown",
      "source": [
        "**Instead of just examining different numbers of topics individually, let's set a range of topics to examine coherence (UMass) scores for and then plot the change in coherence for each topic, we can do this efficiently with a for loop:**"
      ],
      "metadata": {
        "id": "crN3Dbn5hrCT"
      }
    },
    {
      "cell_type": "code",
      "source": [
        "# Container to hold coherence values\n",
        "coherence_values = []\n",
        "\n",
        "topic_nums = range(10, 16) # try 10 to 15 topics\n",
        "\n",
        "# fit LDA model for each value of topic_nums\n",
        "for num_topics in topic_nums:\n",
        "    lda_model = LatentDirichletAllocation(n_components=num_topics, random_state=42)\n",
        "    lda_model.fit(dtm)\n",
        "    # extract top features for each topic, replace with vocab word\n",
        "    word_ids = lda_model.components_.argsort(axis=1)[:, ::-1][:, :10]\n",
        "    topics = [[tv.get_feature_names_out()[i].replace(\" \", \"_\") for i in topic_word_ids] for topic_word_ids in word_ids]\n",
        "    # print extracted topics\n",
        "    print(f\"Extracted topics for num_topics={num_topics}:\")\n",
        "    for idx, topic in enumerate(topics):\n",
        "        print(f\"Topic {idx}: {topic}\")\n",
        "    # calculate and append the topic score\n",
        "    coherence_model_lda = CoherenceModel(topics=topics, texts=tokenized_texts, dictionary=gensim_dict, coherence='u_mass')\n",
        "    coherence_lda = coherence_model_lda.get_coherence()\n",
        "    print(f\"UMass for num_topics={num_topics}: {coherence_lda}\\n\")\n",
        "\n",
        "    coherence_values.append(coherence_lda)"
      ],
      "metadata": {
        "id": "s6dLz1KWnh4Z",
        "colab": {
          "base_uri": "https://localhost:8080/"
        },
        "outputId": "b792f8eb-daf4-4152-e5d9-b8a78c0f7675"
      },
      "execution_count": 18,
      "outputs": [
        {
          "output_type": "stream",
          "name": "stdout",
          "text": [
            "Extracted topics for num_topics=10:\n",
            "Topic 0: ['test_set', 'silicon_retina', 'weight_decay', 'memory_based', 'et_al', 'hidden_unit', 'feature_extractor', 'feature_map', 'dendritic_tree', 'sp_sp']\n",
            "Topic 1: ['winner_take', 'model_merging', 'horizontal_cell', 'take_network', 'motion_energy', 'target_location', 'training_data', 'domain_theory', 'limit_cycle', 'error_rate']\n",
            "Topic 2: ['spinal_cord', 'network_model', 'model_image', 'expert_network', 'et_al', 'change_model', 'horn_usher', 'muscle_tension', 'gating_network', 'cross_validation']\n",
            "Topic 3: ['hidden_unit', 'uniform_convergence', 'center_location', 'recurrent_network', 'context_unit', 'pid_controller', 'relative_frequency', 'knowledge_base', 'second_order', 'supervised_learning']\n",
            "Topic 4: ['weight_decay', 'mistake_rate', 'empirical_risk', 'auditory_nerve', 'tone_burst', 'feature_unit', 'segmentation_recognition', 'spatial_frequency', 'firing_rate', 'deterministic_annealing']\n",
            "Topic 5: ['hidden_unit', 'training_set', 'control_point', 'rational_function', 'rem_sleep', 'degree_approximation', 'training_data', 'learning_curve', 'evoked_potential', 'piecewise_linear']\n",
            "Topic 6: ['hidden_unit', 'wind_speed', 'neural_net', 'reinforcement_learning', 'hebbian_rule', 'decision_tree', 'sensory_input', 'block_diagram', 'xt_xt', 'parsec_network']\n",
            "Topic 7: ['hidden_unit', 'recurrent_network', 'ocular_dominance', 'gating_network', 'motor_command', 'neural_net', 'parameter_setting', 'network_chip', 'node_function', 'recurrent_neural']\n",
            "Topic 8: ['kernel_regression', 'anti_hebbian', 'basis_function', 'hidden_neuron', 'view_object', 'linear_combination', 'rule_extraction', 'domain_knowledge', 'least_square', 'absolute_value']\n",
            "Topic 9: ['output_space', 'vc_dimension', 'et_al', 'dendritic_tree', 'time_constant', 'second_order', 'learning_rate', 'synaptic_efficacy', 'mar_model', 'testing_data']\n",
            "UMass for num_topics=10: -16.136668552891813\n",
            "\n",
            "Extracted topics for num_topics=11:\n",
            "Topic 0: ['hidden_unit', 'decision_tree', 'control_point', 'neural_net', 'silicon_retina', 'sparse_polynomial', 'center_location', 'supervised_learning', 'time_constant', 'threshold_function']\n",
            "Topic 1: ['hidden_unit', 'memory_based', 'feature_unit', 'pid_controller', 'evoked_potential', 'rule_based', 'data_set', 'mar_model', 'testing_data', 'forward_model']\n",
            "Topic 2: ['spatial_frequency', 'object_recognition', 'rem_sleep', 'auditory_nerve', 'view_object', 'uniform_convergence', 'tone_burst', 'weight_decay', 'expert_network', 'gating_network']\n",
            "Topic 3: ['speech_recognition', 'gaussian_mixture', 'ocular_dominance', 'markov_model', 'hidden_markov', 'model_merging', 'phonetic_category', 'tied_mixture', 'test_set', 'feature_space']\n",
            "Topic 4: ['anti_hebbian', 'mistake_rate', 'empirical_risk', 'second_layer', 'output_port', 'neural_net', 'learning_rate', 'hough_transform', 'unit_pattern', 'feedback_controller']\n",
            "Topic 5: ['rational_function', 'degree_approximation', 'hidden_unit', 'change_model', 'muscle_tension', 'parsec_network', 'dendritic_tree', 'cross_validation', 'prediction_risk', 'projection_pursuit']\n",
            "Topic 6: ['hidden_unit', 'recurrent_network', 'xt_xt', 'basis_function', 'hebbian_rule', 'training_set', 'time_constant', 'th_neuron', 'eye_position', 'occam_factor']\n",
            "Topic 7: ['output_space', 'weight_decay', 'hidden_neuron', 'gating_network', 'et_al', 'domain_theory', 'training_data', 'order_recurrent', 'hidden_unit', 'finite_state']\n",
            "Topic 8: ['spinal_cord', 'node_function', 'projection_pursuit', 'synaptic_efficacy', 'smooth_function', 'horn_usher', 'object_oriented', 'impulse_response', 'term_memory', 'pursuit_learning']\n",
            "Topic 9: ['winner_take', 'kernel_regression', 'horizontal_cell', 'motor_command', 'take_network', 'parameter_setting', 'error_function', 'ocular_dominance', 'forward_dynamic', 'silicon_retina']\n",
            "Topic 10: ['vc_dimension', 'hidden_unit', 'wind_speed', 'self_organizing', 'network_chip', 'sp_sp', 'limit_cycle', 'sensory_input', 'feature_extractor', 'segmentation_recognition']\n",
            "UMass for num_topics=11: -16.569654847803285\n",
            "\n",
            "Extracted topics for num_topics=12:\n",
            "Topic 0: ['kernel_regression', 'empirical_risk', 'center_location', 'evoked_potential', 'limit_cycle', 'th_neuron', 'gaussian_mixture', 'model_image', 'occam_factor', 'cross_validation']\n",
            "Topic 1: ['rem_sleep', 'silicon_retina', 'darken_moody', 'null_direction', 'inner_product', 'visual_attention', 'superior_colliculus', 'musical_note', 'basic_network', 'stochastic_gradient']\n",
            "Topic 2: ['set_error', 'view_object', 'target_location', 'network_chip', 'knowledge_base', 'spatial_frequency', 'dendritic_tree', 'vc_dimension', 'low_power', 'training_pattern']\n",
            "Topic 3: ['anti_hebbian', 'memory_based', 'input_window', 'english_alphabet', 'phonetic_category', 'speech_frame', 'background_activity', 'network_activity', 'neuronal_response', 'approximated_surface']\n",
            "Topic 4: ['rational_function', 'degree_approximation', 'synaptic_efficacy', 'error_vector', 'error_correcting', 'random_field', 'hough_transform', 'impulse_response', 'correcting_code', 'markov_random']\n",
            "Topic 5: ['spinal_cord', 'wind_speed', 'model_merging', 'gating_network', 'xt_xt', 'threshold_function', 'two_population', 'threshold_network', 'blind_separation', 'linear_threshold']\n",
            "Topic 6: ['hidden_unit', 'et_al', 'training_set', 'neural_net', 'training_data', 'test_set', 'back_propagation', 'shown_figure', 'data_set', 'figure_show']\n",
            "Topic 7: ['mistake_rate', 'sample_size', 'parameter_setting', 'pid_controller', 'change_model', 'muscle_tension', 'concept_class', 'eye_position', 'mar_model', 'testing_data']\n",
            "Topic 8: ['recurrent_network', 'winner_take', 'parsec_network', 'projection_pursuit', 'hidden_neuron', 'second_order', 'auditory_nerve', 'tone_burst', 'finite_state', 'take_network']\n",
            "Topic 9: ['output_space', 'control_point', 'horizontal_cell', 'uniform_convergence', 'expert_network', 'relative_frequency', 'reinforcement_learning', 'gating_network', 'inverse_kinematics', 'silicon_retina']\n",
            "Topic 10: ['self_organizing', 'feature_unit', 'dendritic_tree', 'domain_theory', 'cross_validation', 'smooth_function', 'projection_pursuit', 'prediction_risk', 'feature_extractor', 'harmonic_function']\n",
            "Topic 11: ['deterministic_annealing', 'synaptic_competition', 'context_unit', 'elastic_net', 'ocular_dominance', 'lgn_cell', 'reduced_description', 'state_action', 'directional_derivative', 'temporal_structure']\n",
            "UMass for num_topics=12: -18.4005289580048\n",
            "\n",
            "Extracted topics for num_topics=13:\n",
            "Topic 0: ['kernel_regression', 'rem_sleep', 'self_organizing', 'network_chip', 'node_function', 'reinforcement_learning', 'deterministic_annealing', 'occam_factor', 'feature_extractor', 'et_al']\n",
            "Topic 1: ['sp_sp', 'center_location', 'target_location', 'change_model', 'muscle_tension', 'supervised_learning', 'tension_change', 'minimum_muscle', 'objective_function', 'grammar_neural']\n",
            "Topic 2: ['hidden_unit', 'training_set', 'training_data', 'back_propagation', 'test_set', 'speech_recognition', 'data_set', 'hidden_layer', 'morgan_kaufmann', 'advance_neural']\n",
            "Topic 3: ['rational_function', 'degree_approximation', 'xt_xt', 'spatial_frequency', 'synaptic_efficacy', 'two_population', 'impulse_response', 'mutual_information', 'basic_network', 'rbf_network']\n",
            "Topic 4: ['gating_network', 'anti_hebbian', 'weight_decay', 'expert_network', 'vc_dimension', 'empirical_risk', 'risk_minimization', 'model_merging', 'principal_component', 'receptive_field']\n",
            "Topic 5: ['ocular_dominance', 'parsec_network', 'auditory_nerve', 'tone_burst', 'basis_function', 'feature_extraction', 'projection_pursuit', 'model_image', 'boltzmann_machine', 'input_image']\n",
            "Topic 6: ['output_space', 'second_order', 'knowledge_base', 'output_port', 'error_function', 'unit_pattern', 'feedback_controller', 'english_alphabet', 'phonetic_category', 'two_state']\n",
            "Topic 7: ['vc_dimension', 'cross_validation', 'memory_based', 'motion_energy', 'input_window', 'neural_net', 'sensory_input', 'forward_model', 'error_vector', 'error_correcting']\n",
            "Topic 8: ['intermediate_model', 'threshold_function', 'horn_usher', 'random_field', 'hough_transform', 'linear_threshold', 'markov_random', 'jordan_jacob', 'term_memory', 'parameter_network']\n",
            "Topic 9: ['control_point', 'mistake_rate', 'uniform_convergence', 'time_constant', 'relative_frequency', 'th_neuron', 'optimal_path', 'testing_data', 'inverse_kinematics', 'mar_model']\n",
            "Topic 10: ['recurrent_network', 'hidden_neuron', 'horizontal_cell', 'motor_command', 'neural_net', 'pid_controller', 'ocular_dominance', 'decision_tree', 'forward_dynamic', 'silicon_retina']\n",
            "Topic 11: ['spinal_cord', 'sample_size', 'projection_pursuit', 'parameter_setting', 'dendritic_tree', 'smooth_function', 'eye_position', 'pattern_recognition', 'ccd_cmos', 'broad_phonetic']\n",
            "Topic 12: ['feature_map', 'wind_speed', 'silicon_retina', 'second_order', 'gradient_descent', 'limit_cycle', 'new_term', 'sparse_polynomial', 'context_unit', 'genetic_algorithm']\n",
            "UMass for num_topics=13: -17.08267913147392\n",
            "\n",
            "Extracted topics for num_topics=14:\n",
            "Topic 0: ['hidden_unit', 'et_al', 'training_set', 'neural_net', 'training_data', 'test_set', 'back_propagation', 'recurrent_network', 'shown_figure', 'data_set']\n",
            "Topic 1: ['kernel_regression', 'prediction_risk', 'gating_network', 'center_location', 'cross_validation', 'pid_controller', 'tied_mixture', 'dendritic_tree', 'rbf_network', 'training_pattern']\n",
            "Topic 2: ['dendritic_tree', 'change_model', 'ocular_dominance', 'muscle_tension', 'synaptic_input', 'intermediate_model', 'inverse_kinematics', 'synaptic_competition', 'new_term', 'sparse_polynomial']\n",
            "Topic 3: ['rational_function', 'wind_speed', 'expert_network', 'model_merging', 'gating_network', 'degree_approximation', 'reinforcement_learning', 'xt_xt', 'two_population', 'line_process']\n",
            "Topic 4: ['ocular_dominance', 'evoked_potential', 'error_function', 'node_function', 'single_layer', 'feature_vector', 'random_field', 'hough_transform', 'markov_random', 'time_warping']\n",
            "Topic 5: ['parsec_network', 'phonetic_category', 'feature_unit', 'sp_sp', 'knowledge_base', 'occam_factor', 'speech_frame', 'speech_translation', 'acoustic_speech', 'english_alphabet']\n",
            "Topic 6: ['winner_take', 'motor_command', 'segmentation_recognition', 'take_network', 'forward_dynamic', 'sensory_input', 'input_window', 'integrated_segmentation', 'time_step', 'hand_printed']\n",
            "Topic 7: ['spinal_cord', 'mistake_rate', 'memory_based', 'output_port', 'feature_map', 'forward_model', 'darken_moody', 'visual_attention', 'superior_colliculus', 'stochastic_gradient']\n",
            "Topic 8: ['output_space', 'hidden_neuron', 'basis_function', 'horn_usher', 'learning_curve', 'term_memory', 'harmonic_function', 'short_term', 'time_scale', 'information_gain']\n",
            "Topic 9: ['uniform_convergence', 'relative_frequency', 'absolute_value', 'projection_pursuit', 'risk_minimization', 'linear_classifier', 'frequency_event', 'neuronal_response', 'boltzmann_machine', 'vapnik_chervonenkis']\n",
            "Topic 10: ['network_chip', 'rem_sleep', 'horizontal_cell', 'self_organizing', 'vc_dimension', 'feature_extractor', 'limit_cycle', 'eye_position', 'object_oriented', 'silicon_retina']\n",
            "Topic 11: ['domain_theory', 'synaptic_efficacy', 'auto_adaptive', 'broad_phonetic', 'state_action', 'mar_model', 'testing_data', 'impulse_response', 'joint_angle', 'motor_command']\n",
            "Topic 12: ['control_point', 'auditory_nerve', 'tone_burst', 'th_neuron', 'spatial_frequency', 'firing_rate', 'context_unit', 'reduced_description', 'optimal_path', 'time_step']\n",
            "Topic 13: ['empirical_risk', 'view_object', 'linear_combination', 'silicon_retina', 'motion_energy', 'parameter_setting', 'model_image', 'smooth_function', 'power_spectrum', 'deterministic_annealing']\n",
            "UMass for num_topics=14: -17.65991778807524\n",
            "\n",
            "Extracted topics for num_topics=15:\n",
            "Topic 0: ['weight_decay', 'kernel_regression', 'recurrent_network', 'time_series', 'optimal_path', 'th_neuron', 'threshold_network', 'sample_size', 'principal_component', 'generalization_error']\n",
            "Topic 1: ['sp_sp', 'inverse_kinematics', 'model_image', 'output_port', 'blind_separation', 'separation_source', 'viewing_position', 'feedback_controller', 'heart_rate', 'sign_bit']\n",
            "Topic 2: ['rational_function', 'degree_approximation', 'deterministic_annealing', 'temporal_difference', 'elastic_net', 'learning_time', 'second_layer', 'time_step', 'time_series', 'hebbian_rule']\n",
            "Topic 3: ['anti_hebbian', 'memory_based', 'dendritic_tree', 'target_location', 'ocular_dominance', 'synaptic_competition', 'synaptic_input', 'forward_model', 'linear_threshold', 'rule_based']\n",
            "Topic 4: ['empirical_risk', 'view_object', 'linear_combination', 'risk_minimization', 'confidence_interval', 'inner_product', 'linear_operator', 'directional_derivative', 'feature_vector', 'statistical_pattern']\n",
            "Topic 5: ['projection_pursuit', 'hidden_unit', 'ocular_dominance', 'auditory_nerve', 'wind_speed', 'horizontal_cell', 'gating_network', 'tone_burst', 'pid_controller', 'cross_validation']\n",
            "Topic 6: ['hidden_unit', 'training_set', 'et_al', 'neural_net', 'training_data', 'shown_figure', 'back_propagation', 'data_set', 'figure_show', 'output_unit']\n",
            "Topic 7: ['rem_sleep', 'mistake_rate', 'phonetic_category', 'feature_map', 'order_recurrent', 'reinforcement_learning', 'mamelak_hobson', 'broad_phonetic', 'new_term', 'sparse_polynomial']\n",
            "Topic 8: ['motion_energy', 'winner_take', 'parsec_network', 'model_merging', 'motor_command', 'take_network', 'second_order', 'forward_dynamic', 'segmentation_recognition', 'motor_control']\n",
            "Topic 9: ['silicon_retina', 'sensory_input', 'context_unit', 'null_direction', 'absolute_value', 'risk_minimization', 'linear_classifier', 'reduced_description', 'early_vision', 'preferred_direction']\n",
            "Topic 10: ['eye_position', 'input_window', 'error_vector', 'error_correcting', 'visual_system', 'correcting_code', 'sensitive_neuron', 'gray_level', 'test_data', 'electrical_stimulation']\n",
            "Topic 11: ['spinal_cord', 'hidden_neuron', 'parameter_setting', 'synaptic_efficacy', 'impulse_response', 'constrained_optimization', 'string_length', 'finite_state', 'speech_translation', 'second_order']\n",
            "Topic 12: ['speech_recognition', 'output_space', 'markov_model', 'hidden_markov', 'spatial_frequency', 'continuous_speech', 'speech_signal', 'gaussian_mixture', 'limit_cycle', 'recognition_system']\n",
            "Topic 13: ['center_location', 'genetic_algorithm', 'basis_function', 'dendritic_tree', 'evoked_potential', 'self_organizing', 'feature_extractor', 'horn_usher', 'supervised_learning', 'term_memory']\n",
            "Topic 14: ['control_point', 'uniform_convergence', 'expert_network', 'relative_frequency', 'change_model', 'network_chip', 'xt_xt', 'domain_theory', 'gating_network', 'threshold_function']\n",
            "UMass for num_topics=15: -17.441241931492744\n",
            "\n"
          ]
        }
      ]
    },
    {
      "cell_type": "code",
      "source": [
        "# Plotting\n",
        "plt.figure(figsize=(10, 6))\n",
        "plt.plot(topic_nums, coherence_values, marker='o')\n",
        "plt.title('UMass Score vs. Number of Topics')\n",
        "plt.xlabel('Number of Topics')\n",
        "plt.ylabel('UMass Score')\n",
        "plt.grid(True)\n",
        "plt.show()"
      ],
      "metadata": {
        "colab": {
          "base_uri": "https://localhost:8080/",
          "height": 564
        },
        "id": "wAZUBte_XF9G",
        "outputId": "435294eb-7d48-4ad3-b656-16e20c8b715b"
      },
      "execution_count": 19,
      "outputs": [
        {
          "output_type": "display_data",
          "data": {
            "text/plain": [
              "<Figure size 1000x600 with 1 Axes>"
            ],
            "image/png": "[encoded data removed]"
          },
          "metadata": {}
        }
      ]
    },
    {
      "cell_type": "markdown",
      "source": [
        "**How do we interpret U_Mass? What is the optimal number of topics between 10-15 for this dataset?**"
      ],
      "metadata": {
        "id": "oWmZpmcRisHo"
      }
    },
    {
      "cell_type": "markdown",
      "source": [
        "We want to maximize the coherence, so, for this dataset, the highest is 10 topics so that is the optimal number."
      ],
      "metadata": {
        "id": "X6UHZOltixy8"
      }
    },
    {
      "cell_type": "markdown",
      "source": [
        "## **Rerun with optimal topic number**"
      ],
      "metadata": {
        "id": "Km3nYO10YQ1H"
      }
    },
    {
      "cell_type": "code",
      "source": [
        "lda = LatentDirichletAllocation(n_components=10, random_state=42)\n",
        "doc_topic = lda.fit(dtm)"
      ],
      "metadata": {
        "id": "plv1_ODIYTit"
      },
      "execution_count": 20,
      "outputs": []
    },
    {
      "cell_type": "markdown",
      "source": [
        "## **Examine top features per topic**"
      ],
      "metadata": {
        "id": "wSrOQinAaEdr"
      }
    },
    {
      "cell_type": "code",
      "source": [
        "no_top_words = 10\n",
        "display_topics(doc_topic, vocabulary, no_top_words)"
      ],
      "metadata": {
        "id": "YYGQzrcysXhF",
        "colab": {
          "base_uri": "https://localhost:8080/"
        },
        "outputId": "6811e9dd-0fdf-4ada-fb3f-d518bb4cc3e4"
      },
      "execution_count": 21,
      "outputs": [
        {
          "output_type": "stream",
          "name": "stdout",
          "text": [
            "Topic 0:\n",
            "test set, silicon retina, weight decay, memory based, et al, hidden unit, feature extractor, feature map, dendritic tree, sp sp\n",
            "Topic 1:\n",
            "winner take, model merging, horizontal cell, take network, motion energy, target location, training data, domain theory, limit cycle, error rate\n",
            "Topic 2:\n",
            "spinal cord, network model, model image, expert network, et al, change model, horn usher, muscle tension, gating network, cross validation\n",
            "Topic 3:\n",
            "hidden unit, uniform convergence, center location, recurrent network, context unit, pid controller, relative frequency, knowledge base, second order, supervised learning\n",
            "Topic 4:\n",
            "weight decay, mistake rate, empirical risk, auditory nerve, tone burst, feature unit, segmentation recognition, spatial frequency, firing rate, deterministic annealing\n",
            "Topic 5:\n",
            "hidden unit, training set, control point, rational function, rem sleep, degree approximation, training data, learning curve, evoked potential, piecewise linear\n",
            "Topic 6:\n",
            "hidden unit, wind speed, neural net, reinforcement learning, hebbian rule, decision tree, sensory input, block diagram, xt xt, parsec network\n",
            "Topic 7:\n",
            "hidden unit, recurrent network, ocular dominance, gating network, motor command, neural net, parameter setting, network chip, node function, recurrent neural\n",
            "Topic 8:\n",
            "kernel regression, anti hebbian, basis function, hidden neuron, view object, linear combination, rule extraction, domain knowledge, least square, absolute value\n",
            "Topic 9:\n",
            "output space, vc dimension, et al, dendritic tree, time constant, second order, learning rate, synaptic efficacy, mar model, testing data\n"
          ]
        }
      ]
    },
    {
      "cell_type": "markdown",
      "source": [
        "**As mentioned before, we can augment our analysis here with ChataGPT, to help us understand these top features and apply a meaningful label.**\n",
        "\n",
        "**Try copying and pasting the list above into chatgpt and asking it to provide topic labels for these neurips papers.**"
      ],
      "metadata": {
        "id": "w_4Efi1okixq"
      }
    },
    {
      "cell_type": "markdown",
      "source": [
        "ChatGPT output:\n",
        "\n",
        "\n",
        "*   Topic 0: Neural Network Architecture\n",
        "*   Topic 1: Neural Network Training and Optimization\n",
        "*   Topic 2: Neural Network Models in Biomedical Research\n",
        "*   Topic 3: Neural Network Learning Algorithms\n",
        "*   Topic 4: Neural Network Performance Evaluation\n",
        "*   Topic 5: Neural Network Training Techniques\n",
        "*   Topic 6: Neural Network Applications in Wind Speed Prediction\n",
        "*   Topic 7: Neural Network Structures and Dynamics\n",
        "*   Topic 8: Neural Network Regression and Function Approximation\n",
        "*   Topic 9: Neural Network Model Evaluation and Testing\n",
        "\n"
      ],
      "metadata": {
        "id": "PzyTPHTwah0E"
      }
    },
    {
      "cell_type": "markdown",
      "source": [
        "## **Finally, let's examine the topic breakdown by document**"
      ],
      "metadata": {
        "id": "KAUC9-PplwcU"
      }
    },
    {
      "cell_type": "code",
      "source": [
        "doc_topic_matrix = lda.transform(dtm)\n",
        "\n",
        "df_doc_topic = pd.DataFrame(doc_topic_matrix, columns=[f'Topic {i}' for i in range(lda.n_components)])\n",
        "df_doc_topic"
      ],
      "metadata": {
        "id": "8X9x_tWQaCnW",
        "colab": {
          "base_uri": "https://localhost:8080/",
          "height": 692
        },
        "outputId": "3005806a-c526-4c45-bf0a-d51f42246a83"
      },
      "execution_count": 23,
      "outputs": [
        {
          "output_type": "execute_result",
          "data": {
            "text/plain": [
              "      Topic 0   Topic 1   Topic 2   Topic 3   Topic 4   Topic 5   Topic 6  \\\n",
              "0    0.950595  0.005490  0.005490  0.005489  0.005489  0.005490  0.005489   \n",
              "1    0.005578  0.949792  0.005580  0.005581  0.005579  0.005578  0.005578   \n",
              "2    0.008111  0.008109  0.008110  0.008110  0.927008  0.008111  0.008109   \n",
              "3    0.007261  0.007264  0.007260  0.007265  0.007262  0.007261  0.007261   \n",
              "4    0.005670  0.005676  0.005673  0.005671  0.005671  0.005671  0.005671   \n",
              "..        ...       ...       ...       ...       ...       ...       ...   \n",
              "139  0.942301  0.006410  0.006411  0.006411  0.006410  0.006410  0.006411   \n",
              "140  0.010514  0.010515  0.010517  0.010514  0.010517  0.905363  0.010515   \n",
              "141  0.005246  0.005248  0.005247  0.005247  0.005246  0.952776  0.005247   \n",
              "142  0.005435  0.005436  0.951073  0.005436  0.005437  0.005438  0.005436   \n",
              "143  0.012428  0.012424  0.012426  0.012422  0.012429  0.012423  0.012422   \n",
              "\n",
              "      Topic 7   Topic 8   Topic 9  \n",
              "0    0.005490  0.005489  0.005489  \n",
              "1    0.005579  0.005577  0.005578  \n",
              "2    0.008110  0.008111  0.008111  \n",
              "3    0.934641  0.007261  0.007264  \n",
              "4    0.948955  0.005671  0.005672  \n",
              "..        ...       ...       ...  \n",
              "139  0.006413  0.006409  0.006413  \n",
              "140  0.010515  0.010516  0.010515  \n",
              "141  0.005247  0.005249  0.005246  \n",
              "142  0.005436  0.005437  0.005435  \n",
              "143  0.012423  0.012420  0.888183  \n",
              "\n",
              "[144 rows x 10 columns]"
            ],
            "text/html": [
              "\n",
              "  <div id=\"df-9e42fa5b-da82-4eb4-bee8-1540c87e9265\" class=\"colab-df-container\">\n",
              "    <div>\n",
              "<style scoped>\n",
              "    .dataframe tbody tr th:only-of-type {\n",
              "        vertical-align: middle;\n",
              "    }\n",
              "\n",
              "    .dataframe tbody tr th {\n",
              "        vertical-align: top;\n",
              "    }\n",
              "\n",
              "    .dataframe thead th {\n",
              "        text-align: right;\n",
              "    }\n",
              "</style>\n",
              "<table border=\"1\" class=\"dataframe\">\n",
              "  <thead>\n",
              "    <tr style=\"text-align: right;\">\n",
              "      <th></th>\n",
              "      <th>Topic 0</th>\n",
              "      <th>Topic 1</th>\n",
              "      <th>Topic 2</th>\n",
              "      <th>Topic 3</th>\n",
              "      <th>Topic 4</th>\n",
              "      <th>Topic 5</th>\n",
              "      <th>Topic 6</th>\n",
              "      <th>Topic 7</th>\n",
              "      <th>Topic 8</th>\n",
              "      <th>Topic 9</th>\n",
              "    </tr>\n",
              "  </thead>\n",
              "  <tbody>\n",
              "    <tr>\n",
              "      <th>0</th>\n",
              "      <td>0.950595</td>\n",
              "      <td>0.005490</td>\n",
              "      <td>0.005490</td>\n",
              "      <td>0.005489</td>\n",
              "      <td>0.005489</td>\n",
              "      <td>0.005490</td>\n",
              "      <td>0.005489</td>\n",
              "      <td>0.005490</td>\n",
              "      <td>0.005489</td>\n",
              "      <td>0.005489</td>\n",
              "    </tr>\n",
              "    <tr>\n",
              "      <th>1</th>\n",
              "      <td>0.005578</td>\n",
              "      <td>0.949792</td>\n",
              "      <td>0.005580</td>\n",
              "      <td>0.005581</td>\n",
              "      <td>0.005579</td>\n",
              "      <td>0.005578</td>\n",
              "      <td>0.005578</td>\n",
              "      <td>0.005579</td>\n",
              "      <td>0.005577</td>\n",
              "      <td>0.005578</td>\n",
              "    </tr>\n",
              "    <tr>\n",
              "      <th>2</th>\n",
              "      <td>0.008111</td>\n",
              "      <td>0.008109</td>\n",
              "      <td>0.008110</td>\n",
              "      <td>0.008110</td>\n",
              "      <td>0.927008</td>\n",
              "      <td>0.008111</td>\n",
              "      <td>0.008109</td>\n",
              "      <td>0.008110</td>\n",
              "      <td>0.008111</td>\n",
              "      <td>0.008111</td>\n",
              "    </tr>\n",
              "    <tr>\n",
              "      <th>3</th>\n",
              "      <td>0.007261</td>\n",
              "      <td>0.007264</td>\n",
              "      <td>0.007260</td>\n",
              "      <td>0.007265</td>\n",
              "      <td>0.007262</td>\n",
              "      <td>0.007261</td>\n",
              "      <td>0.007261</td>\n",
              "      <td>0.934641</td>\n",
              "      <td>0.007261</td>\n",
              "      <td>0.007264</td>\n",
              "    </tr>\n",
              "    <tr>\n",
              "      <th>4</th>\n",
              "      <td>0.005670</td>\n",
              "      <td>0.005676</td>\n",
              "      <td>0.005673</td>\n",
              "      <td>0.005671</td>\n",
              "      <td>0.005671</td>\n",
              "      <td>0.005671</td>\n",
              "      <td>0.005671</td>\n",
              "      <td>0.948955</td>\n",
              "      <td>0.005671</td>\n",
              "      <td>0.005672</td>\n",
              "    </tr>\n",
              "    <tr>\n",
              "      <th>...</th>\n",
              "      <td>...</td>\n",
              "      <td>...</td>\n",
              "      <td>...</td>\n",
              "      <td>...</td>\n",
              "      <td>...</td>\n",
              "      <td>...</td>\n",
              "      <td>...</td>\n",
              "      <td>...</td>\n",
              "      <td>...</td>\n",
              "      <td>...</td>\n",
              "    </tr>\n",
              "    <tr>\n",
              "      <th>139</th>\n",
              "      <td>0.942301</td>\n",
              "      <td>0.006410</td>\n",
              "      <td>0.006411</td>\n",
              "      <td>0.006411</td>\n",
              "      <td>0.006410</td>\n",
              "      <td>0.006410</td>\n",
              "      <td>0.006411</td>\n",
              "      <td>0.006413</td>\n",
              "      <td>0.006409</td>\n",
              "      <td>0.006413</td>\n",
              "    </tr>\n",
              "    <tr>\n",
              "      <th>140</th>\n",
              "      <td>0.010514</td>\n",
              "      <td>0.010515</td>\n",
              "      <td>0.010517</td>\n",
              "      <td>0.010514</td>\n",
              "      <td>0.010517</td>\n",
              "      <td>0.905363</td>\n",
              "      <td>0.010515</td>\n",
              "      <td>0.010515</td>\n",
              "      <td>0.010516</td>\n",
              "      <td>0.010515</td>\n",
              "    </tr>\n",
              "    <tr>\n",
              "      <th>141</th>\n",
              "      <td>0.005246</td>\n",
              "      <td>0.005248</td>\n",
              "      <td>0.005247</td>\n",
              "      <td>0.005247</td>\n",
              "      <td>0.005246</td>\n",
              "      <td>0.952776</td>\n",
              "      <td>0.005247</td>\n",
              "      <td>0.005247</td>\n",
              "      <td>0.005249</td>\n",
              "      <td>0.005246</td>\n",
              "    </tr>\n",
              "    <tr>\n",
              "      <th>142</th>\n",
              "      <td>0.005435</td>\n",
              "      <td>0.005436</td>\n",
              "      <td>0.951073</td>\n",
              "      <td>0.005436</td>\n",
              "      <td>0.005437</td>\n",
              "      <td>0.005438</td>\n",
              "      <td>0.005436</td>\n",
              "      <td>0.005436</td>\n",
              "      <td>0.005437</td>\n",
              "      <td>0.005435</td>\n",
              "    </tr>\n",
              "    <tr>\n",
              "      <th>143</th>\n",
              "      <td>0.012428</td>\n",
              "      <td>0.012424</td>\n",
              "      <td>0.012426</td>\n",
              "      <td>0.012422</td>\n",
              "      <td>0.012429</td>\n",
              "      <td>0.012423</td>\n",
              "      <td>0.012422</td>\n",
              "      <td>0.012423</td>\n",
              "      <td>0.012420</td>\n",
              "      <td>0.888183</td>\n",
              "    </tr>\n",
              "  </tbody>\n",
              "</table>\n",
              "<p>144 rows × 10 columns</p>\n",
              "</div>\n",
              "    <div class=\"colab-df-buttons\">\n",
              "\n",
              "  <div class=\"colab-df-container\">\n",
              "    <button class=\"colab-df-convert\" onclick=\"convertToInteractive('df-9e42fa5b-da82-4eb4-bee8-1540c87e9265')\"\n",
              "            title=\"Convert this dataframe to an interactive table.\"\n",
              "            style=\"display:none;\">\n",
              "\n",
              "  <svg xmlns=\"http://www.w3.org/2000/svg\" height=\"24px\" viewBox=\"0 -960 960 960\">\n",
              "    <path d=\"M120-120v-720h720v720H120Zm60-500h600v-160H180v160Zm220 220h160v-160H400v160Zm0 220h160v-160H400v160ZM180-400h160v-160H180v160Zm440 0h160v-160H620v160ZM180-180h160v-160H180v160Zm440 0h160v-160H620v160Z\"/>\n",
              "  </svg>\n",
              "    </button>\n",
              "\n",
              "  <style>\n",
              "    .colab-df-container {\n",
              "      display:flex;\n",
              "      gap: 12px;\n",
              "    }\n",
              "\n",
              "    .colab-df-convert {\n",
              "      background-color: #E8F0FE;\n",
              "      border: none;\n",
              "      border-radius: 50%;\n",
              "      cursor: pointer;\n",
              "      display: none;\n",
              "      fill: #1967D2;\n",
              "      height: 32px;\n",
              "      padding: 0 0 0 0;\n",
              "      width: 32px;\n",
              "    }\n",
              "\n",
              "    .colab-df-convert:hover {\n",
              "      background-color: #E2EBFA;\n",
              "      box-shadow: 0px 1px 2px rgba(60, 64, 67, 0.3), 0px 1px 3px 1px rgba(60, 64, 67, 0.15);\n",
              "      fill: #174EA6;\n",
              "    }\n",
              "\n",
              "    .colab-df-buttons div {\n",
              "      margin-bottom: 4px;\n",
              "    }\n",
              "\n",
              "    [theme=dark] .colab-df-convert {\n",
              "      background-color: #3B4455;\n",
              "      fill: #D2E3FC;\n",
              "    }\n",
              "\n",
              "    [theme=dark] .colab-df-convert:hover {\n",
              "      background-color: #434B5C;\n",
              "      box-shadow: 0px 1px 3px 1px rgba(0, 0, 0, 0.15);\n",
              "      filter: drop-shadow(0px 1px 2px rgba(0, 0, 0, 0.3));\n",
              "      fill: #FFFFFF;\n",
              "    }\n",
              "  </style>\n",
              "\n",
              "    <script>\n",
              "      const buttonEl =\n",
              "        document.querySelector('#df-9e42fa5b-da82-4eb4-bee8-1540c87e9265 button.colab-df-convert');\n",
              "      buttonEl.style.display =\n",
              "        google.colab.kernel.accessAllowed ? 'block' : 'none';\n",
              "\n",
              "      async function convertToInteractive(key) {\n",
              "        const element = document.querySelector('#df-9e42fa5b-da82-4eb4-bee8-1540c87e9265');\n",
              "        const dataTable =\n",
              "          await google.colab.kernel.invokeFunction('convertToInteractive',\n",
              "                                                    [key], {});\n",
              "        if (!dataTable) return;\n",
              "\n",
              "        const docLinkHtml = 'Like what you see? Visit the ' +\n",
              "          '<a target=\"_blank\" href=https://colab.research.google.com/notebooks/data_table.ipynb>data table notebook</a>'\n",
              "          + ' to learn more about interactive tables.';\n",
              "        element.innerHTML = '';\n",
              "        dataTable['output_type'] = 'display_data';\n",
              "        await google.colab.output.renderOutput(dataTable, element);\n",
              "        const docLink = document.createElement('div');\n",
              "        docLink.innerHTML = docLinkHtml;\n",
              "        element.appendChild(docLink);\n",
              "      }\n",
              "    </script>\n",
              "  </div>\n",
              "\n",
              "\n",
              "<div id=\"df-64bcc03c-dd09-42d3-ac4a-6abeb25ae06a\">\n",
              "  <button class=\"colab-df-quickchart\" onclick=\"quickchart('df-64bcc03c-dd09-42d3-ac4a-6abeb25ae06a')\"\n",
              "            title=\"Suggest charts\"\n",
              "            style=\"display:none;\">\n",
              "\n",
              "<svg xmlns=\"http://www.w3.org/2000/svg\" height=\"24px\"viewBox=\"0 0 24 24\"\n",
              "     width=\"24px\">\n",
              "    <g>\n",
              "        <path d=\"M19 3H5c-1.1 0-2 .9-2 2v14c0 1.1.9 2 2 2h14c1.1 0 2-.9 2-2V5c0-1.1-.9-2-2-2zM9 17H7v-7h2v7zm4 0h-2V7h2v10zm4 0h-2v-4h2v4z\"/>\n",
              "    </g>\n",
              "</svg>\n",
              "  </button>\n",
              "\n",
              "<style>\n",
              "  .colab-df-quickchart {\n",
              "      --bg-color: #E8F0FE;\n",
              "      --fill-color: #1967D2;\n",
              "      --hover-bg-color: #E2EBFA;\n",
              "      --hover-fill-color: #174EA6;\n",
              "      --disabled-fill-color: #AAA;\n",
              "      --disabled-bg-color: #DDD;\n",
              "  }\n",
              "\n",
              "  [theme=dark] .colab-df-quickchart {\n",
              "      --bg-color: #3B4455;\n",
              "      --fill-color: #D2E3FC;\n",
              "      --hover-bg-color: #434B5C;\n",
              "      --hover-fill-color: #FFFFFF;\n",
              "      --disabled-bg-color: #3B4455;\n",
              "      --disabled-fill-color: #666;\n",
              "  }\n",
              "\n",
              "  .colab-df-quickchart {\n",
              "    background-color: var(--bg-color);\n",
              "    border: none;\n",
              "    border-radius: 50%;\n",
              "    cursor: pointer;\n",
              "    display: none;\n",
              "    fill: var(--fill-color);\n",
              "    height: 32px;\n",
              "    padding: 0;\n",
              "    width: 32px;\n",
              "  }\n",
              "\n",
              "  .colab-df-quickchart:hover {\n",
              "    background-color: var(--hover-bg-color);\n",
              "    box-shadow: 0 1px 2px rgba(60, 64, 67, 0.3), 0 1px 3px 1px rgba(60, 64, 67, 0.15);\n",
              "    fill: var(--button-hover-fill-color);\n",
              "  }\n",
              "\n",
              "  .colab-df-quickchart-complete:disabled,\n",
              "  .colab-df-quickchart-complete:disabled:hover {\n",
              "    background-color: var(--disabled-bg-color);\n",
              "    fill: var(--disabled-fill-color);\n",
              "    box-shadow: none;\n",
              "  }\n",
              "\n",
              "  .colab-df-spinner {\n",
              "    border: 2px solid var(--fill-color);\n",
              "    border-color: transparent;\n",
              "    border-bottom-color: var(--fill-color);\n",
              "    animation:\n",
              "      spin 1s steps(1) infinite;\n",
              "  }\n",
              "\n",
              "  @keyframes spin {\n",
              "    0% {\n",
              "      border-color: transparent;\n",
              "      border-bottom-color: var(--fill-color);\n",
              "      border-left-color: var(--fill-color);\n",
              "    }\n",
              "    20% {\n",
              "      border-color: transparent;\n",
              "      border-left-color: var(--fill-color);\n",
              "      border-top-color: var(--fill-color);\n",
              "    }\n",
              "    30% {\n",
              "      border-color: transparent;\n",
              "      border-left-color: var(--fill-color);\n",
              "      border-top-color: var(--fill-color);\n",
              "      border-right-color: var(--fill-color);\n",
              "    }\n",
              "    40% {\n",
              "      border-color: transparent;\n",
              "      border-right-color: var(--fill-color);\n",
              "      border-top-color: var(--fill-color);\n",
              "    }\n",
              "    60% {\n",
              "      border-color: transparent;\n",
              "      border-right-color: var(--fill-color);\n",
              "    }\n",
              "    80% {\n",
              "      border-color: transparent;\n",
              "      border-right-color: var(--fill-color);\n",
              "      border-bottom-color: var(--fill-color);\n",
              "    }\n",
              "    90% {\n",
              "      border-color: transparent;\n",
              "      border-bottom-color: var(--fill-color);\n",
              "    }\n",
              "  }\n",
              "</style>\n",
              "\n",
              "  <script>\n",
              "    async function quickchart(key) {\n",
              "      const quickchartButtonEl =\n",
              "        document.querySelector('#' + key + ' button');\n",
              "      quickchartButtonEl.disabled = true;  // To prevent multiple clicks.\n",
              "      quickchartButtonEl.classList.add('colab-df-spinner');\n",
              "      try {\n",
              "        const charts = await google.colab.kernel.invokeFunction(\n",
              "            'suggestCharts', [key], {});\n",
              "      } catch (error) {\n",
              "        console.error('Error during call to suggestCharts:', error);\n",
              "      }\n",
              "      quickchartButtonEl.classList.remove('colab-df-spinner');\n",
              "      quickchartButtonEl.classList.add('colab-df-quickchart-complete');\n",
              "    }\n",
              "    (() => {\n",
              "      let quickchartButtonEl =\n",
              "        document.querySelector('#df-64bcc03c-dd09-42d3-ac4a-6abeb25ae06a button');\n",
              "      quickchartButtonEl.style.display =\n",
              "        google.colab.kernel.accessAllowed ? 'block' : 'none';\n",
              "    })();\n",
              "  </script>\n",
              "</div>\n",
              "    </div>\n",
              "  </div>\n"
            ],
            "application/vnd.google.colaboratory.intrinsic+json": {
              "type": "dataframe",
              "variable_name": "df_doc_topic",
              "summary": "{\n  \"name\": \"df_doc_topic\",\n  \"rows\": 144,\n  \"fields\": [\n    {\n      \"column\": \"Topic 0\",\n      \"properties\": {\n        \"dtype\": \"number\",\n        \"std\": 0.29409124709069917,\n        \"min\": 0.004798971949261266,\n        \"max\": 0.9505954699158696,\n        \"num_unique_values\": 144,\n        \"samples\": [\n          0.007084046534285249,\n          0.9428193684889715,\n          0.009515015760459709\n        ],\n        \"semantic_type\": \"\",\n        \"description\": \"\"\n      }\n    },\n    {\n      \"column\": \"Topic 1\",\n      \"properties\": {\n        \"dtype\": \"number\",\n        \"std\": 0.2759791022944151,\n        \"min\": 0.004837540418978283,\n        \"max\": 0.9497921504105208,\n        \"num_unique_values\": 144,\n        \"samples\": [\n          0.007083731272376421,\n          0.006352084403906396,\n          0.009514916169371227\n        ],\n        \"semantic_type\": \"\",\n        \"description\": \"\"\n      }\n    },\n    {\n      \"column\": \"Topic 2\",\n      \"properties\": {\n        \"dtype\": \"number\",\n        \"std\": 0.293260413943367,\n        \"min\": 0.0047994917229184034,\n        \"max\": 0.9510733443671932,\n        \"num_unique_values\": 144,\n        \"samples\": [\n          0.007087172032238722,\n          0.0063524190621590745,\n          0.009515172535190793\n        ],\n        \"semantic_type\": \"\",\n        \"description\": \"\"\n      }\n    },\n    {\n      \"column\": \"Topic 3\",\n      \"properties\": {\n        \"dtype\": \"number\",\n        \"std\": 0.2775649698309872,\n        \"min\": 0.004799186719309383,\n        \"max\": 0.9564699258495541,\n        \"num_unique_values\": 144,\n        \"samples\": [\n          0.007084352457266099,\n          0.006356466857871678,\n          0.009515520696707747\n        ],\n        \"semantic_type\": \"\",\n        \"description\": \"\"\n      }\n    },\n    {\n      \"column\": \"Topic 4\",\n      \"properties\": {\n        \"dtype\": \"number\",\n        \"std\": 0.2918824531991139,\n        \"min\": 0.00479926840091939,\n        \"max\": 0.9504522558400713,\n        \"num_unique_values\": 144,\n        \"samples\": [\n          0.0070833035839226515,\n          0.006358058181868108,\n          0.9143615230931716\n        ],\n        \"semantic_type\": \"\",\n        \"description\": \"\"\n      }\n    },\n    {\n      \"column\": \"Topic 5\",\n      \"properties\": {\n        \"dtype\": \"number\",\n        \"std\": 0.27753588941770485,\n        \"min\": 0.004799095636904446,\n        \"max\": 0.9535321823976425,\n        \"num_unique_values\": 144,\n        \"samples\": [\n          0.0070836826873953195,\n          0.006351015445860693,\n          0.00951525158553816\n        ],\n        \"semantic_type\": \"\",\n        \"description\": \"\"\n      }\n    },\n    {\n      \"column\": \"Topic 6\",\n      \"properties\": {\n        \"dtype\": \"number\",\n        \"std\": 0.28388593216716534,\n        \"min\": 0.004835736351491238,\n        \"max\": 0.9523932381669779,\n        \"num_unique_values\": 144,\n        \"samples\": [\n          0.007083911704910836,\n          0.006351247066097298,\n          0.009514401056027853\n        ],\n        \"semantic_type\": \"\",\n        \"description\": \"\"\n      }\n    },\n    {\n      \"column\": \"Topic 7\",\n      \"properties\": {\n        \"dtype\": \"number\",\n        \"std\": 0.30933969994758703,\n        \"min\": 0.004799803732680159,\n        \"max\": 0.9555167704538055,\n        \"num_unique_values\": 144,\n        \"samples\": [\n          0.007084167227932508,\n          0.006355351239074907,\n          0.009514828885787663\n        ],\n        \"semantic_type\": \"\",\n        \"description\": \"\"\n      }\n    },\n    {\n      \"column\": \"Topic 8\",\n      \"properties\": {\n        \"dtype\": \"number\",\n        \"std\": 0.21360701155848014,\n        \"min\": 0.0047990423594214985,\n        \"max\": 0.9490019127272495,\n        \"num_unique_values\": 144,\n        \"samples\": [\n          0.9362414751571049,\n          0.006351051075487298,\n          0.009514677740680334\n        ],\n        \"semantic_type\": \"\",\n        \"description\": \"\"\n      }\n    },\n    {\n      \"column\": \"Topic 9\",\n      \"properties\": {\n        \"dtype\": \"number\",\n        \"std\": 0.2677461716093484,\n        \"min\": 0.004798661221317817,\n        \"max\": 0.9547094885578348,\n        \"num_unique_values\": 144,\n        \"samples\": [\n          0.007084157342567361,\n          0.006352938178702968,\n          0.009518692477064817\n        ],\n        \"semantic_type\": \"\",\n        \"description\": \"\"\n      }\n    }\n  ]\n}"
            }
          },
          "metadata": {},
          "execution_count": 23
        }
      ]
    },
    {
      "cell_type": "code",
      "source": [
        "papers[131][300:2000]"
      ],
      "metadata": {
        "id": "Mc83LWj5drp9",
        "colab": {
          "base_uri": "https://localhost:8080/",
          "height": 226
        },
        "outputId": "1a71db81-9e8f-4a67-c15a-cff1762a665d"
      },
      "execution_count": 28,
      "outputs": [
        {
          "output_type": "execute_result",
          "data": {
            "text/plain": [
              "'problem number important practical issue identified discussed general theoretical per spective practical issue examined context case study td applied learning game backgammon outcome self play apparently first application algorithm complex nontrivial task found zero knowledge built network able learn scratch play entire game fairly strong intermediate level performance clearly better conventional commercial program fact surpasses comparable network trained massive human expert data set hidden unit network apparently discovered useful feature longstanding goal computer game research furthermore set hand crafted feature added input representation resulting network reach near expert level performance achieved good result world class human play introduction consider prospect application td algorithm delayed inforcement learning proposed sutton complex real world problem td algorithm adjusting weight connectionist network w hich tesauro following form aw p p v p pt network output upon observation input pattern zt time w vector weight parameterizes network nd v pk gradient network output respect weight equation basically couple temporal difference method temporal credit assignment gradient descent method structural credit assigment thus provides way adapt supervised learning procedure back propagation solve temporal credit assignment problem parameter interpolates two limiting case corresponds explicit supervised pairing input pattern zt final reward signal corresponds explicit pairing zt next prediction pt x little theoretical guidance available practical us algorithm exam ple one important issue application network learning procedure choice good representation scheme however '"
            ],
            "application/vnd.google.colaboratory.intrinsic+json": {
              "type": "string"
            }
          },
          "metadata": {},
          "execution_count": 28
        }
      ]
    },
    {
      "cell_type": "markdown",
      "source": [
        "**What other sorts of corpora or text data could be examined using topic modeling? Where would it be less useful and what could be an alternative?**"
      ],
      "metadata": {
        "id": "vXVS-7V2mBdE"
      }
    },
    {
      "cell_type": "markdown",
      "source": [
        "Social media data could be interesting to look at. From a platform like X, looking at what topics are being discussed could be catered to specific users that are more likely to enjoy that topic.\n",
        "\n",
        "However, short texts may not perform as well, but other methods like keyword extraction or clustering techniques might be more suitable."
      ],
      "metadata": {
        "id": "qiCf7PqomKzn"
      }
    },
    {
      "cell_type": "code",
      "source": [],
      "metadata": {
        "id": "05EZAw1IWfWk"
      },
      "execution_count": null,
      "outputs": []
    }
  ]
}