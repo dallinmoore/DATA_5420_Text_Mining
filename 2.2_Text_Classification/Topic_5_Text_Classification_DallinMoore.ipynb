{
  "nbformat": 4,
  "nbformat_minor": 0,
  "metadata": {
    "colab": {
      "provenance": []
    },
    "kernelspec": {
      "name": "python3",
      "display_name": "Python 3"
    },
    "language_info": {
      "name": "python"
    }
  },
  "cells": [
    {
      "cell_type": "markdown",
      "source": [
        "# **In-Class Activity Topic 5** - Supervised Document Classification\n",
        "## *DATA 5420/6420*\n",
        "## Name: Dallin Moore\n",
        "\n",
        "In this in-class exercise we will train several supervised classifiers to predict the genre label on the Brown corpus. We will also utilize grid searching to help determine optimal parameters for a final model. Once we've decided on a final model, we will apply it to a toy corpus of short texts and predict their genre.\n",
        "\n",
        "We begin as always, by loading in our dependencies:"
      ],
      "metadata": {
        "id": "noMTyLB7_OfS"
      }
    },
    {
      "cell_type": "code",
      "execution_count": 1,
      "metadata": {
        "id": "AFWhyRaWccuv",
        "colab": {
          "base_uri": "https://localhost:8080/",
          "height": 0
        },
        "outputId": "2655379e-442e-427d-9237-e861506ec78d"
      },
      "outputs": [
        {
          "output_type": "stream",
          "name": "stderr",
          "text": [
            "[nltk_data] Downloading package wordnet to /root/nltk_data...\n",
            "[nltk_data] Downloading package stopwords to /root/nltk_data...\n",
            "[nltk_data]   Unzipping corpora/stopwords.zip.\n",
            "[nltk_data] Downloading package punkt to /root/nltk_data...\n",
            "[nltk_data]   Unzipping tokenizers/punkt.zip.\n"
          ]
        },
        {
          "output_type": "execute_result",
          "data": {
            "text/plain": [
              "True"
            ]
          },
          "metadata": {},
          "execution_count": 1
        }
      ],
      "source": [
        "# Import necessary libraries\n",
        "import nltk\n",
        "import re\n",
        "from nltk.corpus import brown\n",
        "from nltk.stem import WordNetLemmatizer\n",
        "from nltk.corpus import stopwords\n",
        "from sklearn.model_selection import train_test_split\n",
        "from sklearn.feature_extraction.text import TfidfVectorizer\n",
        "import pandas as pd\n",
        "\n",
        "from sklearn.naive_bayes import MultinomialNB\n",
        "from sklearn.svm import LinearSVC\n",
        "from sklearn.ensemble import RandomForestClassifier\n",
        "from sklearn.metrics import accuracy_score\n",
        "\n",
        "from sklearn.metrics import confusion_matrix, classification_report\n",
        "from sklearn.model_selection import GridSearchCV\n",
        "from sklearn.model_selection import cross_val_score\n",
        "\n",
        "import seaborn as sns\n",
        "import matplotlib.pyplot as plt\n",
        "from sklearn.metrics import confusion_matrix\n",
        "\n",
        "# Download the nltk features\n",
        "nltk.download('wordnet')\n",
        "nltk.download('stopwords')\n",
        "nltk.download('punkt')"
      ]
    },
    {
      "cell_type": "code",
      "source": [
        "df = pd.read_csv('/content/Cleaned_Brown.csv')\n",
        "df.head()"
      ],
      "metadata": {
        "id": "nsocdwQRcnYW",
        "colab": {
          "base_uri": "https://localhost:8080/",
          "height": 206
        },
        "outputId": "ebb29958-30df-4cf0-c29a-defd8363683b"
      },
      "execution_count": 2,
      "outputs": [
        {
          "output_type": "execute_result",
          "data": {
            "text/plain": [
              "   Unnamed: 0 doc_para_id label  \\\n",
              "0           0      ca01_0  news   \n",
              "1           1      ca01_1  news   \n",
              "2           2     ca01_10  news   \n",
              "3           3     ca01_11  news   \n",
              "4           4     ca01_12  news   \n",
              "\n",
              "                             combined_tokenized_text  \\\n",
              "0  The Fulton County Grand Jury said Friday an in...   \n",
              "1  The jury further said in term-end presentments...   \n",
              "2  It urged that the next Legislature `` provide ...   \n",
              "3  The grand jury took a swipe at the State Welfa...   \n",
              "4  `` This is one of the major items in the Fulto...   \n",
              "\n",
              "                                          clean_text  \n",
              "0  fulton county grand jury said friday investiga...  \n",
              "1  jury said termend presentment city executive c...  \n",
              "2  urged next legislature provide enabling fund r...  \n",
              "3  grand jury took swipe state welfare department...  \n",
              "4  one major item fulton county general assistanc...  "
            ],
            "text/html": [
              "\n",
              "  <div id=\"df-50357c4b-0f58-4022-8632-f7cec178f481\" class=\"colab-df-container\">\n",
              "    <div>\n",
              "<style scoped>\n",
              "    .dataframe tbody tr th:only-of-type {\n",
              "        vertical-align: middle;\n",
              "    }\n",
              "\n",
              "    .dataframe tbody tr th {\n",
              "        vertical-align: top;\n",
              "    }\n",
              "\n",
              "    .dataframe thead th {\n",
              "        text-align: right;\n",
              "    }\n",
              "</style>\n",
              "<table border=\"1\" class=\"dataframe\">\n",
              "  <thead>\n",
              "    <tr style=\"text-align: right;\">\n",
              "      <th></th>\n",
              "      <th>Unnamed: 0</th>\n",
              "      <th>doc_para_id</th>\n",
              "      <th>label</th>\n",
              "      <th>combined_tokenized_text</th>\n",
              "      <th>clean_text</th>\n",
              "    </tr>\n",
              "  </thead>\n",
              "  <tbody>\n",
              "    <tr>\n",
              "      <th>0</th>\n",
              "      <td>0</td>\n",
              "      <td>ca01_0</td>\n",
              "      <td>news</td>\n",
              "      <td>The Fulton County Grand Jury said Friday an in...</td>\n",
              "      <td>fulton county grand jury said friday investiga...</td>\n",
              "    </tr>\n",
              "    <tr>\n",
              "      <th>1</th>\n",
              "      <td>1</td>\n",
              "      <td>ca01_1</td>\n",
              "      <td>news</td>\n",
              "      <td>The jury further said in term-end presentments...</td>\n",
              "      <td>jury said termend presentment city executive c...</td>\n",
              "    </tr>\n",
              "    <tr>\n",
              "      <th>2</th>\n",
              "      <td>2</td>\n",
              "      <td>ca01_10</td>\n",
              "      <td>news</td>\n",
              "      <td>It urged that the next Legislature `` provide ...</td>\n",
              "      <td>urged next legislature provide enabling fund r...</td>\n",
              "    </tr>\n",
              "    <tr>\n",
              "      <th>3</th>\n",
              "      <td>3</td>\n",
              "      <td>ca01_11</td>\n",
              "      <td>news</td>\n",
              "      <td>The grand jury took a swipe at the State Welfa...</td>\n",
              "      <td>grand jury took swipe state welfare department...</td>\n",
              "    </tr>\n",
              "    <tr>\n",
              "      <th>4</th>\n",
              "      <td>4</td>\n",
              "      <td>ca01_12</td>\n",
              "      <td>news</td>\n",
              "      <td>`` This is one of the major items in the Fulto...</td>\n",
              "      <td>one major item fulton county general assistanc...</td>\n",
              "    </tr>\n",
              "  </tbody>\n",
              "</table>\n",
              "</div>\n",
              "    <div class=\"colab-df-buttons\">\n",
              "\n",
              "  <div class=\"colab-df-container\">\n",
              "    <button class=\"colab-df-convert\" onclick=\"convertToInteractive('df-50357c4b-0f58-4022-8632-f7cec178f481')\"\n",
              "            title=\"Convert this dataframe to an interactive table.\"\n",
              "            style=\"display:none;\">\n",
              "\n",
              "  <svg xmlns=\"http://www.w3.org/2000/svg\" height=\"24px\" viewBox=\"0 -960 960 960\">\n",
              "    <path d=\"M120-120v-720h720v720H120Zm60-500h600v-160H180v160Zm220 220h160v-160H400v160Zm0 220h160v-160H400v160ZM180-400h160v-160H180v160Zm440 0h160v-160H620v160ZM180-180h160v-160H180v160Zm440 0h160v-160H620v160Z\"/>\n",
              "  </svg>\n",
              "    </button>\n",
              "\n",
              "  <style>\n",
              "    .colab-df-container {\n",
              "      display:flex;\n",
              "      gap: 12px;\n",
              "    }\n",
              "\n",
              "    .colab-df-convert {\n",
              "      background-color: #E8F0FE;\n",
              "      border: none;\n",
              "      border-radius: 50%;\n",
              "      cursor: pointer;\n",
              "      display: none;\n",
              "      fill: #1967D2;\n",
              "      height: 32px;\n",
              "      padding: 0 0 0 0;\n",
              "      width: 32px;\n",
              "    }\n",
              "\n",
              "    .colab-df-convert:hover {\n",
              "      background-color: #E2EBFA;\n",
              "      box-shadow: 0px 1px 2px rgba(60, 64, 67, 0.3), 0px 1px 3px 1px rgba(60, 64, 67, 0.15);\n",
              "      fill: #174EA6;\n",
              "    }\n",
              "\n",
              "    .colab-df-buttons div {\n",
              "      margin-bottom: 4px;\n",
              "    }\n",
              "\n",
              "    [theme=dark] .colab-df-convert {\n",
              "      background-color: #3B4455;\n",
              "      fill: #D2E3FC;\n",
              "    }\n",
              "\n",
              "    [theme=dark] .colab-df-convert:hover {\n",
              "      background-color: #434B5C;\n",
              "      box-shadow: 0px 1px 3px 1px rgba(0, 0, 0, 0.15);\n",
              "      filter: drop-shadow(0px 1px 2px rgba(0, 0, 0, 0.3));\n",
              "      fill: #FFFFFF;\n",
              "    }\n",
              "  </style>\n",
              "\n",
              "    <script>\n",
              "      const buttonEl =\n",
              "        document.querySelector('#df-50357c4b-0f58-4022-8632-f7cec178f481 button.colab-df-convert');\n",
              "      buttonEl.style.display =\n",
              "        google.colab.kernel.accessAllowed ? 'block' : 'none';\n",
              "\n",
              "      async function convertToInteractive(key) {\n",
              "        const element = document.querySelector('#df-50357c4b-0f58-4022-8632-f7cec178f481');\n",
              "        const dataTable =\n",
              "          await google.colab.kernel.invokeFunction('convertToInteractive',\n",
              "                                                    [key], {});\n",
              "        if (!dataTable) return;\n",
              "\n",
              "        const docLinkHtml = 'Like what you see? Visit the ' +\n",
              "          '<a target=\"_blank\" href=https://colab.research.google.com/notebooks/data_table.ipynb>data table notebook</a>'\n",
              "          + ' to learn more about interactive tables.';\n",
              "        element.innerHTML = '';\n",
              "        dataTable['output_type'] = 'display_data';\n",
              "        await google.colab.output.renderOutput(dataTable, element);\n",
              "        const docLink = document.createElement('div');\n",
              "        docLink.innerHTML = docLinkHtml;\n",
              "        element.appendChild(docLink);\n",
              "      }\n",
              "    </script>\n",
              "  </div>\n",
              "\n",
              "\n",
              "<div id=\"df-f68d8a20-407c-4f94-b2ed-fac771be1ac4\">\n",
              "  <button class=\"colab-df-quickchart\" onclick=\"quickchart('df-f68d8a20-407c-4f94-b2ed-fac771be1ac4')\"\n",
              "            title=\"Suggest charts\"\n",
              "            style=\"display:none;\">\n",
              "\n",
              "<svg xmlns=\"http://www.w3.org/2000/svg\" height=\"24px\"viewBox=\"0 0 24 24\"\n",
              "     width=\"24px\">\n",
              "    <g>\n",
              "        <path d=\"M19 3H5c-1.1 0-2 .9-2 2v14c0 1.1.9 2 2 2h14c1.1 0 2-.9 2-2V5c0-1.1-.9-2-2-2zM9 17H7v-7h2v7zm4 0h-2V7h2v10zm4 0h-2v-4h2v4z\"/>\n",
              "    </g>\n",
              "</svg>\n",
              "  </button>\n",
              "\n",
              "<style>\n",
              "  .colab-df-quickchart {\n",
              "      --bg-color: #E8F0FE;\n",
              "      --fill-color: #1967D2;\n",
              "      --hover-bg-color: #E2EBFA;\n",
              "      --hover-fill-color: #174EA6;\n",
              "      --disabled-fill-color: #AAA;\n",
              "      --disabled-bg-color: #DDD;\n",
              "  }\n",
              "\n",
              "  [theme=dark] .colab-df-quickchart {\n",
              "      --bg-color: #3B4455;\n",
              "      --fill-color: #D2E3FC;\n",
              "      --hover-bg-color: #434B5C;\n",
              "      --hover-fill-color: #FFFFFF;\n",
              "      --disabled-bg-color: #3B4455;\n",
              "      --disabled-fill-color: #666;\n",
              "  }\n",
              "\n",
              "  .colab-df-quickchart {\n",
              "    background-color: var(--bg-color);\n",
              "    border: none;\n",
              "    border-radius: 50%;\n",
              "    cursor: pointer;\n",
              "    display: none;\n",
              "    fill: var(--fill-color);\n",
              "    height: 32px;\n",
              "    padding: 0;\n",
              "    width: 32px;\n",
              "  }\n",
              "\n",
              "  .colab-df-quickchart:hover {\n",
              "    background-color: var(--hover-bg-color);\n",
              "    box-shadow: 0 1px 2px rgba(60, 64, 67, 0.3), 0 1px 3px 1px rgba(60, 64, 67, 0.15);\n",
              "    fill: var(--button-hover-fill-color);\n",
              "  }\n",
              "\n",
              "  .colab-df-quickchart-complete:disabled,\n",
              "  .colab-df-quickchart-complete:disabled:hover {\n",
              "    background-color: var(--disabled-bg-color);\n",
              "    fill: var(--disabled-fill-color);\n",
              "    box-shadow: none;\n",
              "  }\n",
              "\n",
              "  .colab-df-spinner {\n",
              "    border: 2px solid var(--fill-color);\n",
              "    border-color: transparent;\n",
              "    border-bottom-color: var(--fill-color);\n",
              "    animation:\n",
              "      spin 1s steps(1) infinite;\n",
              "  }\n",
              "\n",
              "  @keyframes spin {\n",
              "    0% {\n",
              "      border-color: transparent;\n",
              "      border-bottom-color: var(--fill-color);\n",
              "      border-left-color: var(--fill-color);\n",
              "    }\n",
              "    20% {\n",
              "      border-color: transparent;\n",
              "      border-left-color: var(--fill-color);\n",
              "      border-top-color: var(--fill-color);\n",
              "    }\n",
              "    30% {\n",
              "      border-color: transparent;\n",
              "      border-left-color: var(--fill-color);\n",
              "      border-top-color: var(--fill-color);\n",
              "      border-right-color: var(--fill-color);\n",
              "    }\n",
              "    40% {\n",
              "      border-color: transparent;\n",
              "      border-right-color: var(--fill-color);\n",
              "      border-top-color: var(--fill-color);\n",
              "    }\n",
              "    60% {\n",
              "      border-color: transparent;\n",
              "      border-right-color: var(--fill-color);\n",
              "    }\n",
              "    80% {\n",
              "      border-color: transparent;\n",
              "      border-right-color: var(--fill-color);\n",
              "      border-bottom-color: var(--fill-color);\n",
              "    }\n",
              "    90% {\n",
              "      border-color: transparent;\n",
              "      border-bottom-color: var(--fill-color);\n",
              "    }\n",
              "  }\n",
              "</style>\n",
              "\n",
              "  <script>\n",
              "    async function quickchart(key) {\n",
              "      const quickchartButtonEl =\n",
              "        document.querySelector('#' + key + ' button');\n",
              "      quickchartButtonEl.disabled = true;  // To prevent multiple clicks.\n",
              "      quickchartButtonEl.classList.add('colab-df-spinner');\n",
              "      try {\n",
              "        const charts = await google.colab.kernel.invokeFunction(\n",
              "            'suggestCharts', [key], {});\n",
              "      } catch (error) {\n",
              "        console.error('Error during call to suggestCharts:', error);\n",
              "      }\n",
              "      quickchartButtonEl.classList.remove('colab-df-spinner');\n",
              "      quickchartButtonEl.classList.add('colab-df-quickchart-complete');\n",
              "    }\n",
              "    (() => {\n",
              "      let quickchartButtonEl =\n",
              "        document.querySelector('#df-f68d8a20-407c-4f94-b2ed-fac771be1ac4 button');\n",
              "      quickchartButtonEl.style.display =\n",
              "        google.colab.kernel.accessAllowed ? 'block' : 'none';\n",
              "    })();\n",
              "  </script>\n",
              "</div>\n",
              "    </div>\n",
              "  </div>\n"
            ]
          },
          "metadata": {},
          "execution_count": 2
        }
      ]
    },
    {
      "cell_type": "markdown",
      "source": [
        "## Peform any necessary cleaning and text normalization"
      ],
      "metadata": {
        "id": "P0S1ZHBw_1pm"
      }
    },
    {
      "cell_type": "code",
      "source": [
        "# Text normalization function\n",
        "def normalize_text(text):\n",
        "    text = text.lower()\n",
        "    text = re.sub(r'[^a-zA-Z\\s]', '', text)\n",
        "    words = nltk.word_tokenize(text)\n",
        "    words = [word for word in words if word not in stopwords.words('english')]\n",
        "    lemmatizer = WordNetLemmatizer()\n",
        "    words = [lemmatizer.lemmatize(word) for word in words]\n",
        "    return ' '.join(words)\n",
        "\n",
        "# Apply text normalization to the 'text' column\n",
        "df['clean_text'] ="
      ],
      "metadata": {
        "id": "dipMFCwSdn7i"
      },
      "execution_count": null,
      "outputs": []
    },
    {
      "cell_type": "code",
      "source": [
        "#df.to_csv('Cleaned_Brown.csv')\n",
        "# df = pd.read_csv('')\n"
      ],
      "metadata": {
        "id": "zI0Od4-Cu5d9"
      },
      "execution_count": null,
      "outputs": []
    },
    {
      "cell_type": "markdown",
      "source": [
        "## Let's examine the breakdown of the genre labels...\n",
        "\n",
        "What are the most common genres in this dataset, which are the least? What impact might this have on the predictive accuracy of the models we train?"
      ],
      "metadata": {
        "id": "FKSop5AnAAra"
      }
    },
    {
      "cell_type": "code",
      "source": [
        "# check for missing data, and drop out observations as necessary\n",
        "df.info()"
      ],
      "metadata": {
        "id": "hAT_W2NjIpqG",
        "colab": {
          "base_uri": "https://localhost:8080/",
          "height": 0
        },
        "outputId": "e473a796-f4cb-4160-ccbd-9390b172f39a"
      },
      "execution_count": 4,
      "outputs": [
        {
          "output_type": "stream",
          "name": "stdout",
          "text": [
            "<class 'pandas.core.frame.DataFrame'>\n",
            "RangeIndex: 15667 entries, 0 to 15666\n",
            "Data columns (total 5 columns):\n",
            " #   Column                   Non-Null Count  Dtype \n",
            "---  ------                   --------------  ----- \n",
            " 0   Unnamed: 0               15667 non-null  int64 \n",
            " 1   doc_para_id              15667 non-null  object\n",
            " 2   label                    15667 non-null  object\n",
            " 3   combined_tokenized_text  15667 non-null  object\n",
            " 4   clean_text               15622 non-null  object\n",
            "dtypes: int64(1), object(4)\n",
            "memory usage: 612.1+ KB\n"
          ]
        }
      ]
    },
    {
      "cell_type": "code",
      "source": [
        "df.dropna(inplace=True)"
      ],
      "metadata": {
        "id": "-CA1nA20Ge6Z"
      },
      "execution_count": 5,
      "outputs": []
    },
    {
      "cell_type": "code",
      "source": [
        "# examine labels\n",
        "df['label'].value_counts()"
      ],
      "metadata": {
        "id": "_ct2lyff4J6Y",
        "colab": {
          "base_uri": "https://localhost:8080/",
          "height": 0
        },
        "outputId": "1e402ffd-29ba-4695-f4ed-515a7eaa5eca"
      },
      "execution_count": 3,
      "outputs": [
        {
          "output_type": "execute_result",
          "data": {
            "text/plain": [
              "news               2234\n",
              "learned            1418\n",
              "belles_lettres     1405\n",
              "adventure          1387\n",
              "romance            1253\n",
              "lore               1203\n",
              "mystery            1164\n",
              "hobbies            1119\n",
              "fiction            1043\n",
              "editorial          1003\n",
              "government          851\n",
              "reviews             629\n",
              "religion            369\n",
              "science_fiction     335\n",
              "humor               254\n",
              "Name: label, dtype: int64"
            ]
          },
          "metadata": {},
          "execution_count": 3
        }
      ]
    },
    {
      "cell_type": "markdown",
      "source": [
        "There is not even distribution between the different genres. The model will be trained on many more articles in the 'news' genre compared to the 'humor' genre. It may be better at classifying news because it has more data to examine."
      ],
      "metadata": {
        "id": "AVrDW70IAPRJ"
      }
    },
    {
      "cell_type": "markdown",
      "source": [
        "## Split the data into a training and test set"
      ],
      "metadata": {
        "id": "DLSVlEGvAQUM"
      }
    },
    {
      "cell_type": "code",
      "source": [
        "# Split data into text and labels\n",
        "texts = df['clean_text'].tolist()\n",
        "labels = df['label'].tolist()\n",
        "\n",
        "# Split data into training and testing sets\n",
        "X_train, X_test, y_train, y_test = train_test_split(texts, labels, test_size=.2, random_state=42)"
      ],
      "metadata": {
        "id": "yCTO59xvuJOb"
      },
      "execution_count": 7,
      "outputs": []
    },
    {
      "cell_type": "markdown",
      "source": [
        "## Peform feature engineering by vectorizing the text with TF-IDF\n",
        "\n",
        "Let's set `min_df` and `max_df` to limit the number of features, then we'll check to see how many features we have in our dataset:"
      ],
      "metadata": {
        "id": "B2F_3cnTAW4U"
      }
    },
    {
      "cell_type": "code",
      "source": [
        "# Create a TF-IDF vectorizer\n",
        "vectorizer = TfidfVectorizer(stop_words = 'english', min_df=1, max_df=0.8)\n",
        "X_train_vec = vectorizer.fit_transform(X_train)\n",
        "X_test_vec = vectorizer.transform(X_test) # we need to have the same number of features in the test set as the training set (even if it's zero)\n",
        "\n",
        "num_features_train = X_train_vec.shape[1]\n",
        "num_features_test = X_test_vec.shape[1]\n",
        "print(num_features_test,num_features_train)"
      ],
      "metadata": {
        "id": "7Oa_zqIjucZ2",
        "colab": {
          "base_uri": "https://localhost:8080/",
          "height": 0
        },
        "outputId": "1f38587a-22f3-426e-be30-b1778d2c064e"
      },
      "execution_count": 8,
      "outputs": [
        {
          "output_type": "stream",
          "name": "stdout",
          "text": [
            "36120 36120\n"
          ]
        }
      ]
    },
    {
      "cell_type": "markdown",
      "source": [
        "## Now let's train a few supervised classifiers using our training set"
      ],
      "metadata": {
        "id": "210f5Qa4A0a_"
      }
    },
    {
      "cell_type": "code",
      "source": [
        "models = {\n",
        "    'Naive Bayes': MultinomialNB(),\n",
        "    'Linear SVM': LinearSVC(random_state=42),\n",
        "    'Random Forests': RandomForestClassifier(random_state=42)\n",
        "}\n",
        "\n",
        "# Perform cross-validation for each model\n",
        "for name, model in models.items():\n",
        "    scores = cross_val_score(model,X_train_vec,y_train,cv=5)\n",
        "    print(f\"{name} Cross-Validation Mean Accuracy: {scores.mean():.4f}\")"
      ],
      "metadata": {
        "id": "6UDk7tk8uf77",
        "colab": {
          "base_uri": "https://localhost:8080/",
          "height": 0
        },
        "outputId": "d1b81175-ab32-42db-c36a-6109db208719"
      },
      "execution_count": 9,
      "outputs": [
        {
          "output_type": "stream",
          "name": "stdout",
          "text": [
            "Naive Bayes Cross-Validation Mean Accuracy: 0.4688\n",
            "Linear SVM Cross-Validation Mean Accuracy: 0.6868\n",
            "Random Forests Cross-Validation Mean Accuracy: 0.4780\n"
          ]
        }
      ]
    },
    {
      "cell_type": "markdown",
      "source": [
        "**Which model appears to be performing best?**"
      ],
      "metadata": {
        "id": "2GkW4tZABFTU"
      }
    },
    {
      "cell_type": "markdown",
      "source": [
        "Linear SVM has the highest score and preformed the best, while naive  bayes and random forest were about the same in accuracy and not far above the baseline."
      ],
      "metadata": {
        "id": "Z-AyzozNBLtf"
      }
    },
    {
      "cell_type": "markdown",
      "source": [
        "## Finally, let's select the best performing model and perform a CV grid search to select optimal parameters"
      ],
      "metadata": {
        "id": "RfXHfFslBNkF"
      }
    },
    {
      "cell_type": "code",
      "source": [
        "param_grid_svc = {\n",
        "    'C': [0.001, 0.01, 0.1, 1, 10],\n",
        "    'loss': ['hinge', 'squared_hinge'],\n",
        "    'max_iter': [1000, 5000, 10000]\n",
        "}\n",
        "\n",
        "# Grid search for LinearSVC\n",
        "grid_search_svc = GridSearchCV(LinearSVC(random_state=42), param_grid_svc, cv=5, verbose=10)\n",
        "grid_search_svc.fit(X_train_vec, y_train)\n",
        "\n",
        "# After fitting, you would typically print the best parameters as follows:\n",
        "print(\"Best parameters for LinearSVC:\", grid_search_svc.best_params_)"
      ],
      "metadata": {
        "id": "7Fu9T7Fxuix4",
        "colab": {
          "base_uri": "https://localhost:8080/",
          "height": 0
        },
        "outputId": "173ffe40-fbd9-4d75-8068-38af306f3fdb"
      },
      "execution_count": 10,
      "outputs": [
        {
          "output_type": "stream",
          "name": "stdout",
          "text": [
            "Fitting 5 folds for each of 30 candidates, totalling 150 fits\n",
            "[CV 1/5; 1/30] START C=0.001, loss=hinge, max_iter=1000.........................\n",
            "[CV 1/5; 1/30] END C=0.001, loss=hinge, max_iter=1000;, score=0.632 total time=   0.6s\n",
            "[CV 2/5; 1/30] START C=0.001, loss=hinge, max_iter=1000.........................\n",
            "[CV 2/5; 1/30] END C=0.001, loss=hinge, max_iter=1000;, score=0.644 total time=   0.6s\n",
            "[CV 3/5; 1/30] START C=0.001, loss=hinge, max_iter=1000.........................\n",
            "[CV 3/5; 1/30] END C=0.001, loss=hinge, max_iter=1000;, score=0.641 total time=   1.5s\n",
            "[CV 4/5; 1/30] START C=0.001, loss=hinge, max_iter=1000.........................\n",
            "[CV 4/5; 1/30] END C=0.001, loss=hinge, max_iter=1000;, score=0.650 total time=   1.1s\n",
            "[CV 5/5; 1/30] START C=0.001, loss=hinge, max_iter=1000.........................\n",
            "[CV 5/5; 1/30] END C=0.001, loss=hinge, max_iter=1000;, score=0.635 total time=   0.9s\n",
            "[CV 1/5; 2/30] START C=0.001, loss=hinge, max_iter=5000.........................\n",
            "[CV 1/5; 2/30] END C=0.001, loss=hinge, max_iter=5000;, score=0.632 total time=   0.7s\n",
            "[CV 2/5; 2/30] START C=0.001, loss=hinge, max_iter=5000.........................\n",
            "[CV 2/5; 2/30] END C=0.001, loss=hinge, max_iter=5000;, score=0.644 total time=   0.4s\n",
            "[CV 3/5; 2/30] START C=0.001, loss=hinge, max_iter=5000.........................\n",
            "[CV 3/5; 2/30] END C=0.001, loss=hinge, max_iter=5000;, score=0.641 total time=   0.4s\n",
            "[CV 4/5; 2/30] START C=0.001, loss=hinge, max_iter=5000.........................\n",
            "[CV 4/5; 2/30] END C=0.001, loss=hinge, max_iter=5000;, score=0.650 total time=   0.4s\n",
            "[CV 5/5; 2/30] START C=0.001, loss=hinge, max_iter=5000.........................\n",
            "[CV 5/5; 2/30] END C=0.001, loss=hinge, max_iter=5000;, score=0.635 total time=   0.4s\n",
            "[CV 1/5; 3/30] START C=0.001, loss=hinge, max_iter=10000........................\n",
            "[CV 1/5; 3/30] END C=0.001, loss=hinge, max_iter=10000;, score=0.632 total time=   0.4s\n",
            "[CV 2/5; 3/30] START C=0.001, loss=hinge, max_iter=10000........................\n",
            "[CV 2/5; 3/30] END C=0.001, loss=hinge, max_iter=10000;, score=0.644 total time=   0.4s\n",
            "[CV 3/5; 3/30] START C=0.001, loss=hinge, max_iter=10000........................\n",
            "[CV 3/5; 3/30] END C=0.001, loss=hinge, max_iter=10000;, score=0.641 total time=   0.3s\n",
            "[CV 4/5; 3/30] START C=0.001, loss=hinge, max_iter=10000........................\n",
            "[CV 4/5; 3/30] END C=0.001, loss=hinge, max_iter=10000;, score=0.650 total time=   0.4s\n",
            "[CV 5/5; 3/30] START C=0.001, loss=hinge, max_iter=10000........................\n",
            "[CV 5/5; 3/30] END C=0.001, loss=hinge, max_iter=10000;, score=0.635 total time=   0.4s\n",
            "[CV 1/5; 4/30] START C=0.001, loss=squared_hinge, max_iter=1000.................\n",
            "[CV 1/5; 4/30] END C=0.001, loss=squared_hinge, max_iter=1000;, score=0.145 total time=   0.3s\n",
            "[CV 2/5; 4/30] START C=0.001, loss=squared_hinge, max_iter=1000.................\n",
            "[CV 2/5; 4/30] END C=0.001, loss=squared_hinge, max_iter=1000;, score=0.146 total time=   0.3s\n",
            "[CV 3/5; 4/30] START C=0.001, loss=squared_hinge, max_iter=1000.................\n",
            "[CV 3/5; 4/30] END C=0.001, loss=squared_hinge, max_iter=1000;, score=0.146 total time=   0.3s\n",
            "[CV 4/5; 4/30] START C=0.001, loss=squared_hinge, max_iter=1000.................\n",
            "[CV 4/5; 4/30] END C=0.001, loss=squared_hinge, max_iter=1000;, score=0.146 total time=   0.3s\n",
            "[CV 5/5; 4/30] START C=0.001, loss=squared_hinge, max_iter=1000.................\n",
            "[CV 5/5; 4/30] END C=0.001, loss=squared_hinge, max_iter=1000;, score=0.146 total time=   0.2s\n",
            "[CV 1/5; 5/30] START C=0.001, loss=squared_hinge, max_iter=5000.................\n",
            "[CV 1/5; 5/30] END C=0.001, loss=squared_hinge, max_iter=5000;, score=0.145 total time=   0.2s\n",
            "[CV 2/5; 5/30] START C=0.001, loss=squared_hinge, max_iter=5000.................\n",
            "[CV 2/5; 5/30] END C=0.001, loss=squared_hinge, max_iter=5000;, score=0.146 total time=   0.3s\n",
            "[CV 3/5; 5/30] START C=0.001, loss=squared_hinge, max_iter=5000.................\n",
            "[CV 3/5; 5/30] END C=0.001, loss=squared_hinge, max_iter=5000;, score=0.146 total time=   0.3s\n",
            "[CV 4/5; 5/30] START C=0.001, loss=squared_hinge, max_iter=5000.................\n",
            "[CV 4/5; 5/30] END C=0.001, loss=squared_hinge, max_iter=5000;, score=0.146 total time=   0.3s\n",
            "[CV 5/5; 5/30] START C=0.001, loss=squared_hinge, max_iter=5000.................\n",
            "[CV 5/5; 5/30] END C=0.001, loss=squared_hinge, max_iter=5000;, score=0.146 total time=   0.3s\n",
            "[CV 1/5; 6/30] START C=0.001, loss=squared_hinge, max_iter=10000................\n",
            "[CV 1/5; 6/30] END C=0.001, loss=squared_hinge, max_iter=10000;, score=0.145 total time=   0.3s\n",
            "[CV 2/5; 6/30] START C=0.001, loss=squared_hinge, max_iter=10000................\n",
            "[CV 2/5; 6/30] END C=0.001, loss=squared_hinge, max_iter=10000;, score=0.146 total time=   0.3s\n",
            "[CV 3/5; 6/30] START C=0.001, loss=squared_hinge, max_iter=10000................\n",
            "[CV 3/5; 6/30] END C=0.001, loss=squared_hinge, max_iter=10000;, score=0.146 total time=   0.3s\n",
            "[CV 4/5; 6/30] START C=0.001, loss=squared_hinge, max_iter=10000................\n",
            "[CV 4/5; 6/30] END C=0.001, loss=squared_hinge, max_iter=10000;, score=0.146 total time=   0.3s\n",
            "[CV 5/5; 6/30] START C=0.001, loss=squared_hinge, max_iter=10000................\n",
            "[CV 5/5; 6/30] END C=0.001, loss=squared_hinge, max_iter=10000;, score=0.146 total time=   0.3s\n",
            "[CV 1/5; 7/30] START C=0.01, loss=hinge, max_iter=1000..........................\n",
            "[CV 1/5; 7/30] END C=0.01, loss=hinge, max_iter=1000;, score=0.650 total time=   0.5s\n",
            "[CV 2/5; 7/30] START C=0.01, loss=hinge, max_iter=1000..........................\n",
            "[CV 2/5; 7/30] END C=0.01, loss=hinge, max_iter=1000;, score=0.664 total time=   0.5s\n",
            "[CV 3/5; 7/30] START C=0.01, loss=hinge, max_iter=1000..........................\n",
            "[CV 3/5; 7/30] END C=0.01, loss=hinge, max_iter=1000;, score=0.655 total time=   0.6s\n",
            "[CV 4/5; 7/30] START C=0.01, loss=hinge, max_iter=1000..........................\n",
            "[CV 4/5; 7/30] END C=0.01, loss=hinge, max_iter=1000;, score=0.673 total time=   0.8s\n",
            "[CV 5/5; 7/30] START C=0.01, loss=hinge, max_iter=1000..........................\n",
            "[CV 5/5; 7/30] END C=0.01, loss=hinge, max_iter=1000;, score=0.655 total time=   0.8s\n",
            "[CV 1/5; 8/30] START C=0.01, loss=hinge, max_iter=5000..........................\n",
            "[CV 1/5; 8/30] END C=0.01, loss=hinge, max_iter=5000;, score=0.650 total time=   0.8s\n",
            "[CV 2/5; 8/30] START C=0.01, loss=hinge, max_iter=5000..........................\n",
            "[CV 2/5; 8/30] END C=0.01, loss=hinge, max_iter=5000;, score=0.664 total time=   0.6s\n",
            "[CV 3/5; 8/30] START C=0.01, loss=hinge, max_iter=5000..........................\n",
            "[CV 3/5; 8/30] END C=0.01, loss=hinge, max_iter=5000;, score=0.655 total time=   0.5s\n",
            "[CV 4/5; 8/30] START C=0.01, loss=hinge, max_iter=5000..........................\n",
            "[CV 4/5; 8/30] END C=0.01, loss=hinge, max_iter=5000;, score=0.673 total time=   0.5s\n",
            "[CV 5/5; 8/30] START C=0.01, loss=hinge, max_iter=5000..........................\n",
            "[CV 5/5; 8/30] END C=0.01, loss=hinge, max_iter=5000;, score=0.655 total time=   0.5s\n",
            "[CV 1/5; 9/30] START C=0.01, loss=hinge, max_iter=10000.........................\n",
            "[CV 1/5; 9/30] END C=0.01, loss=hinge, max_iter=10000;, score=0.650 total time=   0.5s\n",
            "[CV 2/5; 9/30] START C=0.01, loss=hinge, max_iter=10000.........................\n",
            "[CV 2/5; 9/30] END C=0.01, loss=hinge, max_iter=10000;, score=0.664 total time=   0.6s\n",
            "[CV 3/5; 9/30] START C=0.01, loss=hinge, max_iter=10000.........................\n",
            "[CV 3/5; 9/30] END C=0.01, loss=hinge, max_iter=10000;, score=0.655 total time=   0.5s\n",
            "[CV 4/5; 9/30] START C=0.01, loss=hinge, max_iter=10000.........................\n",
            "[CV 4/5; 9/30] END C=0.01, loss=hinge, max_iter=10000;, score=0.673 total time=   0.5s\n",
            "[CV 5/5; 9/30] START C=0.01, loss=hinge, max_iter=10000.........................\n",
            "[CV 5/5; 9/30] END C=0.01, loss=hinge, max_iter=10000;, score=0.655 total time=   0.5s\n",
            "[CV 1/5; 10/30] START C=0.01, loss=squared_hinge, max_iter=1000.................\n",
            "[CV 1/5; 10/30] END C=0.01, loss=squared_hinge, max_iter=1000;, score=0.370 total time=   0.4s\n",
            "[CV 2/5; 10/30] START C=0.01, loss=squared_hinge, max_iter=1000.................\n",
            "[CV 2/5; 10/30] END C=0.01, loss=squared_hinge, max_iter=1000;, score=0.360 total time=   0.3s\n",
            "[CV 3/5; 10/30] START C=0.01, loss=squared_hinge, max_iter=1000.................\n",
            "[CV 3/5; 10/30] END C=0.01, loss=squared_hinge, max_iter=1000;, score=0.367 total time=   0.4s\n",
            "[CV 4/5; 10/30] START C=0.01, loss=squared_hinge, max_iter=1000.................\n",
            "[CV 4/5; 10/30] END C=0.01, loss=squared_hinge, max_iter=1000;, score=0.351 total time=   0.3s\n",
            "[CV 5/5; 10/30] START C=0.01, loss=squared_hinge, max_iter=1000.................\n",
            "[CV 5/5; 10/30] END C=0.01, loss=squared_hinge, max_iter=1000;, score=0.356 total time=   0.3s\n",
            "[CV 1/5; 11/30] START C=0.01, loss=squared_hinge, max_iter=5000.................\n",
            "[CV 1/5; 11/30] END C=0.01, loss=squared_hinge, max_iter=5000;, score=0.370 total time=   0.3s\n",
            "[CV 2/5; 11/30] START C=0.01, loss=squared_hinge, max_iter=5000.................\n",
            "[CV 2/5; 11/30] END C=0.01, loss=squared_hinge, max_iter=5000;, score=0.360 total time=   0.3s\n",
            "[CV 3/5; 11/30] START C=0.01, loss=squared_hinge, max_iter=5000.................\n",
            "[CV 3/5; 11/30] END C=0.01, loss=squared_hinge, max_iter=5000;, score=0.367 total time=   0.3s\n",
            "[CV 4/5; 11/30] START C=0.01, loss=squared_hinge, max_iter=5000.................\n",
            "[CV 4/5; 11/30] END C=0.01, loss=squared_hinge, max_iter=5000;, score=0.351 total time=   0.3s\n",
            "[CV 5/5; 11/30] START C=0.01, loss=squared_hinge, max_iter=5000.................\n",
            "[CV 5/5; 11/30] END C=0.01, loss=squared_hinge, max_iter=5000;, score=0.356 total time=   0.3s\n",
            "[CV 1/5; 12/30] START C=0.01, loss=squared_hinge, max_iter=10000................\n",
            "[CV 1/5; 12/30] END C=0.01, loss=squared_hinge, max_iter=10000;, score=0.370 total time=   0.4s\n",
            "[CV 2/5; 12/30] START C=0.01, loss=squared_hinge, max_iter=10000................\n",
            "[CV 2/5; 12/30] END C=0.01, loss=squared_hinge, max_iter=10000;, score=0.360 total time=   0.6s\n",
            "[CV 3/5; 12/30] START C=0.01, loss=squared_hinge, max_iter=10000................\n",
            "[CV 3/5; 12/30] END C=0.01, loss=squared_hinge, max_iter=10000;, score=0.367 total time=   0.6s\n",
            "[CV 4/5; 12/30] START C=0.01, loss=squared_hinge, max_iter=10000................\n",
            "[CV 4/5; 12/30] END C=0.01, loss=squared_hinge, max_iter=10000;, score=0.351 total time=   1.0s\n",
            "[CV 5/5; 12/30] START C=0.01, loss=squared_hinge, max_iter=10000................\n",
            "[CV 5/5; 12/30] END C=0.01, loss=squared_hinge, max_iter=10000;, score=0.356 total time=   0.6s\n",
            "[CV 1/5; 13/30] START C=0.1, loss=hinge, max_iter=1000..........................\n",
            "[CV 1/5; 13/30] END C=0.1, loss=hinge, max_iter=1000;, score=0.652 total time=   1.5s\n",
            "[CV 2/5; 13/30] START C=0.1, loss=hinge, max_iter=1000..........................\n",
            "[CV 2/5; 13/30] END C=0.1, loss=hinge, max_iter=1000;, score=0.666 total time=   0.8s\n",
            "[CV 3/5; 13/30] START C=0.1, loss=hinge, max_iter=1000..........................\n",
            "[CV 3/5; 13/30] END C=0.1, loss=hinge, max_iter=1000;, score=0.656 total time=   0.8s\n",
            "[CV 4/5; 13/30] START C=0.1, loss=hinge, max_iter=1000..........................\n",
            "[CV 4/5; 13/30] END C=0.1, loss=hinge, max_iter=1000;, score=0.674 total time=   0.9s\n",
            "[CV 5/5; 13/30] START C=0.1, loss=hinge, max_iter=1000..........................\n",
            "[CV 5/5; 13/30] END C=0.1, loss=hinge, max_iter=1000;, score=0.657 total time=   0.7s\n",
            "[CV 1/5; 14/30] START C=0.1, loss=hinge, max_iter=5000..........................\n",
            "[CV 1/5; 14/30] END C=0.1, loss=hinge, max_iter=5000;, score=0.652 total time=   1.0s\n",
            "[CV 2/5; 14/30] START C=0.1, loss=hinge, max_iter=5000..........................\n",
            "[CV 2/5; 14/30] END C=0.1, loss=hinge, max_iter=5000;, score=0.666 total time=   0.9s\n",
            "[CV 3/5; 14/30] START C=0.1, loss=hinge, max_iter=5000..........................\n",
            "[CV 3/5; 14/30] END C=0.1, loss=hinge, max_iter=5000;, score=0.656 total time=   0.8s\n",
            "[CV 4/5; 14/30] START C=0.1, loss=hinge, max_iter=5000..........................\n",
            "[CV 4/5; 14/30] END C=0.1, loss=hinge, max_iter=5000;, score=0.674 total time=   0.9s\n",
            "[CV 5/5; 14/30] START C=0.1, loss=hinge, max_iter=5000..........................\n",
            "[CV 5/5; 14/30] END C=0.1, loss=hinge, max_iter=5000;, score=0.657 total time=   0.8s\n",
            "[CV 1/5; 15/30] START C=0.1, loss=hinge, max_iter=10000.........................\n",
            "[CV 1/5; 15/30] END C=0.1, loss=hinge, max_iter=10000;, score=0.652 total time=   1.0s\n",
            "[CV 2/5; 15/30] START C=0.1, loss=hinge, max_iter=10000.........................\n",
            "[CV 2/5; 15/30] END C=0.1, loss=hinge, max_iter=10000;, score=0.666 total time=   0.8s\n",
            "[CV 3/5; 15/30] START C=0.1, loss=hinge, max_iter=10000.........................\n",
            "[CV 3/5; 15/30] END C=0.1, loss=hinge, max_iter=10000;, score=0.656 total time=   1.1s\n",
            "[CV 4/5; 15/30] START C=0.1, loss=hinge, max_iter=10000.........................\n",
            "[CV 4/5; 15/30] END C=0.1, loss=hinge, max_iter=10000;, score=0.674 total time=   1.4s\n",
            "[CV 5/5; 15/30] START C=0.1, loss=hinge, max_iter=10000.........................\n",
            "[CV 5/5; 15/30] END C=0.1, loss=hinge, max_iter=10000;, score=0.657 total time=   0.9s\n",
            "[CV 1/5; 16/30] START C=0.1, loss=squared_hinge, max_iter=1000..................\n",
            "[CV 1/5; 16/30] END C=0.1, loss=squared_hinge, max_iter=1000;, score=0.628 total time=   0.5s\n",
            "[CV 2/5; 16/30] START C=0.1, loss=squared_hinge, max_iter=1000..................\n",
            "[CV 2/5; 16/30] END C=0.1, loss=squared_hinge, max_iter=1000;, score=0.634 total time=   0.4s\n",
            "[CV 3/5; 16/30] START C=0.1, loss=squared_hinge, max_iter=1000..................\n",
            "[CV 3/5; 16/30] END C=0.1, loss=squared_hinge, max_iter=1000;, score=0.623 total time=   0.4s\n",
            "[CV 4/5; 16/30] START C=0.1, loss=squared_hinge, max_iter=1000..................\n",
            "[CV 4/5; 16/30] END C=0.1, loss=squared_hinge, max_iter=1000;, score=0.639 total time=   0.4s\n",
            "[CV 5/5; 16/30] START C=0.1, loss=squared_hinge, max_iter=1000..................\n",
            "[CV 5/5; 16/30] END C=0.1, loss=squared_hinge, max_iter=1000;, score=0.623 total time=   0.4s\n",
            "[CV 1/5; 17/30] START C=0.1, loss=squared_hinge, max_iter=5000..................\n",
            "[CV 1/5; 17/30] END C=0.1, loss=squared_hinge, max_iter=5000;, score=0.628 total time=   0.4s\n",
            "[CV 2/5; 17/30] START C=0.1, loss=squared_hinge, max_iter=5000..................\n",
            "[CV 2/5; 17/30] END C=0.1, loss=squared_hinge, max_iter=5000;, score=0.634 total time=   0.5s\n",
            "[CV 3/5; 17/30] START C=0.1, loss=squared_hinge, max_iter=5000..................\n",
            "[CV 3/5; 17/30] END C=0.1, loss=squared_hinge, max_iter=5000;, score=0.623 total time=   0.4s\n",
            "[CV 4/5; 17/30] START C=0.1, loss=squared_hinge, max_iter=5000..................\n",
            "[CV 4/5; 17/30] END C=0.1, loss=squared_hinge, max_iter=5000;, score=0.639 total time=   0.4s\n",
            "[CV 5/5; 17/30] START C=0.1, loss=squared_hinge, max_iter=5000..................\n",
            "[CV 5/5; 17/30] END C=0.1, loss=squared_hinge, max_iter=5000;, score=0.623 total time=   0.4s\n",
            "[CV 1/5; 18/30] START C=0.1, loss=squared_hinge, max_iter=10000.................\n",
            "[CV 1/5; 18/30] END C=0.1, loss=squared_hinge, max_iter=10000;, score=0.628 total time=   0.4s\n",
            "[CV 2/5; 18/30] START C=0.1, loss=squared_hinge, max_iter=10000.................\n",
            "[CV 2/5; 18/30] END C=0.1, loss=squared_hinge, max_iter=10000;, score=0.634 total time=   0.4s\n",
            "[CV 3/5; 18/30] START C=0.1, loss=squared_hinge, max_iter=10000.................\n",
            "[CV 3/5; 18/30] END C=0.1, loss=squared_hinge, max_iter=10000;, score=0.623 total time=   0.4s\n",
            "[CV 4/5; 18/30] START C=0.1, loss=squared_hinge, max_iter=10000.................\n",
            "[CV 4/5; 18/30] END C=0.1, loss=squared_hinge, max_iter=10000;, score=0.639 total time=   0.4s\n",
            "[CV 5/5; 18/30] START C=0.1, loss=squared_hinge, max_iter=10000.................\n",
            "[CV 5/5; 18/30] END C=0.1, loss=squared_hinge, max_iter=10000;, score=0.623 total time=   0.4s\n",
            "[CV 1/5; 19/30] START C=1, loss=hinge, max_iter=1000............................\n"
          ]
        },
        {
          "output_type": "stream",
          "name": "stderr",
          "text": [
            "/usr/local/lib/python3.10/dist-packages/sklearn/svm/_base.py:1244: ConvergenceWarning: Liblinear failed to converge, increase the number of iterations.\n",
            "  warnings.warn(\n"
          ]
        },
        {
          "output_type": "stream",
          "name": "stdout",
          "text": [
            "[CV 1/5; 19/30] END C=1, loss=hinge, max_iter=1000;, score=0.678 total time=   1.5s\n",
            "[CV 2/5; 19/30] START C=1, loss=hinge, max_iter=1000............................\n"
          ]
        },
        {
          "output_type": "stream",
          "name": "stderr",
          "text": [
            "/usr/local/lib/python3.10/dist-packages/sklearn/svm/_base.py:1244: ConvergenceWarning: Liblinear failed to converge, increase the number of iterations.\n",
            "  warnings.warn(\n"
          ]
        },
        {
          "output_type": "stream",
          "name": "stdout",
          "text": [
            "[CV 2/5; 19/30] END C=1, loss=hinge, max_iter=1000;, score=0.691 total time=   2.2s\n",
            "[CV 3/5; 19/30] START C=1, loss=hinge, max_iter=1000............................\n",
            "[CV 3/5; 19/30] END C=1, loss=hinge, max_iter=1000;, score=0.681 total time=   1.6s\n",
            "[CV 4/5; 19/30] START C=1, loss=hinge, max_iter=1000............................\n"
          ]
        },
        {
          "output_type": "stream",
          "name": "stderr",
          "text": [
            "/usr/local/lib/python3.10/dist-packages/sklearn/svm/_base.py:1244: ConvergenceWarning: Liblinear failed to converge, increase the number of iterations.\n",
            "  warnings.warn(\n"
          ]
        },
        {
          "output_type": "stream",
          "name": "stdout",
          "text": [
            "[CV 4/5; 19/30] END C=1, loss=hinge, max_iter=1000;, score=0.695 total time=   1.7s\n",
            "[CV 5/5; 19/30] START C=1, loss=hinge, max_iter=1000............................\n"
          ]
        },
        {
          "output_type": "stream",
          "name": "stderr",
          "text": [
            "/usr/local/lib/python3.10/dist-packages/sklearn/svm/_base.py:1244: ConvergenceWarning: Liblinear failed to converge, increase the number of iterations.\n",
            "  warnings.warn(\n"
          ]
        },
        {
          "output_type": "stream",
          "name": "stdout",
          "text": [
            "[CV 5/5; 19/30] END C=1, loss=hinge, max_iter=1000;, score=0.683 total time=   1.8s\n",
            "[CV 1/5; 20/30] START C=1, loss=hinge, max_iter=5000............................\n",
            "[CV 1/5; 20/30] END C=1, loss=hinge, max_iter=5000;, score=0.678 total time=   1.6s\n",
            "[CV 2/5; 20/30] START C=1, loss=hinge, max_iter=5000............................\n",
            "[CV 2/5; 20/30] END C=1, loss=hinge, max_iter=5000;, score=0.691 total time=   2.0s\n",
            "[CV 3/5; 20/30] START C=1, loss=hinge, max_iter=5000............................\n",
            "[CV 3/5; 20/30] END C=1, loss=hinge, max_iter=5000;, score=0.681 total time=   1.1s\n",
            "[CV 4/5; 20/30] START C=1, loss=hinge, max_iter=5000............................\n",
            "[CV 4/5; 20/30] END C=1, loss=hinge, max_iter=5000;, score=0.695 total time=   3.2s\n",
            "[CV 5/5; 20/30] START C=1, loss=hinge, max_iter=5000............................\n",
            "[CV 5/5; 20/30] END C=1, loss=hinge, max_iter=5000;, score=0.683 total time=   2.6s\n",
            "[CV 1/5; 21/30] START C=1, loss=hinge, max_iter=10000...........................\n",
            "[CV 1/5; 21/30] END C=1, loss=hinge, max_iter=10000;, score=0.678 total time=   1.6s\n",
            "[CV 2/5; 21/30] START C=1, loss=hinge, max_iter=10000...........................\n",
            "[CV 2/5; 21/30] END C=1, loss=hinge, max_iter=10000;, score=0.691 total time=   1.9s\n",
            "[CV 3/5; 21/30] START C=1, loss=hinge, max_iter=10000...........................\n",
            "[CV 3/5; 21/30] END C=1, loss=hinge, max_iter=10000;, score=0.681 total time=   1.1s\n",
            "[CV 4/5; 21/30] START C=1, loss=hinge, max_iter=10000...........................\n",
            "[CV 4/5; 21/30] END C=1, loss=hinge, max_iter=10000;, score=0.695 total time=   2.8s\n",
            "[CV 5/5; 21/30] START C=1, loss=hinge, max_iter=10000...........................\n",
            "[CV 5/5; 21/30] END C=1, loss=hinge, max_iter=10000;, score=0.683 total time=   2.3s\n",
            "[CV 1/5; 22/30] START C=1, loss=squared_hinge, max_iter=1000....................\n",
            "[CV 1/5; 22/30] END C=1, loss=squared_hinge, max_iter=1000;, score=0.680 total time=   1.1s\n",
            "[CV 2/5; 22/30] START C=1, loss=squared_hinge, max_iter=1000....................\n",
            "[CV 2/5; 22/30] END C=1, loss=squared_hinge, max_iter=1000;, score=0.694 total time=   0.9s\n",
            "[CV 3/5; 22/30] START C=1, loss=squared_hinge, max_iter=1000....................\n",
            "[CV 3/5; 22/30] END C=1, loss=squared_hinge, max_iter=1000;, score=0.681 total time=   0.6s\n",
            "[CV 4/5; 22/30] START C=1, loss=squared_hinge, max_iter=1000....................\n",
            "[CV 4/5; 22/30] END C=1, loss=squared_hinge, max_iter=1000;, score=0.694 total time=   0.7s\n",
            "[CV 5/5; 22/30] START C=1, loss=squared_hinge, max_iter=1000....................\n",
            "[CV 5/5; 22/30] END C=1, loss=squared_hinge, max_iter=1000;, score=0.684 total time=   0.7s\n",
            "[CV 1/5; 23/30] START C=1, loss=squared_hinge, max_iter=5000....................\n",
            "[CV 1/5; 23/30] END C=1, loss=squared_hinge, max_iter=5000;, score=0.680 total time=   0.7s\n",
            "[CV 2/5; 23/30] START C=1, loss=squared_hinge, max_iter=5000....................\n",
            "[CV 2/5; 23/30] END C=1, loss=squared_hinge, max_iter=5000;, score=0.694 total time=   0.7s\n",
            "[CV 3/5; 23/30] START C=1, loss=squared_hinge, max_iter=5000....................\n",
            "[CV 3/5; 23/30] END C=1, loss=squared_hinge, max_iter=5000;, score=0.681 total time=   0.6s\n",
            "[CV 4/5; 23/30] START C=1, loss=squared_hinge, max_iter=5000....................\n",
            "[CV 4/5; 23/30] END C=1, loss=squared_hinge, max_iter=5000;, score=0.694 total time=   0.6s\n",
            "[CV 5/5; 23/30] START C=1, loss=squared_hinge, max_iter=5000....................\n",
            "[CV 5/5; 23/30] END C=1, loss=squared_hinge, max_iter=5000;, score=0.684 total time=   0.6s\n",
            "[CV 1/5; 24/30] START C=1, loss=squared_hinge, max_iter=10000...................\n",
            "[CV 1/5; 24/30] END C=1, loss=squared_hinge, max_iter=10000;, score=0.680 total time=   0.6s\n",
            "[CV 2/5; 24/30] START C=1, loss=squared_hinge, max_iter=10000...................\n",
            "[CV 2/5; 24/30] END C=1, loss=squared_hinge, max_iter=10000;, score=0.694 total time=   0.7s\n",
            "[CV 3/5; 24/30] START C=1, loss=squared_hinge, max_iter=10000...................\n",
            "[CV 3/5; 24/30] END C=1, loss=squared_hinge, max_iter=10000;, score=0.681 total time=   0.6s\n",
            "[CV 4/5; 24/30] START C=1, loss=squared_hinge, max_iter=10000...................\n",
            "[CV 4/5; 24/30] END C=1, loss=squared_hinge, max_iter=10000;, score=0.694 total time=   0.7s\n",
            "[CV 5/5; 24/30] START C=1, loss=squared_hinge, max_iter=10000...................\n",
            "[CV 5/5; 24/30] END C=1, loss=squared_hinge, max_iter=10000;, score=0.684 total time=   0.7s\n",
            "[CV 1/5; 25/30] START C=10, loss=hinge, max_iter=1000...........................\n"
          ]
        },
        {
          "output_type": "stream",
          "name": "stderr",
          "text": [
            "/usr/local/lib/python3.10/dist-packages/sklearn/svm/_base.py:1244: ConvergenceWarning: Liblinear failed to converge, increase the number of iterations.\n",
            "  warnings.warn(\n"
          ]
        },
        {
          "output_type": "stream",
          "name": "stdout",
          "text": [
            "[CV 1/5; 25/30] END C=10, loss=hinge, max_iter=1000;, score=0.645 total time=   4.0s\n",
            "[CV 2/5; 25/30] START C=10, loss=hinge, max_iter=1000...........................\n"
          ]
        },
        {
          "output_type": "stream",
          "name": "stderr",
          "text": [
            "/usr/local/lib/python3.10/dist-packages/sklearn/svm/_base.py:1244: ConvergenceWarning: Liblinear failed to converge, increase the number of iterations.\n",
            "  warnings.warn(\n"
          ]
        },
        {
          "output_type": "stream",
          "name": "stdout",
          "text": [
            "[CV 2/5; 25/30] END C=10, loss=hinge, max_iter=1000;, score=0.646 total time=   3.2s\n",
            "[CV 3/5; 25/30] START C=10, loss=hinge, max_iter=1000...........................\n"
          ]
        },
        {
          "output_type": "stream",
          "name": "stderr",
          "text": [
            "/usr/local/lib/python3.10/dist-packages/sklearn/svm/_base.py:1244: ConvergenceWarning: Liblinear failed to converge, increase the number of iterations.\n",
            "  warnings.warn(\n"
          ]
        },
        {
          "output_type": "stream",
          "name": "stdout",
          "text": [
            "[CV 3/5; 25/30] END C=10, loss=hinge, max_iter=1000;, score=0.643 total time=   3.5s\n",
            "[CV 4/5; 25/30] START C=10, loss=hinge, max_iter=1000...........................\n"
          ]
        },
        {
          "output_type": "stream",
          "name": "stderr",
          "text": [
            "/usr/local/lib/python3.10/dist-packages/sklearn/svm/_base.py:1244: ConvergenceWarning: Liblinear failed to converge, increase the number of iterations.\n",
            "  warnings.warn(\n"
          ]
        },
        {
          "output_type": "stream",
          "name": "stdout",
          "text": [
            "[CV 4/5; 25/30] END C=10, loss=hinge, max_iter=1000;, score=0.656 total time=   3.7s\n",
            "[CV 5/5; 25/30] START C=10, loss=hinge, max_iter=1000...........................\n"
          ]
        },
        {
          "output_type": "stream",
          "name": "stderr",
          "text": [
            "/usr/local/lib/python3.10/dist-packages/sklearn/svm/_base.py:1244: ConvergenceWarning: Liblinear failed to converge, increase the number of iterations.\n",
            "  warnings.warn(\n"
          ]
        },
        {
          "output_type": "stream",
          "name": "stdout",
          "text": [
            "[CV 5/5; 25/30] END C=10, loss=hinge, max_iter=1000;, score=0.646 total time=   5.0s\n",
            "[CV 1/5; 26/30] START C=10, loss=hinge, max_iter=5000...........................\n",
            "[CV 1/5; 26/30] END C=10, loss=hinge, max_iter=5000;, score=0.645 total time=   3.4s\n",
            "[CV 2/5; 26/30] START C=10, loss=hinge, max_iter=5000...........................\n",
            "[CV 2/5; 26/30] END C=10, loss=hinge, max_iter=5000;, score=0.646 total time=   3.3s\n",
            "[CV 3/5; 26/30] START C=10, loss=hinge, max_iter=5000...........................\n",
            "[CV 3/5; 26/30] END C=10, loss=hinge, max_iter=5000;, score=0.643 total time=   4.4s\n",
            "[CV 4/5; 26/30] START C=10, loss=hinge, max_iter=5000...........................\n",
            "[CV 4/5; 26/30] END C=10, loss=hinge, max_iter=5000;, score=0.656 total time=   3.5s\n",
            "[CV 5/5; 26/30] START C=10, loss=hinge, max_iter=5000...........................\n",
            "[CV 5/5; 26/30] END C=10, loss=hinge, max_iter=5000;, score=0.646 total time=   4.2s\n",
            "[CV 1/5; 27/30] START C=10, loss=hinge, max_iter=10000..........................\n",
            "[CV 1/5; 27/30] END C=10, loss=hinge, max_iter=10000;, score=0.645 total time=   4.4s\n",
            "[CV 2/5; 27/30] START C=10, loss=hinge, max_iter=10000..........................\n",
            "[CV 2/5; 27/30] END C=10, loss=hinge, max_iter=10000;, score=0.646 total time=   3.2s\n",
            "[CV 3/5; 27/30] START C=10, loss=hinge, max_iter=10000..........................\n",
            "[CV 3/5; 27/30] END C=10, loss=hinge, max_iter=10000;, score=0.643 total time=   3.5s\n",
            "[CV 4/5; 27/30] START C=10, loss=hinge, max_iter=10000..........................\n",
            "[CV 4/5; 27/30] END C=10, loss=hinge, max_iter=10000;, score=0.656 total time=   4.0s\n",
            "[CV 5/5; 27/30] START C=10, loss=hinge, max_iter=10000..........................\n",
            "[CV 5/5; 27/30] END C=10, loss=hinge, max_iter=10000;, score=0.646 total time=   4.4s\n",
            "[CV 1/5; 28/30] START C=10, loss=squared_hinge, max_iter=1000...................\n",
            "[CV 1/5; 28/30] END C=10, loss=squared_hinge, max_iter=1000;, score=0.649 total time=   2.9s\n",
            "[CV 2/5; 28/30] START C=10, loss=squared_hinge, max_iter=1000...................\n",
            "[CV 2/5; 28/30] END C=10, loss=squared_hinge, max_iter=1000;, score=0.653 total time=   2.6s\n",
            "[CV 3/5; 28/30] START C=10, loss=squared_hinge, max_iter=1000...................\n",
            "[CV 3/5; 28/30] END C=10, loss=squared_hinge, max_iter=1000;, score=0.650 total time=   3.4s\n",
            "[CV 4/5; 28/30] START C=10, loss=squared_hinge, max_iter=1000...................\n",
            "[CV 4/5; 28/30] END C=10, loss=squared_hinge, max_iter=1000;, score=0.667 total time=   2.7s\n",
            "[CV 5/5; 28/30] START C=10, loss=squared_hinge, max_iter=1000...................\n",
            "[CV 5/5; 28/30] END C=10, loss=squared_hinge, max_iter=1000;, score=0.653 total time=   2.7s\n",
            "[CV 1/5; 29/30] START C=10, loss=squared_hinge, max_iter=5000...................\n",
            "[CV 1/5; 29/30] END C=10, loss=squared_hinge, max_iter=5000;, score=0.649 total time=   2.8s\n",
            "[CV 2/5; 29/30] START C=10, loss=squared_hinge, max_iter=5000...................\n",
            "[CV 2/5; 29/30] END C=10, loss=squared_hinge, max_iter=5000;, score=0.653 total time=   3.0s\n",
            "[CV 3/5; 29/30] START C=10, loss=squared_hinge, max_iter=5000...................\n",
            "[CV 3/5; 29/30] END C=10, loss=squared_hinge, max_iter=5000;, score=0.650 total time=   3.1s\n",
            "[CV 4/5; 29/30] START C=10, loss=squared_hinge, max_iter=5000...................\n",
            "[CV 4/5; 29/30] END C=10, loss=squared_hinge, max_iter=5000;, score=0.667 total time=   2.7s\n",
            "[CV 5/5; 29/30] START C=10, loss=squared_hinge, max_iter=5000...................\n",
            "[CV 5/5; 29/30] END C=10, loss=squared_hinge, max_iter=5000;, score=0.653 total time=   2.7s\n",
            "[CV 1/5; 30/30] START C=10, loss=squared_hinge, max_iter=10000..................\n",
            "[CV 1/5; 30/30] END C=10, loss=squared_hinge, max_iter=10000;, score=0.649 total time=   2.8s\n",
            "[CV 2/5; 30/30] START C=10, loss=squared_hinge, max_iter=10000..................\n",
            "[CV 2/5; 30/30] END C=10, loss=squared_hinge, max_iter=10000;, score=0.653 total time=   3.5s\n",
            "[CV 3/5; 30/30] START C=10, loss=squared_hinge, max_iter=10000..................\n",
            "[CV 3/5; 30/30] END C=10, loss=squared_hinge, max_iter=10000;, score=0.650 total time=   2.6s\n",
            "[CV 4/5; 30/30] START C=10, loss=squared_hinge, max_iter=10000..................\n",
            "[CV 4/5; 30/30] END C=10, loss=squared_hinge, max_iter=10000;, score=0.667 total time=   2.7s\n",
            "[CV 5/5; 30/30] START C=10, loss=squared_hinge, max_iter=10000..................\n",
            "[CV 5/5; 30/30] END C=10, loss=squared_hinge, max_iter=10000;, score=0.653 total time=   2.7s\n",
            "Best parameters for LinearSVC: {'C': 1, 'loss': 'squared_hinge', 'max_iter': 1000}\n"
          ]
        }
      ]
    },
    {
      "cell_type": "markdown",
      "source": [
        "## Now apply the final model to the test set, and produce a confusion matrix and classification report:"
      ],
      "metadata": {
        "id": "Iso3MWmKBfc3"
      }
    },
    {
      "cell_type": "code",
      "source": [
        "y_pred = grid_search_svc.predict(X_test_vec)"
      ],
      "metadata": {
        "id": "ZXsmHvnPJR9k"
      },
      "execution_count": 11,
      "outputs": []
    },
    {
      "cell_type": "code",
      "source": [
        "# Compute confusion matrix\n",
        "cm = confusion_matrix(y_test, y_pred)\n",
        "labels = sorted(list(set(y_test)))\n",
        "\n",
        "# Plot the heatmap\n",
        "plt.figure(figsize=(10, 7))\n",
        "sns.heatmap(cm, annot=True, fmt=\"d\", cmap=\"Blues\", xticklabels=labels, yticklabels=labels)\n",
        "plt.xlabel('Predicted')\n",
        "plt.ylabel('True')\n",
        "plt.title('Confusion Matrix')\n",
        "plt.show()\n",
        "\n",
        "print(\"\\nClassification Report:\")\n",
        "print(classification_report(y_test, y_pred))"
      ],
      "metadata": {
        "id": "lcpd3dcqulgh",
        "colab": {
          "base_uri": "https://localhost:8080/",
          "height": 1000
        },
        "outputId": "a241915f-c521-4ef8-d4dc-22dd7cfe1753"
      },
      "execution_count": 12,
      "outputs": [
        {
          "output_type": "display_data",
          "data": {
            "text/plain": [
              "<Figure size 1000x700 with 2 Axes>"
            ],
            "image/png": "[encoded data removed]"
          },
          "metadata": {}
        },
        {
          "output_type": "stream",
          "name": "stdout",
          "text": [
            "\n",
            "Classification Report:\n",
            "                 precision    recall  f1-score   support\n",
            "\n",
            "      adventure       0.63      0.73      0.68       260\n",
            " belles_lettres       0.66      0.75      0.70       271\n",
            "      editorial       0.61      0.49      0.55       197\n",
            "        fiction       0.71      0.63      0.67       195\n",
            "     government       0.74      0.78      0.76       175\n",
            "        hobbies       0.78      0.75      0.76       203\n",
            "          humor       0.93      0.40      0.56        62\n",
            "        learned       0.79      0.84      0.82       316\n",
            "           lore       0.69      0.59      0.64       252\n",
            "        mystery       0.62      0.60      0.61       222\n",
            "           news       0.65      0.78      0.71       427\n",
            "       religion       0.84      0.53      0.65        87\n",
            "        reviews       0.70      0.56      0.62       131\n",
            "        romance       0.59      0.69      0.64       248\n",
            "science_fiction       0.85      0.49      0.62        79\n",
            "\n",
            "       accuracy                           0.68      3125\n",
            "      macro avg       0.72      0.64      0.67      3125\n",
            "   weighted avg       0.69      0.68      0.68      3125\n",
            "\n"
          ]
        }
      ]
    },
    {
      "cell_type": "markdown",
      "source": [
        "**Which categories were commonly confused, and is that surprising?**"
      ],
      "metadata": {
        "id": "Uv_-FOmqBlWE"
      }
    },
    {
      "cell_type": "markdown",
      "source": [
        "The most common was editorial was predicted to be news. This is not surprising as the categories are very similar.\n",
        "\n",
        "The next was fiction being predicted as adventure. Once again these are similar as adventure is often also fiction.\n",
        "\n",
        "Next is adventure predicted as romance. This one is more surprising, but if we looked at what the model was using to predict the genre as romance (vs adventure) it may provide insights."
      ],
      "metadata": {
        "id": "ZSzqKrnFB8BD"
      }
    },
    {
      "cell_type": "markdown",
      "source": [
        "**Which metric(s) might we choose to evaluate our model's performance based on for this dataset and why?**"
      ],
      "metadata": {
        "id": "O7ub8MedCPd-"
      }
    },
    {
      "cell_type": "markdown",
      "source": [
        "It doesn't seem like false negatives or false positives are more important than the other, so F-measure can be used to evaluate performance. (Also, the distribution is not even so accuracy should not be used)"
      ],
      "metadata": {
        "id": "qXmWCTBiCWaE"
      }
    },
    {
      "cell_type": "markdown",
      "source": [
        "## As a final step, I've provide three different new texts I pulled from various sources, let's see how our model works in predicting labels on these unseen texts..."
      ],
      "metadata": {
        "id": "2ODFAUqhCYqH"
      }
    },
    {
      "cell_type": "code",
      "source": [
        "# Toy corpus\n",
        "toy_corpus = [\n",
        "    \"On Tuesday, the Organisation for Economic Cooperation and Development (OECD) published its latest outlook for the global economy. Describing the prospects for growth as “weak”, with risks “tilted to the downside”, the OECD singled out two worrying trends.\",\n",
        "    \"His mother’s roses were in full bloom, red and pink and riotous, just the way they all liked them, and as Nicholas drew close, he felt their scent in the damp air, drifting lightly over his clothes and under his nose. He’d never been particularly fond of the smell of roses—he preferred his flowers less fussy—but when everything came together in moments like this: the roses and the mist, the damp of the earth…\",\n",
        "    \"Ah sinful nation, a people laden with iniquity, a seed of evildoers, children that are corrupters: they have forsaken the LORD, they have provoked the Holy One of Israel unto anger, they are gone away backward.\"\n",
        "]\n",
        "\n",
        "# Vectorize and predict using the best model\n",
        "toy_corpus_vec = vectorizer.transform((toy_corpus))\n",
        "num_features = toy_corpus_vec.shape[1]\n",
        "num_features\n"
      ],
      "metadata": {
        "id": "8HG44IkZuoxu",
        "colab": {
          "base_uri": "https://localhost:8080/",
          "height": 0
        },
        "outputId": "a19c4660-114c-42c5-fbb5-a592f8a186b8"
      },
      "execution_count": 13,
      "outputs": [
        {
          "output_type": "execute_result",
          "data": {
            "text/plain": [
              "36120"
            ]
          },
          "metadata": {},
          "execution_count": 13
        }
      ]
    },
    {
      "cell_type": "markdown",
      "source": [
        "**Why is it important that we use the same number of features here as we did for the training corpus?**"
      ],
      "metadata": {
        "id": "qNJaBnDyCrZI"
      }
    },
    {
      "cell_type": "markdown",
      "source": [
        "so that there are columns that have value of zero that will provide information on what the text is about"
      ],
      "metadata": {
        "id": "jEdgANFfCwho"
      }
    },
    {
      "cell_type": "code",
      "source": [
        "predicted_labels = grid_search_svc.predict(toy_corpus_vec)\n",
        "\n",
        "for text, label in zip(toy_corpus, predicted_labels):\n",
        "    print(f\"'{text}' is predicted as '{label}' category.\")"
      ],
      "metadata": {
        "id": "yUuWStz7CjTg",
        "colab": {
          "base_uri": "https://localhost:8080/",
          "height": 0
        },
        "outputId": "24526cf1-a67f-409e-b4cb-622ade6c5180"
      },
      "execution_count": 14,
      "outputs": [
        {
          "output_type": "stream",
          "name": "stdout",
          "text": [
            "'On Tuesday, the Organisation for Economic Cooperation and Development (OECD) published its latest outlook for the global economy. Describing the prospects for growth as “weak”, with risks “tilted to the downside”, the OECD singled out two worrying trends.' is predicted as 'news' category.\n",
            "'His mother’s roses were in full bloom, red and pink and riotous, just the way they all liked them, and as Nicholas drew close, he felt their scent in the damp air, drifting lightly over his clothes and under his nose. He’d never been particularly fond of the smell of roses—he preferred his flowers less fussy—but when everything came together in moments like this: the roses and the mist, the damp of the earth…' is predicted as 'romance' category.\n",
            "'Ah sinful nation, a people laden with iniquity, a seed of evildoers, children that are corrupters: they have forsaken the LORD, they have provoked the Holy One of Israel unto anger, they are gone away backward.' is predicted as 'adventure' category.\n"
          ]
        }
      ]
    },
    {
      "cell_type": "markdown",
      "source": [
        "**Did the model seem to apply the correct label for the toy corpus?**"
      ],
      "metadata": {
        "id": "ILqwRFMzCyB8"
      }
    },
    {
      "cell_type": "markdown",
      "source": [
        "For the first 2 definitely, but the third one doesn't quite seem right. We likely wanted religion to be the genre identified, but adventure may be that far off if the religion articles were more than just scripture."
      ],
      "metadata": {
        "id": "CeDknXwZC2Lw"
      }
    },
    {
      "cell_type": "code",
      "source": [],
      "metadata": {
        "id": "G4q_RHEfR36O"
      },
      "execution_count": null,
      "outputs": []
    }
  ]
}