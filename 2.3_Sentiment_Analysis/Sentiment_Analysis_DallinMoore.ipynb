{
  "nbformat": 4,
  "nbformat_minor": 0,
  "metadata": {
    "colab": {
      "provenance": []
    },
    "kernelspec": {
      "name": "python3",
      "display_name": "Python 3"
    },
    "language_info": {
      "name": "python"
    }
  },
  "cells": [
    {
      "cell_type": "markdown",
      "source": [
        "# **In Class Assignment: Sentiment Analysis**\n",
        "\n",
        "## Name: Dallin Moore\n",
        "## *DATA 5420/6420*\n",
        "\n",
        "In this in-class assignment we will examine the sentiment of movie reviews using both unsupervised lexicon-based modeling and through supervised classification. We will then leverage tools to interpret the decision of our sentiment analysis model to determine the words and topics associated with positive and negative sentiments.\n",
        "\n",
        "We begin, as always, be importing our dependencies:"
      ],
      "metadata": {
        "id": "N-9v-JNMSPLC"
      }
    },
    {
      "cell_type": "code",
      "execution_count": 17,
      "metadata": {
        "id": "NdqvRuUHSEtI",
        "colab": {
          "base_uri": "https://localhost:8080/"
        },
        "outputId": "1af6c442-1bbb-445b-f88a-4cc5680315c1"
      },
      "outputs": [
        {
          "output_type": "stream",
          "name": "stderr",
          "text": [
            "[nltk_data] Downloading package vader_lexicon to /root/nltk_data...\n",
            "[nltk_data]   Package vader_lexicon is already up-to-date!\n",
            "[nltk_data] Downloading package punkt to /root/nltk_data...\n",
            "[nltk_data]   Package punkt is already up-to-date!\n",
            "[nltk_data] Downloading package stopwords to /root/nltk_data...\n",
            "[nltk_data]   Package stopwords is already up-to-date!\n"
          ]
        }
      ],
      "source": [
        "import pandas as pd\n",
        "import numpy as np\n",
        "import nltk\n",
        "nltk.download('vader_lexicon')\n",
        "from nltk.sentiment.vader import SentimentIntensityAnalyzer\n",
        "\n",
        "import re\n",
        "import nltk\n",
        "from nltk.corpus import stopwords\n",
        "from nltk.stem import WordNetLemmatizer\n",
        "nltk.download('punkt')\n",
        "nltk.download('stopwords')\n",
        "\n",
        "import sklearn\n",
        "from sklearn.metrics import classification_report\n",
        "from sklearn.linear_model import SGDClassifier, LogisticRegression\n",
        "from sklearn.model_selection import train_test_split\n",
        "from sklearn.feature_extraction.text import TfidfVectorizer\n",
        "\n",
        "\n",
        "import matplotlib.pyplot as plt\n",
        "%matplotlib inline\n",
        "\n",
        "np.set_printoptions(precision=2, linewidth=80)\n",
        "\n",
        "import warnings\n",
        "warnings.filterwarnings(\"ignore\")"
      ]
    },
    {
      "cell_type": "markdown",
      "source": [
        "**Let's examine the vader dictionary a bit. What do these scores represent, and how are they interpreted?**"
      ],
      "metadata": {
        "id": "JwIUxDVvT166"
      }
    },
    {
      "cell_type": "markdown",
      "source": [
        "The output below shows specific words and their associated score. The score has zero as neutral and it's magnitude in the positive/negative direction relate to the positive/negative sentiment that the word has."
      ],
      "metadata": {
        "id": "rB1z56eDT8Lf"
      }
    },
    {
      "cell_type": "code",
      "source": [
        "sid = SentimentIntensityAnalyzer()\n",
        "vader_lexicon = sid.lexicon\n",
        "\n",
        "# Display a preview of the lexicon\n",
        "dict(list(vader_lexicon.items())[1000:1035])"
      ],
      "metadata": {
        "id": "ldHRn01OtDYv",
        "colab": {
          "base_uri": "https://localhost:8080/"
        },
        "outputId": "0032f548-79c9-4d80-f133-3fe0be49ff38"
      },
      "execution_count": 18,
      "outputs": [
        {
          "output_type": "execute_result",
          "data": {
            "text/plain": [
              "{'beauties': 2.4,\n",
              " 'beautification': 1.9,\n",
              " 'beautifications': 2.4,\n",
              " 'beautified': 2.1,\n",
              " 'beautifier': 1.7,\n",
              " 'beautifiers': 1.7,\n",
              " 'beautifies': 1.8,\n",
              " 'beautiful': 2.9,\n",
              " 'beautifuler': 2.1,\n",
              " 'beautifulest': 2.6,\n",
              " 'beautifully': 2.7,\n",
              " 'beautifulness': 2.6,\n",
              " 'beautify': 2.3,\n",
              " 'beautifying': 2.3,\n",
              " 'beauts': 1.7,\n",
              " 'beauty': 2.8,\n",
              " 'belittle': -1.9,\n",
              " 'belittled': -2.0,\n",
              " 'beloved': 2.3,\n",
              " 'benefic': 1.4,\n",
              " 'benefice': 0.4,\n",
              " 'beneficed': 1.1,\n",
              " 'beneficence': 2.8,\n",
              " 'beneficences': 1.5,\n",
              " 'beneficent': 2.3,\n",
              " 'beneficently': 2.2,\n",
              " 'benefices': 1.1,\n",
              " 'beneficial': 1.9,\n",
              " 'beneficially': 2.4,\n",
              " 'beneficialness': 1.7,\n",
              " 'beneficiaries': 1.8,\n",
              " 'beneficiary': 2.1,\n",
              " 'beneficiate': 1.0,\n",
              " 'beneficiation': 0.4,\n",
              " 'benefit': 2.0}"
            ]
          },
          "metadata": {},
          "execution_count": 18
        }
      ]
    },
    {
      "cell_type": "markdown",
      "source": [
        "## **Load and Normalize the Dataset**"
      ],
      "metadata": {
        "id": "ofG4Axo_VU5f"
      }
    },
    {
      "cell_type": "code",
      "source": [
        "df = pd.read_csv('/content/movie_reviews-1.csv')\n",
        "df.head()"
      ],
      "metadata": {
        "id": "lsZwKNOMTQ0h",
        "colab": {
          "base_uri": "https://localhost:8080/",
          "height": 206
        },
        "outputId": "8c3fd4c7-e91c-4445-f209-4866fc7e1944"
      },
      "execution_count": 19,
      "outputs": [
        {
          "output_type": "execute_result",
          "data": {
            "text/plain": [
              "                                              review sentiment\n",
              "0  One of the other reviewers has mentioned that ...  positive\n",
              "1  A wonderful little production. <br /><br />The...  positive\n",
              "2  I thought this was a wonderful way to spend ti...  positive\n",
              "3  Basically there's a family where a little boy ...  negative\n",
              "4  Petter Mattei's \"Love in the Time of Money\" is...  positive"
            ],
            "text/html": [
              "\n",
              "  <div id=\"df-540567f7-dad6-4b4c-adb3-9afe1ec47b62\" class=\"colab-df-container\">\n",
              "    <div>\n",
              "<style scoped>\n",
              "    .dataframe tbody tr th:only-of-type {\n",
              "        vertical-align: middle;\n",
              "    }\n",
              "\n",
              "    .dataframe tbody tr th {\n",
              "        vertical-align: top;\n",
              "    }\n",
              "\n",
              "    .dataframe thead th {\n",
              "        text-align: right;\n",
              "    }\n",
              "</style>\n",
              "<table border=\"1\" class=\"dataframe\">\n",
              "  <thead>\n",
              "    <tr style=\"text-align: right;\">\n",
              "      <th></th>\n",
              "      <th>review</th>\n",
              "      <th>sentiment</th>\n",
              "    </tr>\n",
              "  </thead>\n",
              "  <tbody>\n",
              "    <tr>\n",
              "      <th>0</th>\n",
              "      <td>One of the other reviewers has mentioned that ...</td>\n",
              "      <td>positive</td>\n",
              "    </tr>\n",
              "    <tr>\n",
              "      <th>1</th>\n",
              "      <td>A wonderful little production. &lt;br /&gt;&lt;br /&gt;The...</td>\n",
              "      <td>positive</td>\n",
              "    </tr>\n",
              "    <tr>\n",
              "      <th>2</th>\n",
              "      <td>I thought this was a wonderful way to spend ti...</td>\n",
              "      <td>positive</td>\n",
              "    </tr>\n",
              "    <tr>\n",
              "      <th>3</th>\n",
              "      <td>Basically there's a family where a little boy ...</td>\n",
              "      <td>negative</td>\n",
              "    </tr>\n",
              "    <tr>\n",
              "      <th>4</th>\n",
              "      <td>Petter Mattei's \"Love in the Time of Money\" is...</td>\n",
              "      <td>positive</td>\n",
              "    </tr>\n",
              "  </tbody>\n",
              "</table>\n",
              "</div>\n",
              "    <div class=\"colab-df-buttons\">\n",
              "\n",
              "  <div class=\"colab-df-container\">\n",
              "    <button class=\"colab-df-convert\" onclick=\"convertToInteractive('df-540567f7-dad6-4b4c-adb3-9afe1ec47b62')\"\n",
              "            title=\"Convert this dataframe to an interactive table.\"\n",
              "            style=\"display:none;\">\n",
              "\n",
              "  <svg xmlns=\"http://www.w3.org/2000/svg\" height=\"24px\" viewBox=\"0 -960 960 960\">\n",
              "    <path d=\"M120-120v-720h720v720H120Zm60-500h600v-160H180v160Zm220 220h160v-160H400v160Zm0 220h160v-160H400v160ZM180-400h160v-160H180v160Zm440 0h160v-160H620v160ZM180-180h160v-160H180v160Zm440 0h160v-160H620v160Z\"/>\n",
              "  </svg>\n",
              "    </button>\n",
              "\n",
              "  <style>\n",
              "    .colab-df-container {\n",
              "      display:flex;\n",
              "      gap: 12px;\n",
              "    }\n",
              "\n",
              "    .colab-df-convert {\n",
              "      background-color: #E8F0FE;\n",
              "      border: none;\n",
              "      border-radius: 50%;\n",
              "      cursor: pointer;\n",
              "      display: none;\n",
              "      fill: #1967D2;\n",
              "      height: 32px;\n",
              "      padding: 0 0 0 0;\n",
              "      width: 32px;\n",
              "    }\n",
              "\n",
              "    .colab-df-convert:hover {\n",
              "      background-color: #E2EBFA;\n",
              "      box-shadow: 0px 1px 2px rgba(60, 64, 67, 0.3), 0px 1px 3px 1px rgba(60, 64, 67, 0.15);\n",
              "      fill: #174EA6;\n",
              "    }\n",
              "\n",
              "    .colab-df-buttons div {\n",
              "      margin-bottom: 4px;\n",
              "    }\n",
              "\n",
              "    [theme=dark] .colab-df-convert {\n",
              "      background-color: #3B4455;\n",
              "      fill: #D2E3FC;\n",
              "    }\n",
              "\n",
              "    [theme=dark] .colab-df-convert:hover {\n",
              "      background-color: #434B5C;\n",
              "      box-shadow: 0px 1px 3px 1px rgba(0, 0, 0, 0.15);\n",
              "      filter: drop-shadow(0px 1px 2px rgba(0, 0, 0, 0.3));\n",
              "      fill: #FFFFFF;\n",
              "    }\n",
              "  </style>\n",
              "\n",
              "    <script>\n",
              "      const buttonEl =\n",
              "        document.querySelector('#df-540567f7-dad6-4b4c-adb3-9afe1ec47b62 button.colab-df-convert');\n",
              "      buttonEl.style.display =\n",
              "        google.colab.kernel.accessAllowed ? 'block' : 'none';\n",
              "\n",
              "      async function convertToInteractive(key) {\n",
              "        const element = document.querySelector('#df-540567f7-dad6-4b4c-adb3-9afe1ec47b62');\n",
              "        const dataTable =\n",
              "          await google.colab.kernel.invokeFunction('convertToInteractive',\n",
              "                                                    [key], {});\n",
              "        if (!dataTable) return;\n",
              "\n",
              "        const docLinkHtml = 'Like what you see? Visit the ' +\n",
              "          '<a target=\"_blank\" href=https://colab.research.google.com/notebooks/data_table.ipynb>data table notebook</a>'\n",
              "          + ' to learn more about interactive tables.';\n",
              "        element.innerHTML = '';\n",
              "        dataTable['output_type'] = 'display_data';\n",
              "        await google.colab.output.renderOutput(dataTable, element);\n",
              "        const docLink = document.createElement('div');\n",
              "        docLink.innerHTML = docLinkHtml;\n",
              "        element.appendChild(docLink);\n",
              "      }\n",
              "    </script>\n",
              "  </div>\n",
              "\n",
              "\n",
              "<div id=\"df-a6b88590-3b56-41ce-a9c3-7302c3112fdb\">\n",
              "  <button class=\"colab-df-quickchart\" onclick=\"quickchart('df-a6b88590-3b56-41ce-a9c3-7302c3112fdb')\"\n",
              "            title=\"Suggest charts\"\n",
              "            style=\"display:none;\">\n",
              "\n",
              "<svg xmlns=\"http://www.w3.org/2000/svg\" height=\"24px\"viewBox=\"0 0 24 24\"\n",
              "     width=\"24px\">\n",
              "    <g>\n",
              "        <path d=\"M19 3H5c-1.1 0-2 .9-2 2v14c0 1.1.9 2 2 2h14c1.1 0 2-.9 2-2V5c0-1.1-.9-2-2-2zM9 17H7v-7h2v7zm4 0h-2V7h2v10zm4 0h-2v-4h2v4z\"/>\n",
              "    </g>\n",
              "</svg>\n",
              "  </button>\n",
              "\n",
              "<style>\n",
              "  .colab-df-quickchart {\n",
              "      --bg-color: #E8F0FE;\n",
              "      --fill-color: #1967D2;\n",
              "      --hover-bg-color: #E2EBFA;\n",
              "      --hover-fill-color: #174EA6;\n",
              "      --disabled-fill-color: #AAA;\n",
              "      --disabled-bg-color: #DDD;\n",
              "  }\n",
              "\n",
              "  [theme=dark] .colab-df-quickchart {\n",
              "      --bg-color: #3B4455;\n",
              "      --fill-color: #D2E3FC;\n",
              "      --hover-bg-color: #434B5C;\n",
              "      --hover-fill-color: #FFFFFF;\n",
              "      --disabled-bg-color: #3B4455;\n",
              "      --disabled-fill-color: #666;\n",
              "  }\n",
              "\n",
              "  .colab-df-quickchart {\n",
              "    background-color: var(--bg-color);\n",
              "    border: none;\n",
              "    border-radius: 50%;\n",
              "    cursor: pointer;\n",
              "    display: none;\n",
              "    fill: var(--fill-color);\n",
              "    height: 32px;\n",
              "    padding: 0;\n",
              "    width: 32px;\n",
              "  }\n",
              "\n",
              "  .colab-df-quickchart:hover {\n",
              "    background-color: var(--hover-bg-color);\n",
              "    box-shadow: 0 1px 2px rgba(60, 64, 67, 0.3), 0 1px 3px 1px rgba(60, 64, 67, 0.15);\n",
              "    fill: var(--button-hover-fill-color);\n",
              "  }\n",
              "\n",
              "  .colab-df-quickchart-complete:disabled,\n",
              "  .colab-df-quickchart-complete:disabled:hover {\n",
              "    background-color: var(--disabled-bg-color);\n",
              "    fill: var(--disabled-fill-color);\n",
              "    box-shadow: none;\n",
              "  }\n",
              "\n",
              "  .colab-df-spinner {\n",
              "    border: 2px solid var(--fill-color);\n",
              "    border-color: transparent;\n",
              "    border-bottom-color: var(--fill-color);\n",
              "    animation:\n",
              "      spin 1s steps(1) infinite;\n",
              "  }\n",
              "\n",
              "  @keyframes spin {\n",
              "    0% {\n",
              "      border-color: transparent;\n",
              "      border-bottom-color: var(--fill-color);\n",
              "      border-left-color: var(--fill-color);\n",
              "    }\n",
              "    20% {\n",
              "      border-color: transparent;\n",
              "      border-left-color: var(--fill-color);\n",
              "      border-top-color: var(--fill-color);\n",
              "    }\n",
              "    30% {\n",
              "      border-color: transparent;\n",
              "      border-left-color: var(--fill-color);\n",
              "      border-top-color: var(--fill-color);\n",
              "      border-right-color: var(--fill-color);\n",
              "    }\n",
              "    40% {\n",
              "      border-color: transparent;\n",
              "      border-right-color: var(--fill-color);\n",
              "      border-top-color: var(--fill-color);\n",
              "    }\n",
              "    60% {\n",
              "      border-color: transparent;\n",
              "      border-right-color: var(--fill-color);\n",
              "    }\n",
              "    80% {\n",
              "      border-color: transparent;\n",
              "      border-right-color: var(--fill-color);\n",
              "      border-bottom-color: var(--fill-color);\n",
              "    }\n",
              "    90% {\n",
              "      border-color: transparent;\n",
              "      border-bottom-color: var(--fill-color);\n",
              "    }\n",
              "  }\n",
              "</style>\n",
              "\n",
              "  <script>\n",
              "    async function quickchart(key) {\n",
              "      const quickchartButtonEl =\n",
              "        document.querySelector('#' + key + ' button');\n",
              "      quickchartButtonEl.disabled = true;  // To prevent multiple clicks.\n",
              "      quickchartButtonEl.classList.add('colab-df-spinner');\n",
              "      try {\n",
              "        const charts = await google.colab.kernel.invokeFunction(\n",
              "            'suggestCharts', [key], {});\n",
              "      } catch (error) {\n",
              "        console.error('Error during call to suggestCharts:', error);\n",
              "      }\n",
              "      quickchartButtonEl.classList.remove('colab-df-spinner');\n",
              "      quickchartButtonEl.classList.add('colab-df-quickchart-complete');\n",
              "    }\n",
              "    (() => {\n",
              "      let quickchartButtonEl =\n",
              "        document.querySelector('#df-a6b88590-3b56-41ce-a9c3-7302c3112fdb button');\n",
              "      quickchartButtonEl.style.display =\n",
              "        google.colab.kernel.accessAllowed ? 'block' : 'none';\n",
              "    })();\n",
              "  </script>\n",
              "</div>\n",
              "    </div>\n",
              "  </div>\n"
            ],
            "application/vnd.google.colaboratory.intrinsic+json": {
              "type": "dataframe",
              "variable_name": "df",
              "summary": "{\n  \"name\": \"df\",\n  \"rows\": 50000,\n  \"fields\": [\n    {\n      \"column\": \"review\",\n      \"properties\": {\n        \"dtype\": \"string\",\n        \"samples\": [\n          \"\\\"Soul Plane\\\" is a horrible attempt at comedy that only should appeal people with thick skulls, bloodshot eyes and furry pawns. <br /><br />The plot is not only incoherent but also non-existent, acting is mostly sub sub-par with a gang of highly moronic and dreadful characters thrown in for bad measure, jokes are often spotted miles ahead and almost never even a bit amusing. This movie lacks any structure and is full of racial stereotypes that must have seemed old even in the fifties, the only thing it really has going for it is some pretty ladies, but really, if you want that you can rent something from the \\\"Adult\\\" section. OK?<br /><br />I can hardly see anything here to recommend since you'll probably have a lot a better and productive time chasing rats with a sledgehammer or inventing waterproof teabags or whatever.<br /><br />2/10\",\n          \"Guest from the Future tells a fascinating story of time travel, friendship, battle of good and evil -- all with a small budget, child actors, and few special effects. Something for Spielberg and Lucas to learn from. ;) A sixth-grader Kolya \\\"Nick\\\" Gerasimov finds a time machine in the basement of a decrepit building and travels 100 years into the future. He discovers a near-perfect, utopian society where robots play guitars and write poetry, everyone is kind to each other and people enjoy everything technology has to offer. Alice is the daughter of a prominent scientist who invented a device called Mielophone that allows to read minds of humans and animals. The device can be put to both good and bad use, depending on whose hands it falls into. When two evil space pirates from Saturn who want to rule the universe attempt to steal Mielophone, it falls into the hands of 20th century school boy Nick. With the pirates hot on his tracks, he travels back to his time, followed by the pirates, and Alice. Chaos, confusion and funny situations follow as the luckless pirates try to blend in with the earthlings. Alice enrolls in the same school Nick goes to and demonstrates superhuman abilities in PE class. The catch is, Alice doesn't know what Nick looks like, while the pirates do. Also, the pirates are able to change their appearance and turn literally into anyone. (Hmm, I wonder if this is where James Cameron got the idea for Terminator...) Who gets to Nick -- and Mielophone -- first? Excellent plot, non-stop adventures, and great soundtrack. I wish Hollywood made kid movies like this one...\",\n          \"\\\"National Treasure\\\" (2004) is a thoroughly misguided hodge-podge of plot entanglements that borrow from nearly every cloak and dagger government conspiracy clich\\u00e9 that has ever been written. The film stars Nicholas Cage as Benjamin Franklin Gates (how precious is that, I ask you?); a seemingly normal fellow who, for no other reason than being of a lineage of like-minded misguided fortune hunters, decides to steal a 'national treasure' that has been hidden by the United States founding fathers. After a bit of subtext and background that plays laughably (unintentionally) like Indiana Jones meets The Patriot, the film degenerates into one misguided whimsy after another \\u0096 attempting to create a 'Stanley Goodspeed' regurgitation of Nicholas Cage and launch the whole convoluted mess forward with a series of high octane, but disconnected misadventures.<br /><br />The relevancy and logic to having George Washington and his motley crew of patriots burying a king's ransom someplace on native soil, and then, going through the meticulous plan of leaving clues scattered throughout U.S. currency art work, is something that director Jon Turteltaub never quite gets around to explaining. Couldn't Washington found better usage for such wealth during the start up of the country? Hence, we are left with a mystery built on top of an enigma that is already on shaky ground by the time Ben appoints himself the new custodian of this untold wealth. Ben's intentions are noble \\u0096 if confusing. He's set on protecting the treasure. For who and when?\\u0085your guess is as good as mine.<br /><br />But there are a few problems with Ben's crusade. First up, his friend, Ian Holmes (Sean Bean) decides that he can't wait for Ben to make up his mind about stealing the Declaration of Independence from the National Archives (oh, yeah \\u0096 brilliant idea!). Presumably, the back of that famous document holds the secret answer to the ultimate fortune. So Ian tries to kill Ben. The assassination attempt is, of course, unsuccessful, if overly melodramatic. It also affords Ben the opportunity to pick up, and pick on, the very sultry curator of the archives, Abigail Chase (Diane Kruger). She thinks Ben is clearly a nut \\u0096 at least at the beginning. But true to action/romance form, Abby's resolve melts quicker than you can say, \\\"is that the Hope Diamond?\\\" The film moves into full X-File-ish mode, as the FBI, mistakenly believing that Ben is behind the theft, retaliate in various benign ways that lead to a multi-layering of action sequences reminiscent of Mission Impossible meets The Fugitive. Honestly, don't those guys ever get 'intelligence' information that is correct? In the final analysis, \\\"National Treasure\\\" isn't great film making, so much as it's a patchwork rehash of tired old bits from other movies, woven together from scraps, the likes of which would make IL' Betsy Ross blush.<br /><br />The Buena Vista DVD delivers a far more generous treatment than this film is deserving of. The anamorphic widescreen picture exhibits a very smooth and finely detailed image with very rich colors, natural flesh tones, solid blacks and clean whites. The stylized image is also free of blemishes and digital enhancements. The audio is 5.1 and delivers a nice sonic boom to your side and rear speakers with intensity and realism. Extras include a host of promotional junket material that is rather deep and over the top in its explanation of how and why this film was made. If only, as an audience, we had had more clarification as to why Ben and co. were chasing after an illusive treasure, this might have been one good flick. Extras conclude with the theatrical trailer, audio commentary and deleted scenes. Not for the faint-hearted \\u0096 just the thick-headed.\"\n        ],\n        \"num_unique_values\": 49582,\n        \"semantic_type\": \"\",\n        \"description\": \"\"\n      }\n    },\n    {\n      \"column\": \"sentiment\",\n      \"properties\": {\n        \"dtype\": \"category\",\n        \"samples\": [\n          \"negative\",\n          \"positive\"\n        ],\n        \"num_unique_values\": 2,\n        \"semantic_type\": \"\",\n        \"description\": \"\"\n      }\n    }\n  ]\n}"
            }
          },
          "metadata": {},
          "execution_count": 19
        }
      ]
    },
    {
      "source": [
        "# @title Sentiment Distribution\n",
        "\n",
        "from matplotlib import pyplot as plt\n",
        "import seaborn as sns\n",
        "df.groupby('sentiment').size().plot(kind='barh', color=sns.palettes.mpl_palette('Dark2'))\n",
        "plt.gca().spines[['top', 'right',]].set_visible(False)\n",
        "df['sentiment'].value_counts()"
      ],
      "cell_type": "code",
      "execution_count": 20,
      "outputs": [
        {
          "output_type": "execute_result",
          "data": {
            "text/plain": [
              "positive    25000\n",
              "negative    25000\n",
              "Name: sentiment, dtype: int64"
            ]
          },
          "metadata": {},
          "execution_count": 20
        },
        {
          "output_type": "display_data",
          "data": {
            "text/plain": [
              "<Figure size 640x480 with 1 Axes>"
            ],
            "image/png": "[encoded data removed]"
          },
          "metadata": {}
        }
      ],
      "metadata": {
        "colab": {
          "base_uri": "https://localhost:8080/",
          "height": 482
        },
        "id": "HvNw2T4dt3iI",
        "outputId": "786df33f-adf4-41c8-f879-11c64c344ed2"
      }
    },
    {
      "cell_type": "code",
      "source": [
        "def clean_text(text):\n",
        "    text = text.lower() # lowercase\n",
        "    text = re.sub(r'\\d+', '', text) # substituting digits with nothing\n",
        "    text = re.sub(r'[^\\w\\s]', '', text) # removes anything that isn't a-z character\n",
        "    tokens = nltk.word_tokenize(text)\n",
        "    tokens = [word for word in tokens if word not in stopwords.words('english')]\n",
        "    text = ' '.join(tokens)                                                                   # which typical normalization step did we skip? Lemmatization\n",
        "    return text\n",
        "\n",
        "df['clean_review'] = df['review'].apply(clean_text)\n",
        "df.head()"
      ],
      "metadata": {
        "id": "E_OscD8OV_7H"
      },
      "execution_count": null,
      "outputs": []
    },
    {
      "cell_type": "code",
      "source": [
        "df = pd.read_csv('/content/cleaned_movies.csv')\n",
        "df.head()"
      ],
      "metadata": {
        "colab": {
          "base_uri": "https://localhost:8080/",
          "height": 206
        },
        "id": "niqelGVu5rub",
        "outputId": "9ee29316-f4d9-46f3-bc13-673474420310"
      },
      "execution_count": 24,
      "outputs": [
        {
          "output_type": "execute_result",
          "data": {
            "text/plain": [
              "   Unnamed: 0                                             review sentiment  \\\n",
              "0           0  One of the other reviewers has mentioned that ...  positive   \n",
              "1           1  A wonderful little production. <br /><br />The...  positive   \n",
              "2           2  I thought this was a wonderful way to spend ti...  positive   \n",
              "3           3  Basically there's a family where a little boy ...  negative   \n",
              "4           4  Petter Mattei's \"Love in the Time of Money\" is...  positive   \n",
              "\n",
              "                                        clean_review  \n",
              "0  one reviewers mentioned watching oz episode yo...  \n",
              "1  wonderful little production br br filming tech...  \n",
              "2  thought wonderful way spend time hot summer we...  \n",
              "3  basically theres family little boy jake thinks...  \n",
              "4  petter matteis love time money visually stunni...  "
            ],
            "text/html": [
              "\n",
              "  <div id=\"df-43291530-05d8-4699-a71f-d5c49136a23a\" class=\"colab-df-container\">\n",
              "    <div>\n",
              "<style scoped>\n",
              "    .dataframe tbody tr th:only-of-type {\n",
              "        vertical-align: middle;\n",
              "    }\n",
              "\n",
              "    .dataframe tbody tr th {\n",
              "        vertical-align: top;\n",
              "    }\n",
              "\n",
              "    .dataframe thead th {\n",
              "        text-align: right;\n",
              "    }\n",
              "</style>\n",
              "<table border=\"1\" class=\"dataframe\">\n",
              "  <thead>\n",
              "    <tr style=\"text-align: right;\">\n",
              "      <th></th>\n",
              "      <th>Unnamed: 0</th>\n",
              "      <th>review</th>\n",
              "      <th>sentiment</th>\n",
              "      <th>clean_review</th>\n",
              "    </tr>\n",
              "  </thead>\n",
              "  <tbody>\n",
              "    <tr>\n",
              "      <th>0</th>\n",
              "      <td>0</td>\n",
              "      <td>One of the other reviewers has mentioned that ...</td>\n",
              "      <td>positive</td>\n",
              "      <td>one reviewers mentioned watching oz episode yo...</td>\n",
              "    </tr>\n",
              "    <tr>\n",
              "      <th>1</th>\n",
              "      <td>1</td>\n",
              "      <td>A wonderful little production. &lt;br /&gt;&lt;br /&gt;The...</td>\n",
              "      <td>positive</td>\n",
              "      <td>wonderful little production br br filming tech...</td>\n",
              "    </tr>\n",
              "    <tr>\n",
              "      <th>2</th>\n",
              "      <td>2</td>\n",
              "      <td>I thought this was a wonderful way to spend ti...</td>\n",
              "      <td>positive</td>\n",
              "      <td>thought wonderful way spend time hot summer we...</td>\n",
              "    </tr>\n",
              "    <tr>\n",
              "      <th>3</th>\n",
              "      <td>3</td>\n",
              "      <td>Basically there's a family where a little boy ...</td>\n",
              "      <td>negative</td>\n",
              "      <td>basically theres family little boy jake thinks...</td>\n",
              "    </tr>\n",
              "    <tr>\n",
              "      <th>4</th>\n",
              "      <td>4</td>\n",
              "      <td>Petter Mattei's \"Love in the Time of Money\" is...</td>\n",
              "      <td>positive</td>\n",
              "      <td>petter matteis love time money visually stunni...</td>\n",
              "    </tr>\n",
              "  </tbody>\n",
              "</table>\n",
              "</div>\n",
              "    <div class=\"colab-df-buttons\">\n",
              "\n",
              "  <div class=\"colab-df-container\">\n",
              "    <button class=\"colab-df-convert\" onclick=\"convertToInteractive('df-43291530-05d8-4699-a71f-d5c49136a23a')\"\n",
              "            title=\"Convert this dataframe to an interactive table.\"\n",
              "            style=\"display:none;\">\n",
              "\n",
              "  <svg xmlns=\"http://www.w3.org/2000/svg\" height=\"24px\" viewBox=\"0 -960 960 960\">\n",
              "    <path d=\"M120-120v-720h720v720H120Zm60-500h600v-160H180v160Zm220 220h160v-160H400v160Zm0 220h160v-160H400v160ZM180-400h160v-160H180v160Zm440 0h160v-160H620v160ZM180-180h160v-160H180v160Zm440 0h160v-160H620v160Z\"/>\n",
              "  </svg>\n",
              "    </button>\n",
              "\n",
              "  <style>\n",
              "    .colab-df-container {\n",
              "      display:flex;\n",
              "      gap: 12px;\n",
              "    }\n",
              "\n",
              "    .colab-df-convert {\n",
              "      background-color: #E8F0FE;\n",
              "      border: none;\n",
              "      border-radius: 50%;\n",
              "      cursor: pointer;\n",
              "      display: none;\n",
              "      fill: #1967D2;\n",
              "      height: 32px;\n",
              "      padding: 0 0 0 0;\n",
              "      width: 32px;\n",
              "    }\n",
              "\n",
              "    .colab-df-convert:hover {\n",
              "      background-color: #E2EBFA;\n",
              "      box-shadow: 0px 1px 2px rgba(60, 64, 67, 0.3), 0px 1px 3px 1px rgba(60, 64, 67, 0.15);\n",
              "      fill: #174EA6;\n",
              "    }\n",
              "\n",
              "    .colab-df-buttons div {\n",
              "      margin-bottom: 4px;\n",
              "    }\n",
              "\n",
              "    [theme=dark] .colab-df-convert {\n",
              "      background-color: #3B4455;\n",
              "      fill: #D2E3FC;\n",
              "    }\n",
              "\n",
              "    [theme=dark] .colab-df-convert:hover {\n",
              "      background-color: #434B5C;\n",
              "      box-shadow: 0px 1px 3px 1px rgba(0, 0, 0, 0.15);\n",
              "      filter: drop-shadow(0px 1px 2px rgba(0, 0, 0, 0.3));\n",
              "      fill: #FFFFFF;\n",
              "    }\n",
              "  </style>\n",
              "\n",
              "    <script>\n",
              "      const buttonEl =\n",
              "        document.querySelector('#df-43291530-05d8-4699-a71f-d5c49136a23a button.colab-df-convert');\n",
              "      buttonEl.style.display =\n",
              "        google.colab.kernel.accessAllowed ? 'block' : 'none';\n",
              "\n",
              "      async function convertToInteractive(key) {\n",
              "        const element = document.querySelector('#df-43291530-05d8-4699-a71f-d5c49136a23a');\n",
              "        const dataTable =\n",
              "          await google.colab.kernel.invokeFunction('convertToInteractive',\n",
              "                                                    [key], {});\n",
              "        if (!dataTable) return;\n",
              "\n",
              "        const docLinkHtml = 'Like what you see? Visit the ' +\n",
              "          '<a target=\"_blank\" href=https://colab.research.google.com/notebooks/data_table.ipynb>data table notebook</a>'\n",
              "          + ' to learn more about interactive tables.';\n",
              "        element.innerHTML = '';\n",
              "        dataTable['output_type'] = 'display_data';\n",
              "        await google.colab.output.renderOutput(dataTable, element);\n",
              "        const docLink = document.createElement('div');\n",
              "        docLink.innerHTML = docLinkHtml;\n",
              "        element.appendChild(docLink);\n",
              "      }\n",
              "    </script>\n",
              "  </div>\n",
              "\n",
              "\n",
              "<div id=\"df-f18f1679-dc31-4074-87c6-b3db7acb8291\">\n",
              "  <button class=\"colab-df-quickchart\" onclick=\"quickchart('df-f18f1679-dc31-4074-87c6-b3db7acb8291')\"\n",
              "            title=\"Suggest charts\"\n",
              "            style=\"display:none;\">\n",
              "\n",
              "<svg xmlns=\"http://www.w3.org/2000/svg\" height=\"24px\"viewBox=\"0 0 24 24\"\n",
              "     width=\"24px\">\n",
              "    <g>\n",
              "        <path d=\"M19 3H5c-1.1 0-2 .9-2 2v14c0 1.1.9 2 2 2h14c1.1 0 2-.9 2-2V5c0-1.1-.9-2-2-2zM9 17H7v-7h2v7zm4 0h-2V7h2v10zm4 0h-2v-4h2v4z\"/>\n",
              "    </g>\n",
              "</svg>\n",
              "  </button>\n",
              "\n",
              "<style>\n",
              "  .colab-df-quickchart {\n",
              "      --bg-color: #E8F0FE;\n",
              "      --fill-color: #1967D2;\n",
              "      --hover-bg-color: #E2EBFA;\n",
              "      --hover-fill-color: #174EA6;\n",
              "      --disabled-fill-color: #AAA;\n",
              "      --disabled-bg-color: #DDD;\n",
              "  }\n",
              "\n",
              "  [theme=dark] .colab-df-quickchart {\n",
              "      --bg-color: #3B4455;\n",
              "      --fill-color: #D2E3FC;\n",
              "      --hover-bg-color: #434B5C;\n",
              "      --hover-fill-color: #FFFFFF;\n",
              "      --disabled-bg-color: #3B4455;\n",
              "      --disabled-fill-color: #666;\n",
              "  }\n",
              "\n",
              "  .colab-df-quickchart {\n",
              "    background-color: var(--bg-color);\n",
              "    border: none;\n",
              "    border-radius: 50%;\n",
              "    cursor: pointer;\n",
              "    display: none;\n",
              "    fill: var(--fill-color);\n",
              "    height: 32px;\n",
              "    padding: 0;\n",
              "    width: 32px;\n",
              "  }\n",
              "\n",
              "  .colab-df-quickchart:hover {\n",
              "    background-color: var(--hover-bg-color);\n",
              "    box-shadow: 0 1px 2px rgba(60, 64, 67, 0.3), 0 1px 3px 1px rgba(60, 64, 67, 0.15);\n",
              "    fill: var(--button-hover-fill-color);\n",
              "  }\n",
              "\n",
              "  .colab-df-quickchart-complete:disabled,\n",
              "  .colab-df-quickchart-complete:disabled:hover {\n",
              "    background-color: var(--disabled-bg-color);\n",
              "    fill: var(--disabled-fill-color);\n",
              "    box-shadow: none;\n",
              "  }\n",
              "\n",
              "  .colab-df-spinner {\n",
              "    border: 2px solid var(--fill-color);\n",
              "    border-color: transparent;\n",
              "    border-bottom-color: var(--fill-color);\n",
              "    animation:\n",
              "      spin 1s steps(1) infinite;\n",
              "  }\n",
              "\n",
              "  @keyframes spin {\n",
              "    0% {\n",
              "      border-color: transparent;\n",
              "      border-bottom-color: var(--fill-color);\n",
              "      border-left-color: var(--fill-color);\n",
              "    }\n",
              "    20% {\n",
              "      border-color: transparent;\n",
              "      border-left-color: var(--fill-color);\n",
              "      border-top-color: var(--fill-color);\n",
              "    }\n",
              "    30% {\n",
              "      border-color: transparent;\n",
              "      border-left-color: var(--fill-color);\n",
              "      border-top-color: var(--fill-color);\n",
              "      border-right-color: var(--fill-color);\n",
              "    }\n",
              "    40% {\n",
              "      border-color: transparent;\n",
              "      border-right-color: var(--fill-color);\n",
              "      border-top-color: var(--fill-color);\n",
              "    }\n",
              "    60% {\n",
              "      border-color: transparent;\n",
              "      border-right-color: var(--fill-color);\n",
              "    }\n",
              "    80% {\n",
              "      border-color: transparent;\n",
              "      border-right-color: var(--fill-color);\n",
              "      border-bottom-color: var(--fill-color);\n",
              "    }\n",
              "    90% {\n",
              "      border-color: transparent;\n",
              "      border-bottom-color: var(--fill-color);\n",
              "    }\n",
              "  }\n",
              "</style>\n",
              "\n",
              "  <script>\n",
              "    async function quickchart(key) {\n",
              "      const quickchartButtonEl =\n",
              "        document.querySelector('#' + key + ' button');\n",
              "      quickchartButtonEl.disabled = true;  // To prevent multiple clicks.\n",
              "      quickchartButtonEl.classList.add('colab-df-spinner');\n",
              "      try {\n",
              "        const charts = await google.colab.kernel.invokeFunction(\n",
              "            'suggestCharts', [key], {});\n",
              "      } catch (error) {\n",
              "        console.error('Error during call to suggestCharts:', error);\n",
              "      }\n",
              "      quickchartButtonEl.classList.remove('colab-df-spinner');\n",
              "      quickchartButtonEl.classList.add('colab-df-quickchart-complete');\n",
              "    }\n",
              "    (() => {\n",
              "      let quickchartButtonEl =\n",
              "        document.querySelector('#df-f18f1679-dc31-4074-87c6-b3db7acb8291 button');\n",
              "      quickchartButtonEl.style.display =\n",
              "        google.colab.kernel.accessAllowed ? 'block' : 'none';\n",
              "    })();\n",
              "  </script>\n",
              "</div>\n",
              "    </div>\n",
              "  </div>\n"
            ],
            "application/vnd.google.colaboratory.intrinsic+json": {
              "type": "dataframe",
              "variable_name": "df",
              "summary": "{\n  \"name\": \"df\",\n  \"rows\": 10000,\n  \"fields\": [\n    {\n      \"column\": \"Unnamed: 0\",\n      \"properties\": {\n        \"dtype\": \"number\",\n        \"std\": 2886,\n        \"min\": 0,\n        \"max\": 9999,\n        \"samples\": [\n          6252,\n          4684,\n          1731\n        ],\n        \"num_unique_values\": 10000,\n        \"semantic_type\": \"\",\n        \"description\": \"\"\n      }\n    },\n    {\n      \"column\": \"review\",\n      \"properties\": {\n        \"dtype\": \"string\",\n        \"samples\": [\n          \"Good grief! While I still maintain that Manos: The Hands of Fate is the worst piece of mental torture available, Hobgoblins came awfully close. This...this...thing insults the audience at every opportunity.<br /><br />At least films like Space Mutiny and Future War can be enjoyed on mst3k, this one was a struggle to get through. I was literally writhing on the couch in anguish. This thing managed to embarrass me - alone!<br /><br />Even if you are a die-hard MST3K fan and have made it your mission to see every single experiment, think twice about seeing this one.<br /><br />It's that bad.\",\n          \"I thought \\\"Intensive Care\\\" was quite bad and very unintentionally funny. But at least not as bad as I thought it might be. Sometimes it's somewhat suspenseful, but never a good shocker.<br /><br />SPOILER AHEAD<br /><br />The fun lies in ridiculous moments. But the all-time classic moment is this: Peter (Koen Wauters) is stabbed and beaten by the killer. He lies moaning in the corner of the hallway. Amy (Nada van Nie) kneels beside him and asks \\\"Poor Peter, shall I get you a band-aid?\\\".<br /><br />This movie was shot in Dutch and English. To spare costs, all license plates are USA, and the background in the news studio is a skyline of Manhattan. Very funny if you're Dutch and watching the original version in Dutch.\",\n          \"Wonderful film that mixes documentary and fiction in a way that makes the spectator question: what is the extent of truth in documentary films or is there such a thing as an objective documentary.\"\n        ],\n        \"num_unique_values\": 9983,\n        \"semantic_type\": \"\",\n        \"description\": \"\"\n      }\n    },\n    {\n      \"column\": \"sentiment\",\n      \"properties\": {\n        \"dtype\": \"category\",\n        \"samples\": [\n          \"negative\",\n          \"positive\"\n        ],\n        \"num_unique_values\": 2,\n        \"semantic_type\": \"\",\n        \"description\": \"\"\n      }\n    },\n    {\n      \"column\": \"clean_review\",\n      \"properties\": {\n        \"dtype\": \"string\",\n        \"samples\": [\n          \"good grief still maintain manos hands fate worst piece mental torture available hobgoblins came awfully close thisthisthing insults audience every opportunitybr br least films like space mutiny future war enjoyed mstk one struggle get literally writhing couch anguish thing managed embarrass alonebr br even diehard mstk fan made mission see every single experiment think twice seeing onebr br bad\",\n          \"thought intensive care quite bad unintentionally funny least bad thought might sometimes somewhat suspenseful never good shockerbr br spoiler aheadbr br fun lies ridiculous moments alltime classic moment peter koen wauters stabbed beaten killer lies moaning corner hallway amy nada van nie kneels beside asks poor peter shall get bandaidbr br movie shot dutch english spare costs license plates usa background news studio skyline manhattan funny youre dutch watching original version dutch\"\n        ],\n        \"num_unique_values\": 9983,\n        \"semantic_type\": \"\",\n        \"description\": \"\"\n      }\n    }\n  ]\n}"
            }
          },
          "metadata": {},
          "execution_count": 24
        }
      ]
    },
    {
      "cell_type": "code",
      "source": [
        " reviews = np.array(df['clean_review'])\n",
        "sentiments = np.array(df['sentiment'])\n",
        "\n",
        "test_reviews = reviews[9500:]\n",
        "test_sentiments = sentiments[9500:]\n",
        "sample_review_ids = [9511,9622,9880]"
      ],
      "metadata": {
        "id": "H-qL3ZSRY59O"
      },
      "execution_count": 25,
      "outputs": []
    },
    {
      "cell_type": "markdown",
      "source": [
        "## **Sentiment Analysis with VADER**\n",
        "### Create a Scoring Function:"
      ],
      "metadata": {
        "id": "2712Tw4FVka3"
      }
    },
    {
      "cell_type": "code",
      "source": [
        "# Add in comments\n",
        "def analyze_sentiment_vader_lexicon(review,\n",
        "                                    threshold=0.1,\n",
        "                                    verbose=False): # for additional stats\n",
        "    analyzer = SentimentIntensityAnalyzer()\n",
        "    scores = analyzer.polarity_scores(review) # score the words\n",
        "\n",
        "    agg_score = scores['compound'] # overall score\n",
        "    final_sentiment = 'positive' if agg_score >= threshold\\\n",
        "                                   else 'negative'\n",
        "    if verbose:\n",
        "        positive = str(round(scores['pos'], 2)*100)+'%' # percent of words positive\n",
        "        final = round(agg_score, 2)\n",
        "        negative = str(round(scores['neg'], 2)*100)+'%'\n",
        "        neutral = str(round(scores['neu'], 2)*100)+'%'\n",
        "        sentiment_frame = pd.DataFrame([[final_sentiment, final, positive,\n",
        "                                        negative, neutral]],\n",
        "                                        columns=pd.MultiIndex(levels=[['SENTIMENT STATS:'],\n",
        "                                                                      ['Predicted Sentiment', 'Polarity Score',\n",
        "                                                                       'Positive', 'Negative', 'Neutral']],\n",
        "                                                              codes=[[0,0,0,0,0],[0,1,2,3,4]]))\n",
        "        print(sentiment_frame)\n",
        "\n",
        "    return final_sentiment\n"
      ],
      "metadata": {
        "id": "zM0NMaGkVrDD"
      },
      "execution_count": 26,
      "outputs": []
    },
    {
      "cell_type": "markdown",
      "source": [
        "### Predict Sentiment of Sample Reviews"
      ],
      "metadata": {
        "id": "2OtoAGLqYNMe"
      }
    },
    {
      "cell_type": "code",
      "source": [
        "for reviews, sentiments in zip(reviews[sample_review_ids], sentiments[sample_review_ids]):\n",
        "    print('REVIEW:', reviews)\n",
        "    print('Actual Sentiment:', sentiments)\n",
        "    pred = analyze_sentiment_vader_lexicon(reviews, threshold = 0.4, verbose = True)\n",
        "    print('-'*60)"
      ],
      "metadata": {
        "id": "2yPSRoFBYPvW",
        "colab": {
          "base_uri": "https://localhost:8080/"
        },
        "outputId": "420d5d81-fd9a-4902-8ba7-41bcce038e0b"
      },
      "execution_count": 27,
      "outputs": [
        {
          "output_type": "stream",
          "name": "stdout",
          "text": [
            "REVIEW: scientists behaved way hg wells confident would future history wouldnt quite turned way things come almost years past point wells wrote shape things come film based closer world describes ways farther awaybr br though well known players raymond massey ralph richardson cedric hardwicke cast theyre caricatures real characters main weakness film devoted wellss philosophy science solve problems rest us backward foolsbr br masseys characters two generations family holds supremely optimistic view cedric hardwicke skeptic feels man rushing far forward ralph richardson warlord arisen destruction another thirty years war fought modern weapons way atomic bomb invented poison gas deemed weapon almost destroys mankindbr br according wells science conquest never mix scientists group far world politics engage things wellss lifetime scientists certainly fled rightwing fascistic governments hitler mussolini folks however order defeat subordinated allies fashioned atomic weapons ushered modern age behaved wells would liked someone like albert einstein would headed junta scientists would established new order world war ii br br wells got wrong time development apparently never envisioned computer well atomic power computer programmers far likely rulers brave new world scientists moment still things come aided direction william cameron menzies sets created offer interesting glimpse mind hg wells certainly respected thinker time though didnt quite get right shape things come\n",
            "Actual Sentiment: positive\n",
            "     SENTIMENT STATS:                                         \n",
            "  Predicted Sentiment Polarity Score Positive Negative Neutral\n",
            "0            negative           0.32    20.0%    17.0%   64.0%\n",
            "------------------------------------------------------------\n",
            "REVIEW: found good movie pass time chance historical value portrayal cleopatra reminded cheap soap operabr br twist facts funny gave birth feeding people please pregnant queen egypt especially one would bother go one room reason tried make appear saint gods sake way tried justify murdering sister beyond descriptionbr br cleopatra greatest politician time decisions based anything feelings morals everything two reasons power selfpreservation borne family straggle survival something well anything stood way either murdered brothers sister seduced ceasar mark anthonybr br unfortunately octavian powerful kill gay seduced end\n",
            "Actual Sentiment: negative\n",
            "     SENTIMENT STATS:                                         \n",
            "  Predicted Sentiment Polarity Score Positive Negative Neutral\n",
            "0            negative          -0.59    18.0%    20.0%   61.0%\n",
            "------------------------------------------------------------\n",
            "REVIEW: always loved film musicstory action especially love opening closing film music stayed throughout years wwi plane battles great comedy typical blake edwards slaptick forte julies singing amazing keeps glued screen sets scenes wonderful characters appealing loved scene wounded soldiers julies singing wish sang vietnam also enjoyed old cars period wwi musici glad dvd arrived whistle dark watching\n",
            "Actual Sentiment: positive\n",
            "     SENTIMENT STATS:                                                     \n",
            "  Predicted Sentiment Polarity Score Positive Negative             Neutral\n",
            "0            positive           0.99    42.0%     3.0%  55.00000000000001%\n",
            "------------------------------------------------------------\n"
          ]
        }
      ]
    },
    {
      "cell_type": "code",
      "source": [
        "df['review'].loc[9880]"
      ],
      "metadata": {
        "colab": {
          "base_uri": "https://localhost:8080/",
          "height": 104
        },
        "id": "5BHAzSmg7xTi",
        "outputId": "07d4c1c1-8a5f-4f5e-e0e6-01deb5854d1d"
      },
      "execution_count": 30,
      "outputs": [
        {
          "output_type": "execute_result",
          "data": {
            "text/plain": [
              "\"I always loved this film. The music,story and the action. I especially love the opening and closing of the film. The music stayed with me throughout the years. The WWI plane battles were great and the comedy is typical Blake Edwards. Slaptick is his forte' after all. Julie's singing is amazing and keeps me glued to the screen. The sets and the scenes are wonderful. The characters are appealing. I loved the scene with the wounded soldiers and Julie's singing to them. I wish she sang to me in Vietnam. I also enjoyed the old cars from the period and the WWI music.I was glad when the DVD arrived. Now I can whistle in the dark watching it again and again.\""
            ],
            "application/vnd.google.colaboratory.intrinsic+json": {
              "type": "string"
            }
          },
          "metadata": {},
          "execution_count": 30
        }
      ]
    },
    {
      "cell_type": "markdown",
      "source": [
        "**What impact does the threshold value have on the classification of sentiments within reviews?**"
      ],
      "metadata": {
        "id": "qnYy_-LKbfVI"
      }
    },
    {
      "cell_type": "markdown",
      "source": [
        "How strong of a sentiment score is needed to classify the text as positive. The closer it is to -3 (for this specific model), the lower the positive sentiment needs to be for it to be classified as such."
      ],
      "metadata": {
        "id": "hX90DOvZbjwf"
      }
    },
    {
      "cell_type": "markdown",
      "source": [
        "**Do you agree with all of the ratings? If not, what words or phrases might be throwing off the sentiment score?**"
      ],
      "metadata": {
        "id": "kIzl6PbHb_O1"
      }
    },
    {
      "cell_type": "markdown",
      "source": [
        "not necessarily. The high amount of neutral words is causing for lower scores. I think that for this dataset specifically there is less indication of positive or negative sentiment. I was surprised rating 9622 was correctly classified because of the sarcasm present (it starts by saying it was a good movie), and rating 9511 is harder to identify by looking at it, but it also seems positive. Rating 9880 was by far the most positive case (with an unsurprising score of .99)."
      ],
      "metadata": {
        "id": "11bxzcSXcF5-"
      }
    },
    {
      "cell_type": "markdown",
      "source": [
        "## **Next let's predict sentiment via machine learning, using several classification algorithms...**\n",
        "\n",
        "### Build a training and test set"
      ],
      "metadata": {
        "id": "v5xADfOZeS-d"
      }
    },
    {
      "cell_type": "markdown",
      "source": [
        "### Feature Engineering"
      ],
      "metadata": {
        "id": "JdgvGm7EgMD6"
      }
    },
    {
      "cell_type": "code",
      "source": [
        "x = df['clean_review']\n",
        "y = df['sentiment']\n",
        "\n",
        "train_reviews, test_reviews, train_sentiments, test_sentiments = train_test_split(x, y, test_size=0.2,random_state=42)\n",
        "                                                        # consider unigrams and bigrams (one and two word phrases)\n",
        "tv = TfidfVectorizer(use_idf=True, min_df=5, max_df=0.6, ngram_range=(1,2), sublinear_tf=True)\n",
        "tv_train_features = tv.fit_transform(train_reviews)\n",
        "tv_test_features = tv.transform(test_reviews)\n",
        "\n",
        "tv_train_features.shape, tv_test_features.shape"
      ],
      "metadata": {
        "id": "fZrQBdsoegI1",
        "colab": {
          "base_uri": "https://localhost:8080/"
        },
        "outputId": "89194503-79b0-49db-e476-384b297f733c"
      },
      "execution_count": 32,
      "outputs": [
        {
          "output_type": "execute_result",
          "data": {
            "text/plain": [
              "((8000, 30582), (2000, 30582))"
            ]
          },
          "metadata": {},
          "execution_count": 32
        }
      ]
    },
    {
      "cell_type": "markdown",
      "source": [
        "### Model Training, Prediction, and Performance Eval"
      ],
      "metadata": {
        "id": "jNHOhyKokjr2"
      }
    },
    {
      "cell_type": "code",
      "source": [
        "lr = LogisticRegression(penalty='l2', max_iter=100, C=1) # linear model\n",
        "svm = SGDClassifier(loss='hinge', max_iter=100)          # and non-linear"
      ],
      "metadata": {
        "id": "8Sg11S2VkP-k"
      },
      "execution_count": 33,
      "outputs": []
    },
    {
      "cell_type": "markdown",
      "source": [
        "#### Logistic Regression with TF-IDF Features"
      ],
      "metadata": {
        "id": "MWzoRmlvl4gF"
      }
    },
    {
      "cell_type": "code",
      "source": [
        "def train_predict_model(classifier,\n",
        "                        train_features, train_labels,\n",
        "                        test_features, test_labels):\n",
        "    classifier.fit(train_features, train_labels)\n",
        "    predictions = classifier.predict(test_features)\n",
        "    return predictions"
      ],
      "metadata": {
        "id": "_mkLqklzkpLk"
      },
      "execution_count": 34,
      "outputs": []
    },
    {
      "cell_type": "code",
      "source": [
        "lr_tfidf_predictions = train_predict_model(classifier=lr,\n",
        "                                           train_features=tv_train_features, train_labels=train_sentiments,\n",
        "                                           test_features=tv_test_features, test_labels=test_sentiments)\n",
        "\n",
        "print(classification_report(test_sentiments, lr_tfidf_predictions))"
      ],
      "metadata": {
        "id": "HpqJpYzelasD",
        "colab": {
          "base_uri": "https://localhost:8080/"
        },
        "outputId": "8971b3f4-67cf-4764-de2e-cb33e5e5294a"
      },
      "execution_count": 36,
      "outputs": [
        {
          "output_type": "stream",
          "name": "stdout",
          "text": [
            "              precision    recall  f1-score   support\n",
            "\n",
            "    negative       0.91      0.87      0.89       996\n",
            "    positive       0.87      0.91      0.89      1004\n",
            "\n",
            "    accuracy                           0.89      2000\n",
            "   macro avg       0.89      0.89      0.89      2000\n",
            "weighted avg       0.89      0.89      0.89      2000\n",
            "\n"
          ]
        }
      ]
    },
    {
      "cell_type": "code",
      "source": [
        "svm_tfidf_predictions = train_predict_model(classifier=svm,\n",
        "                                               train_features=tv_train_features, train_labels=train_sentiments,\n",
        "                                               test_features=tv_test_features, test_labels=test_sentiments)\n",
        "\n",
        "print(classification_report(test_sentiments, svm_tfidf_predictions))"
      ],
      "metadata": {
        "id": "VtOXfTgpd60T",
        "colab": {
          "base_uri": "https://localhost:8080/"
        },
        "outputId": "80ffdb47-4b19-4b3c-b9a3-011113fa755e"
      },
      "execution_count": 38,
      "outputs": [
        {
          "output_type": "stream",
          "name": "stdout",
          "text": [
            "              precision    recall  f1-score   support\n",
            "\n",
            "    negative       0.90      0.86      0.88       996\n",
            "    positive       0.87      0.90      0.89      1004\n",
            "\n",
            "    accuracy                           0.88      2000\n",
            "   macro avg       0.88      0.88      0.88      2000\n",
            "weighted avg       0.88      0.88      0.88      2000\n",
            "\n"
          ]
        }
      ]
    },
    {
      "cell_type": "markdown",
      "source": [
        "**Which metric would be most appropriate to use in this case and why?**"
      ],
      "metadata": {
        "id": "vvsjeJ2cmWAw"
      }
    },
    {
      "cell_type": "markdown",
      "source": [
        "The linear regression model was slightly more accurate for both precision and recall and therefor should be used. In this case, since we don't know the use case or whethere false-positives or false-negatives are more costly, simply looking at the f1-scores reveals which model is better (although using recall/precision would give the same result)."
      ],
      "metadata": {
        "id": "a-a-DqB0ms9f"
      }
    },
    {
      "cell_type": "markdown",
      "source": [
        "## **Interpretation Time!**\n",
        "\n",
        "First let's examine predicted probabilities to see how confident our model was in its predictions..."
      ],
      "metadata": {
        "id": "JLz9lkTDrGQ2"
      }
    },
    {
      "cell_type": "code",
      "source": [
        "model = lr.fit(tv_train_features, train_sentiments)"
      ],
      "metadata": {
        "id": "iUynPnqfny5f"
      },
      "execution_count": 39,
      "outputs": []
    },
    {
      "cell_type": "code",
      "source": [
        "predicted_probas = list(zip(*model.predict_proba(tv_test_features)))[0]"
      ],
      "metadata": {
        "id": "rKJ5Pdt0ohDZ"
      },
      "execution_count": 40,
      "outputs": []
    },
    {
      "cell_type": "code",
      "source": [
        "predictions_df = pd.DataFrame()\n",
        "predictions_df['Reviews'] = test_reviews\n",
        "predictions_df['True Sentiment'] = test_sentiments\n",
        "predictions_df['Predicted Sentiment'] = lr_tfidf_predictions\n",
        "predictions_df['Probability_Negative'] = predicted_probas"
      ],
      "metadata": {
        "id": "qCQJTNffpgBH"
      },
      "execution_count": 41,
      "outputs": []
    },
    {
      "cell_type": "code",
      "source": [
        "predictions_df"
      ],
      "metadata": {
        "id": "oBqS9875q8Ku",
        "colab": {
          "base_uri": "https://localhost:8080/",
          "height": 1153
        },
        "outputId": "48176dc9-b60a-422f-9870-a55e986aa6b3"
      },
      "execution_count": 42,
      "outputs": [
        {
          "output_type": "execute_result",
          "data": {
            "text/plain": [
              "                                                Reviews True Sentiment  \\\n",
              "6252  pretty pointless remake starting opening title...       negative   \n",
              "4684  agree comments regarding downward spin last vi...       negative   \n",
              "1731  picked movie intention getting bad zombie movi...       negative   \n",
              "4742  thought movie lol funny fun taken seriously mo...       positive   \n",
              "4521  interesting study societal sexuality well dark...       positive   \n",
              "...                                                 ...            ...   \n",
              "6412  wizards lost kingdom movie young prince simon ...       positive   \n",
              "8285  much love darling little comedy anyone ever bu...       positive   \n",
              "7853  strong woman oriented subject long director kr...       positive   \n",
              "1095  immoral reprehensible piece garbage doubt want...       negative   \n",
              "6929  renowned cinematographer freddie francis glory...       negative   \n",
              "\n",
              "     Predicted Sentiment  Probability_Negative  \n",
              "6252            negative              0.777969  \n",
              "4684            positive              0.444922  \n",
              "1731            negative              0.878582  \n",
              "4742            positive              0.166426  \n",
              "4521            positive              0.258018  \n",
              "...                  ...                   ...  \n",
              "6412            negative              0.864867  \n",
              "8285            positive              0.079716  \n",
              "7853            positive              0.193285  \n",
              "1095            negative              0.796857  \n",
              "6929            negative              0.680680  \n",
              "\n",
              "[2000 rows x 4 columns]"
            ],
            "text/html": [
              "\n",
              "  <div id=\"df-3cfe2500-cd39-45e0-8d15-fa9344d042b7\" class=\"colab-df-container\">\n",
              "    <div>\n",
              "<style scoped>\n",
              "    .dataframe tbody tr th:only-of-type {\n",
              "        vertical-align: middle;\n",
              "    }\n",
              "\n",
              "    .dataframe tbody tr th {\n",
              "        vertical-align: top;\n",
              "    }\n",
              "\n",
              "    .dataframe thead th {\n",
              "        text-align: right;\n",
              "    }\n",
              "</style>\n",
              "<table border=\"1\" class=\"dataframe\">\n",
              "  <thead>\n",
              "    <tr style=\"text-align: right;\">\n",
              "      <th></th>\n",
              "      <th>Reviews</th>\n",
              "      <th>True Sentiment</th>\n",
              "      <th>Predicted Sentiment</th>\n",
              "      <th>Probability_Negative</th>\n",
              "    </tr>\n",
              "  </thead>\n",
              "  <tbody>\n",
              "    <tr>\n",
              "      <th>6252</th>\n",
              "      <td>pretty pointless remake starting opening title...</td>\n",
              "      <td>negative</td>\n",
              "      <td>negative</td>\n",
              "      <td>0.777969</td>\n",
              "    </tr>\n",
              "    <tr>\n",
              "      <th>4684</th>\n",
              "      <td>agree comments regarding downward spin last vi...</td>\n",
              "      <td>negative</td>\n",
              "      <td>positive</td>\n",
              "      <td>0.444922</td>\n",
              "    </tr>\n",
              "    <tr>\n",
              "      <th>1731</th>\n",
              "      <td>picked movie intention getting bad zombie movi...</td>\n",
              "      <td>negative</td>\n",
              "      <td>negative</td>\n",
              "      <td>0.878582</td>\n",
              "    </tr>\n",
              "    <tr>\n",
              "      <th>4742</th>\n",
              "      <td>thought movie lol funny fun taken seriously mo...</td>\n",
              "      <td>positive</td>\n",
              "      <td>positive</td>\n",
              "      <td>0.166426</td>\n",
              "    </tr>\n",
              "    <tr>\n",
              "      <th>4521</th>\n",
              "      <td>interesting study societal sexuality well dark...</td>\n",
              "      <td>positive</td>\n",
              "      <td>positive</td>\n",
              "      <td>0.258018</td>\n",
              "    </tr>\n",
              "    <tr>\n",
              "      <th>...</th>\n",
              "      <td>...</td>\n",
              "      <td>...</td>\n",
              "      <td>...</td>\n",
              "      <td>...</td>\n",
              "    </tr>\n",
              "    <tr>\n",
              "      <th>6412</th>\n",
              "      <td>wizards lost kingdom movie young prince simon ...</td>\n",
              "      <td>positive</td>\n",
              "      <td>negative</td>\n",
              "      <td>0.864867</td>\n",
              "    </tr>\n",
              "    <tr>\n",
              "      <th>8285</th>\n",
              "      <td>much love darling little comedy anyone ever bu...</td>\n",
              "      <td>positive</td>\n",
              "      <td>positive</td>\n",
              "      <td>0.079716</td>\n",
              "    </tr>\n",
              "    <tr>\n",
              "      <th>7853</th>\n",
              "      <td>strong woman oriented subject long director kr...</td>\n",
              "      <td>positive</td>\n",
              "      <td>positive</td>\n",
              "      <td>0.193285</td>\n",
              "    </tr>\n",
              "    <tr>\n",
              "      <th>1095</th>\n",
              "      <td>immoral reprehensible piece garbage doubt want...</td>\n",
              "      <td>negative</td>\n",
              "      <td>negative</td>\n",
              "      <td>0.796857</td>\n",
              "    </tr>\n",
              "    <tr>\n",
              "      <th>6929</th>\n",
              "      <td>renowned cinematographer freddie francis glory...</td>\n",
              "      <td>negative</td>\n",
              "      <td>negative</td>\n",
              "      <td>0.680680</td>\n",
              "    </tr>\n",
              "  </tbody>\n",
              "</table>\n",
              "<p>2000 rows × 4 columns</p>\n",
              "</div>\n",
              "    <div class=\"colab-df-buttons\">\n",
              "\n",
              "  <div class=\"colab-df-container\">\n",
              "    <button class=\"colab-df-convert\" onclick=\"convertToInteractive('df-3cfe2500-cd39-45e0-8d15-fa9344d042b7')\"\n",
              "            title=\"Convert this dataframe to an interactive table.\"\n",
              "            style=\"display:none;\">\n",
              "\n",
              "  <svg xmlns=\"http://www.w3.org/2000/svg\" height=\"24px\" viewBox=\"0 -960 960 960\">\n",
              "    <path d=\"M120-120v-720h720v720H120Zm60-500h600v-160H180v160Zm220 220h160v-160H400v160Zm0 220h160v-160H400v160ZM180-400h160v-160H180v160Zm440 0h160v-160H620v160ZM180-180h160v-160H180v160Zm440 0h160v-160H620v160Z\"/>\n",
              "  </svg>\n",
              "    </button>\n",
              "\n",
              "  <style>\n",
              "    .colab-df-container {\n",
              "      display:flex;\n",
              "      gap: 12px;\n",
              "    }\n",
              "\n",
              "    .colab-df-convert {\n",
              "      background-color: #E8F0FE;\n",
              "      border: none;\n",
              "      border-radius: 50%;\n",
              "      cursor: pointer;\n",
              "      display: none;\n",
              "      fill: #1967D2;\n",
              "      height: 32px;\n",
              "      padding: 0 0 0 0;\n",
              "      width: 32px;\n",
              "    }\n",
              "\n",
              "    .colab-df-convert:hover {\n",
              "      background-color: #E2EBFA;\n",
              "      box-shadow: 0px 1px 2px rgba(60, 64, 67, 0.3), 0px 1px 3px 1px rgba(60, 64, 67, 0.15);\n",
              "      fill: #174EA6;\n",
              "    }\n",
              "\n",
              "    .colab-df-buttons div {\n",
              "      margin-bottom: 4px;\n",
              "    }\n",
              "\n",
              "    [theme=dark] .colab-df-convert {\n",
              "      background-color: #3B4455;\n",
              "      fill: #D2E3FC;\n",
              "    }\n",
              "\n",
              "    [theme=dark] .colab-df-convert:hover {\n",
              "      background-color: #434B5C;\n",
              "      box-shadow: 0px 1px 3px 1px rgba(0, 0, 0, 0.15);\n",
              "      filter: drop-shadow(0px 1px 2px rgba(0, 0, 0, 0.3));\n",
              "      fill: #FFFFFF;\n",
              "    }\n",
              "  </style>\n",
              "\n",
              "    <script>\n",
              "      const buttonEl =\n",
              "        document.querySelector('#df-3cfe2500-cd39-45e0-8d15-fa9344d042b7 button.colab-df-convert');\n",
              "      buttonEl.style.display =\n",
              "        google.colab.kernel.accessAllowed ? 'block' : 'none';\n",
              "\n",
              "      async function convertToInteractive(key) {\n",
              "        const element = document.querySelector('#df-3cfe2500-cd39-45e0-8d15-fa9344d042b7');\n",
              "        const dataTable =\n",
              "          await google.colab.kernel.invokeFunction('convertToInteractive',\n",
              "                                                    [key], {});\n",
              "        if (!dataTable) return;\n",
              "\n",
              "        const docLinkHtml = 'Like what you see? Visit the ' +\n",
              "          '<a target=\"_blank\" href=https://colab.research.google.com/notebooks/data_table.ipynb>data table notebook</a>'\n",
              "          + ' to learn more about interactive tables.';\n",
              "        element.innerHTML = '';\n",
              "        dataTable['output_type'] = 'display_data';\n",
              "        await google.colab.output.renderOutput(dataTable, element);\n",
              "        const docLink = document.createElement('div');\n",
              "        docLink.innerHTML = docLinkHtml;\n",
              "        element.appendChild(docLink);\n",
              "      }\n",
              "    </script>\n",
              "  </div>\n",
              "\n",
              "\n",
              "<div id=\"df-9649fd86-4f62-4908-916a-a0c3e9762583\">\n",
              "  <button class=\"colab-df-quickchart\" onclick=\"quickchart('df-9649fd86-4f62-4908-916a-a0c3e9762583')\"\n",
              "            title=\"Suggest charts\"\n",
              "            style=\"display:none;\">\n",
              "\n",
              "<svg xmlns=\"http://www.w3.org/2000/svg\" height=\"24px\"viewBox=\"0 0 24 24\"\n",
              "     width=\"24px\">\n",
              "    <g>\n",
              "        <path d=\"M19 3H5c-1.1 0-2 .9-2 2v14c0 1.1.9 2 2 2h14c1.1 0 2-.9 2-2V5c0-1.1-.9-2-2-2zM9 17H7v-7h2v7zm4 0h-2V7h2v10zm4 0h-2v-4h2v4z\"/>\n",
              "    </g>\n",
              "</svg>\n",
              "  </button>\n",
              "\n",
              "<style>\n",
              "  .colab-df-quickchart {\n",
              "      --bg-color: #E8F0FE;\n",
              "      --fill-color: #1967D2;\n",
              "      --hover-bg-color: #E2EBFA;\n",
              "      --hover-fill-color: #174EA6;\n",
              "      --disabled-fill-color: #AAA;\n",
              "      --disabled-bg-color: #DDD;\n",
              "  }\n",
              "\n",
              "  [theme=dark] .colab-df-quickchart {\n",
              "      --bg-color: #3B4455;\n",
              "      --fill-color: #D2E3FC;\n",
              "      --hover-bg-color: #434B5C;\n",
              "      --hover-fill-color: #FFFFFF;\n",
              "      --disabled-bg-color: #3B4455;\n",
              "      --disabled-fill-color: #666;\n",
              "  }\n",
              "\n",
              "  .colab-df-quickchart {\n",
              "    background-color: var(--bg-color);\n",
              "    border: none;\n",
              "    border-radius: 50%;\n",
              "    cursor: pointer;\n",
              "    display: none;\n",
              "    fill: var(--fill-color);\n",
              "    height: 32px;\n",
              "    padding: 0;\n",
              "    width: 32px;\n",
              "  }\n",
              "\n",
              "  .colab-df-quickchart:hover {\n",
              "    background-color: var(--hover-bg-color);\n",
              "    box-shadow: 0 1px 2px rgba(60, 64, 67, 0.3), 0 1px 3px 1px rgba(60, 64, 67, 0.15);\n",
              "    fill: var(--button-hover-fill-color);\n",
              "  }\n",
              "\n",
              "  .colab-df-quickchart-complete:disabled,\n",
              "  .colab-df-quickchart-complete:disabled:hover {\n",
              "    background-color: var(--disabled-bg-color);\n",
              "    fill: var(--disabled-fill-color);\n",
              "    box-shadow: none;\n",
              "  }\n",
              "\n",
              "  .colab-df-spinner {\n",
              "    border: 2px solid var(--fill-color);\n",
              "    border-color: transparent;\n",
              "    border-bottom-color: var(--fill-color);\n",
              "    animation:\n",
              "      spin 1s steps(1) infinite;\n",
              "  }\n",
              "\n",
              "  @keyframes spin {\n",
              "    0% {\n",
              "      border-color: transparent;\n",
              "      border-bottom-color: var(--fill-color);\n",
              "      border-left-color: var(--fill-color);\n",
              "    }\n",
              "    20% {\n",
              "      border-color: transparent;\n",
              "      border-left-color: var(--fill-color);\n",
              "      border-top-color: var(--fill-color);\n",
              "    }\n",
              "    30% {\n",
              "      border-color: transparent;\n",
              "      border-left-color: var(--fill-color);\n",
              "      border-top-color: var(--fill-color);\n",
              "      border-right-color: var(--fill-color);\n",
              "    }\n",
              "    40% {\n",
              "      border-color: transparent;\n",
              "      border-right-color: var(--fill-color);\n",
              "      border-top-color: var(--fill-color);\n",
              "    }\n",
              "    60% {\n",
              "      border-color: transparent;\n",
              "      border-right-color: var(--fill-color);\n",
              "    }\n",
              "    80% {\n",
              "      border-color: transparent;\n",
              "      border-right-color: var(--fill-color);\n",
              "      border-bottom-color: var(--fill-color);\n",
              "    }\n",
              "    90% {\n",
              "      border-color: transparent;\n",
              "      border-bottom-color: var(--fill-color);\n",
              "    }\n",
              "  }\n",
              "</style>\n",
              "\n",
              "  <script>\n",
              "    async function quickchart(key) {\n",
              "      const quickchartButtonEl =\n",
              "        document.querySelector('#' + key + ' button');\n",
              "      quickchartButtonEl.disabled = true;  // To prevent multiple clicks.\n",
              "      quickchartButtonEl.classList.add('colab-df-spinner');\n",
              "      try {\n",
              "        const charts = await google.colab.kernel.invokeFunction(\n",
              "            'suggestCharts', [key], {});\n",
              "      } catch (error) {\n",
              "        console.error('Error during call to suggestCharts:', error);\n",
              "      }\n",
              "      quickchartButtonEl.classList.remove('colab-df-spinner');\n",
              "      quickchartButtonEl.classList.add('colab-df-quickchart-complete');\n",
              "    }\n",
              "    (() => {\n",
              "      let quickchartButtonEl =\n",
              "        document.querySelector('#df-9649fd86-4f62-4908-916a-a0c3e9762583 button');\n",
              "      quickchartButtonEl.style.display =\n",
              "        google.colab.kernel.accessAllowed ? 'block' : 'none';\n",
              "    })();\n",
              "  </script>\n",
              "</div>\n",
              "    </div>\n",
              "  </div>\n"
            ],
            "application/vnd.google.colaboratory.intrinsic+json": {
              "type": "dataframe",
              "variable_name": "predictions_df",
              "summary": "{\n  \"name\": \"predictions_df\",\n  \"rows\": 2000,\n  \"fields\": [\n    {\n      \"column\": \"Reviews\",\n      \"properties\": {\n        \"dtype\": \"string\",\n        \"samples\": [\n          \"ive seen film several times variety shortfilm festivals always causes impression seen movie trailer br br schoolfilm well produced directed story well needed something else bigger interesting film character named tim watcher needed indept approach something lacks portuguese short films script always superficialbr br still liked moviebr br parabens congratulations\",\n          \"add reviewers already made clear movie awful beyond awful fact insufferable yet come term describe awfulness skeleton man case expect movies feature minimum logic plot stay far away humanly possible sure loads people getting killed skeletonpuppet wearing ridiculous cape nobody ever bothers properly explain comes hes angry world looks like crossover skeletor masters universe horseman sleepy hollow runs amok godforsaken wilderness setting skeleton man another totally retarded aspect nearly half hour assumed movie took place small isolated island simply plays mainland fancy highways cross forest power plants located end woods huh everybody pretend trapped like million escape routes anyway couple totally random killings special commando squad led poor washedup michael rooker arrives come hunt monster dont know anything really hilarious every member squad introduces himherself expert certain field sniperspecialist tracking genius drill instructor yet die able demonstrate supposedly masterful skills horror gods must really hate casper van dien hes present well portraying heroic soldier steals truck apparent reason crashes highway somehow gets catapulted back middle woods die right makes sense furthermore characters steal cool oneliners predator boneheads horse constantly changes colors helicopters brought bow arrows ordinary bullets cause trees explode completely pointless vietnam flashbacks haunt michael rooker say combine forces vote pathetic flick imdb bottom top asap\",\n          \"casual listener rolling stones thought might interesting film age someone born looks hippy purist propaganda crap sure film made people active th expected drugs galore th stones disappointed actually showed real life hard work studio much felt working get conclusion god awful film seen directors films suspect follow similar style directing sort amatuerish gave feeling like tv show eurotrash badly directed tackily put together lacking real entertainment value good opinion didnt waste money came free sunday paper\"\n        ],\n        \"num_unique_values\": 2000,\n        \"semantic_type\": \"\",\n        \"description\": \"\"\n      }\n    },\n    {\n      \"column\": \"True Sentiment\",\n      \"properties\": {\n        \"dtype\": \"category\",\n        \"samples\": [\n          \"positive\",\n          \"negative\"\n        ],\n        \"num_unique_values\": 2,\n        \"semantic_type\": \"\",\n        \"description\": \"\"\n      }\n    },\n    {\n      \"column\": \"Predicted Sentiment\",\n      \"properties\": {\n        \"dtype\": \"category\",\n        \"samples\": [\n          \"positive\",\n          \"negative\"\n        ],\n        \"num_unique_values\": 2,\n        \"semantic_type\": \"\",\n        \"description\": \"\"\n      }\n    },\n    {\n      \"column\": \"Probability_Negative\",\n      \"properties\": {\n        \"dtype\": \"number\",\n        \"std\": 0.26205052758331365,\n        \"min\": 0.023105597327366723,\n        \"max\": 0.9884646665800149,\n        \"samples\": [\n          0.34221356029285166,\n          0.8588114879260658\n        ],\n        \"num_unique_values\": 2000,\n        \"semantic_type\": \"\",\n        \"description\": \"\"\n      }\n    }\n  ]\n}"
            }
          },
          "metadata": {},
          "execution_count": 42
        }
      ]
    },
    {
      "cell_type": "markdown",
      "source": [
        "**Sort the predictions_df by predicted probability to find movies with high, moderate and low probabilities to examine a) whether the predictions were correct and b) try to identify what sorts of words or phrases led to high or low probabilities of a negative sentiment**"
      ],
      "metadata": {
        "id": "DyBPwNHYrZKu"
      }
    },
    {
      "cell_type": "markdown",
      "source": [
        "At the top and bottom of the spectrum the model was really accurate at prediciting positive/negative. However, in the middle it was less accurate and even as a human reading the text it is somewhat difficult to tell whether the prediction is positve or negative (it's not black and white).\n",
        "\n",
        "The word 'love' seems very powerful indicater of positive sentiment.\n",
        "\n",
        "Looking at rating 9186, the model was not very certain that it was positive (0.458 probability negative) but as a reader it was very clearly negative because it ended saying the movie 'severely disappoints.' I don't know where the positive sentiment came from in this case, perhaps it was just mostly neutral."
      ],
      "metadata": {
        "id": "hh4bTbgmrnCp"
      }
    },
    {
      "cell_type": "markdown",
      "source": [
        "## **Feature Importance Plot**:"
      ],
      "metadata": {
        "id": "kEP59Ci0iyLq"
      }
    },
    {
      "cell_type": "code",
      "source": [
        "# Add in comments\n",
        "def plot_top_feature_importance_updated(coefficients, feature_names, title, top_n=20):\n",
        "    \"\"\"Helper function to plot top feature importance using only matplotlib\"\"\"\n",
        "    coef_df = pd.DataFrame({'feature': feature_names, 'coefficient': coefficients})\n",
        "    coef_df = coef_df.reindex(coef_df.coefficient.abs().sort_values(ascending=False).index)\n",
        "\n",
        "    plt.figure(figsize=(10, 6))\n",
        "\n",
        "# use matplotlib to create a bar chart to display the topp features and their coefficients from the lr\n",
        "\n",
        "    top_features = coef_df.head(top_n)\n",
        "    plt.barh(top_features['feature'], top_features['coefficient'], align='center', color='skyblue')\n",
        "    plt.title(title)\n",
        "    plt.xlabel('Coefficient Value')\n",
        "    plt.ylabel('Feature')\n",
        "    plt.gca().invert_yaxis()\n",
        "    plt.show()\n",
        "\n",
        "# only use 5000 observations\n",
        "subset_size = 5000\n",
        "subset_reviews = train_reviews[:subset_size]\n",
        "subset_sentiments = train_sentiments[:subset_size]\n",
        "\n",
        "tv = TfidfVectorizer(use_idf=True, min_df=5, max_df=0.6, ngram_range=(1,2),\n",
        "                     sublinear_tf=True, max_features=5000)\n",
        "tv_train_features_subset = tv.fit_transform(subset_reviews)\n",
        "\n",
        "# rerun lr on subset\n",
        "\n",
        "lr = LogisticRegression(max_iter=1000)\n",
        "lr.fit(tv_train_features_subset, subset_sentiments)\n",
        "\n",
        "# extract the sentiment\n",
        "predicted_sentiments_subset = lr.predict(tv_train_features_subset)\n",
        "\n",
        "# extract the coefficients and the vocab name\n",
        "coefficients_subset = lr.coef_[0]\n",
        "feature_names_subset = tv.get_feature_names_out()\n",
        "\n",
        "\n",
        "\n",
        "\n",
        "plot_top_feature_importance_updated(coefficients_subset,feature_names_subset, 'Top Features', top_n=20)"
      ],
      "metadata": {
        "id": "66IrADYceit5",
        "colab": {
          "base_uri": "https://localhost:8080/",
          "height": 564
        },
        "outputId": "f133dbc3-026a-4630-cf5b-9fccd886761a"
      },
      "execution_count": 43,
      "outputs": [
        {
          "output_type": "display_data",
          "data": {
            "text/plain": [
              "<Figure size 1000x600 with 1 Axes>"
            ],
            "image/png": "[encoded data removed]"
          },
          "metadata": {}
        }
      ]
    },
    {
      "cell_type": "markdown",
      "source": [
        "## **Apply to unlabeled data:**"
      ],
      "metadata": {
        "id": "5XhKRBKamnm9"
      }
    },
    {
      "cell_type": "code",
      "source": [
        "# Toy sample movie reviews\n",
        "sample_reviews = [\n",
        "    \"The film was a masterpiece, with brilliant acting and a captivating storyline.\",\n",
        "    \"I didn't enjoy the movie at all. The plot was dull and the characters were uninteresting.\",\n",
        "    \"A decent watch. Some parts were great, while others were just okay.\",\n",
        "    \"Absolutely loved it! The cinematography was top-notch and the performances were unforgettable.\",\n",
        "    \"It felt like a waste of time. The jokes were flat and the pacing was off.\",\n",
        "    \"What a waste of my time! It was worse than I thought it would be but my wife loved it.\",\n",
        "    \"It was nothing special. I'll only watch it again if I had to.\",\n",
        "    \"This movie is different. I've never stayed so engaged during a movie!\",\n",
        "    \"It was definitely interesting. I'm curious if it will get a sequel, it couldn't be worse than this!\"\n",
        "]\n",
        "\n",
        "# Clean the sample reviews\n",
        "cleaned_sample_reviews = [clean_text(review) for review in sample_reviews]\n",
        "\n",
        "# Transform the cleaned reviews using the previously trained TF-IDF vectorizer\n",
        "tv_sample_features = tv.transform(cleaned_sample_reviews)\n",
        "\n",
        "# Predict sentiments using the trained logistic regression model\n",
        "predicted_sample_sentiments = lr.predict(tv_sample_features)\n",
        "\n",
        "predicted_sample_sentiments"
      ],
      "metadata": {
        "id": "zroomHX6meaJ",
        "colab": {
          "base_uri": "https://localhost:8080/"
        },
        "outputId": "5662594b-6a0a-431f-d3fb-09368b001ab6"
      },
      "execution_count": 51,
      "outputs": [
        {
          "output_type": "execute_result",
          "data": {
            "text/plain": [
              "array(['positive', 'negative', 'positive', 'positive', 'negative', 'negative',\n",
              "       'negative', 'positive', 'negative'], dtype=object)"
            ]
          },
          "metadata": {},
          "execution_count": 51
        }
      ]
    },
    {
      "cell_type": "markdown",
      "source": [
        "## [Hugging Face](https://huggingface.co/nlptown/bert-base-multilingual-uncased-sentiment) Pretrained Models**"
      ],
      "metadata": {
        "id": "WhkxhcalmsSr"
      }
    },
    {
      "cell_type": "code",
      "source": [
        "!pip install transformers"
      ],
      "metadata": {
        "id": "HzZRxIMpmfMF",
        "colab": {
          "base_uri": "https://localhost:8080/"
        },
        "outputId": "8e90f485-d20c-43e9-a78b-edd46f028069"
      },
      "execution_count": 45,
      "outputs": [
        {
          "output_type": "stream",
          "name": "stdout",
          "text": [
            "Requirement already satisfied: transformers in /usr/local/lib/python3.10/dist-packages (4.35.2)\n",
            "Requirement already satisfied: filelock in /usr/local/lib/python3.10/dist-packages (from transformers) (3.13.1)\n",
            "Requirement already satisfied: huggingface-hub<1.0,>=0.16.4 in /usr/local/lib/python3.10/dist-packages (from transformers) (0.20.3)\n",
            "Requirement already satisfied: numpy>=1.17 in /usr/local/lib/python3.10/dist-packages (from transformers) (1.25.2)\n",
            "Requirement already satisfied: packaging>=20.0 in /usr/local/lib/python3.10/dist-packages (from transformers) (23.2)\n",
            "Requirement already satisfied: pyyaml>=5.1 in /usr/local/lib/python3.10/dist-packages (from transformers) (6.0.1)\n",
            "Requirement already satisfied: regex!=2019.12.17 in /usr/local/lib/python3.10/dist-packages (from transformers) (2023.12.25)\n",
            "Requirement already satisfied: requests in /usr/local/lib/python3.10/dist-packages (from transformers) (2.31.0)\n",
            "Requirement already satisfied: tokenizers<0.19,>=0.14 in /usr/local/lib/python3.10/dist-packages (from transformers) (0.15.2)\n",
            "Requirement already satisfied: safetensors>=0.3.1 in /usr/local/lib/python3.10/dist-packages (from transformers) (0.4.2)\n",
            "Requirement already satisfied: tqdm>=4.27 in /usr/local/lib/python3.10/dist-packages (from transformers) (4.66.2)\n",
            "Requirement already satisfied: fsspec>=2023.5.0 in /usr/local/lib/python3.10/dist-packages (from huggingface-hub<1.0,>=0.16.4->transformers) (2023.6.0)\n",
            "Requirement already satisfied: typing-extensions>=3.7.4.3 in /usr/local/lib/python3.10/dist-packages (from huggingface-hub<1.0,>=0.16.4->transformers) (4.9.0)\n",
            "Requirement already satisfied: charset-normalizer<4,>=2 in /usr/local/lib/python3.10/dist-packages (from requests->transformers) (3.3.2)\n",
            "Requirement already satisfied: idna<4,>=2.5 in /usr/local/lib/python3.10/dist-packages (from requests->transformers) (3.6)\n",
            "Requirement already satisfied: urllib3<3,>=1.21.1 in /usr/local/lib/python3.10/dist-packages (from requests->transformers) (2.0.7)\n",
            "Requirement already satisfied: certifi>=2017.4.17 in /usr/local/lib/python3.10/dist-packages (from requests->transformers) (2024.2.2)\n"
          ]
        }
      ]
    },
    {
      "cell_type": "code",
      "source": [
        "from transformers import pipeline\n",
        "\n",
        "classifier = pipeline('sentiment-analysis')\n",
        "results = classifier(sample_reviews)\n",
        "\n",
        "\n",
        "for review, result in zip(sample_reviews, results):\n",
        "    print(f\"Review: {review}\\nSentiment: {result['label']} (Confidence: {result['score']:.4f})\\n\")"
      ],
      "metadata": {
        "id": "2MaW9h0om91y",
        "colab": {
          "base_uri": "https://localhost:8080/"
        },
        "outputId": "c39a725e-f4ea-44a6-c44e-7a19632eb986"
      },
      "execution_count": 52,
      "outputs": [
        {
          "output_type": "stream",
          "name": "stderr",
          "text": [
            "No model was supplied, defaulted to distilbert-base-uncased-finetuned-sst-2-english and revision af0f99b (https://huggingface.co/distilbert-base-uncased-finetuned-sst-2-english).\n",
            "Using a pipeline without specifying a model name and revision in production is not recommended.\n"
          ]
        },
        {
          "output_type": "stream",
          "name": "stdout",
          "text": [
            "Review: The film was a masterpiece, with brilliant acting and a captivating storyline.\n",
            "Sentiment: POSITIVE (Confidence: 0.9999)\n",
            "\n",
            "Review: I didn't enjoy the movie at all. The plot was dull and the characters were uninteresting.\n",
            "Sentiment: NEGATIVE (Confidence: 0.9998)\n",
            "\n",
            "Review: A decent watch. Some parts were great, while others were just okay.\n",
            "Sentiment: POSITIVE (Confidence: 0.9998)\n",
            "\n",
            "Review: Absolutely loved it! The cinematography was top-notch and the performances were unforgettable.\n",
            "Sentiment: POSITIVE (Confidence: 0.9999)\n",
            "\n",
            "Review: It felt like a waste of time. The jokes were flat and the pacing was off.\n",
            "Sentiment: NEGATIVE (Confidence: 0.9998)\n",
            "\n",
            "Review: What a waste of my time! It was worse than I thought it would be but my wife loved it.\n",
            "Sentiment: POSITIVE (Confidence: 0.9916)\n",
            "\n",
            "Review: It was nothing special. I'll only watch it again if I had to.\n",
            "Sentiment: NEGATIVE (Confidence: 0.9978)\n",
            "\n",
            "Review: This movie is different. I've never stayed so engaged during a movie!\n",
            "Sentiment: POSITIVE (Confidence: 0.9993)\n",
            "\n",
            "Review: It was definitely interesting. I'm curious if it will get a sequel, it couldn't be worse than this!\n",
            "Sentiment: POSITIVE (Confidence: 0.9993)\n",
            "\n"
          ]
        }
      ]
    },
    {
      "cell_type": "markdown",
      "source": [
        "I added some to try to stump the models and ours classified my last one  correctly while the huggingface model did not."
      ],
      "metadata": {
        "id": "2KLC8MxBPhkz"
      }
    },
    {
      "cell_type": "code",
      "source": [
        "from transformers import BertTokenizer, BertForSequenceClassification\n",
        "from torch.nn.functional import softmax\n",
        "import torch\n",
        "\n",
        "# Add comments\n",
        "\n",
        "model_name = \"nlptown/bert-base-multilingual-uncased-sentiment\"\n",
        "model = BertForSequenceClassification.from_pretrained(model_name)\n",
        "tokenizer = BertTokenizer.from_pretrained(model_name) # tokenization\n",
        "\n",
        "inputs = tokenizer(sample_reviews, return_tensors=\"pt\", padding=True, truncation=True, max_length=512)\n",
        "with torch.no_grad():\n",
        "    outputs = model(**inputs)\n",
        "    probs = softmax(outputs.logits, dim=-1) # calculate the probability\n",
        "    predicted_classes = torch.argmax(probs, dim=-1)\n",
        "\n",
        "for review, pred_class in zip(sample_reviews, predicted_classes): # for each review, print out and the review\n",
        "    print(f\"Review: {review}\\nSentiment Score: {pred_class.item() + 1}\\n\")"
      ],
      "metadata": {
        "id": "vUVzTshnoM3x",
        "colab": {
          "base_uri": "https://localhost:8080/"
        },
        "outputId": "1b50be45-39da-4946-95a1-1a775d087b9c"
      },
      "execution_count": 53,
      "outputs": [
        {
          "output_type": "stream",
          "name": "stdout",
          "text": [
            "Review: The film was a masterpiece, with brilliant acting and a captivating storyline.\n",
            "Sentiment Score: 5\n",
            "\n",
            "Review: I didn't enjoy the movie at all. The plot was dull and the characters were uninteresting.\n",
            "Sentiment Score: 1\n",
            "\n",
            "Review: A decent watch. Some parts were great, while others were just okay.\n",
            "Sentiment Score: 3\n",
            "\n",
            "Review: Absolutely loved it! The cinematography was top-notch and the performances were unforgettable.\n",
            "Sentiment Score: 5\n",
            "\n",
            "Review: It felt like a waste of time. The jokes were flat and the pacing was off.\n",
            "Sentiment Score: 1\n",
            "\n",
            "Review: What a waste of my time! It was worse than I thought it would be but my wife loved it.\n",
            "Sentiment Score: 1\n",
            "\n",
            "Review: It was nothing special. I'll only watch it again if I had to.\n",
            "Sentiment Score: 3\n",
            "\n",
            "Review: This movie is different. I've never stayed so engaged during a movie!\n",
            "Sentiment Score: 1\n",
            "\n",
            "Review: It was definitely interesting. I'm curious if it will get a sequel, it couldn't be worse than this!\n",
            "Sentiment Score: 4\n",
            "\n"
          ]
        }
      ]
    },
    {
      "cell_type": "code",
      "source": [],
      "metadata": {
        "id": "GmsxJ8z-P_ps"
      },
      "execution_count": null,
      "outputs": []
    }
  ]
}