{
  "cells": [
    {
      "cell_type": "markdown",
      "id": "f05a352f",
      "metadata": {
        "id": "f05a352f"
      },
      "source": [
        "# Pretrained Word Embeddings - Glove\n",
        "\n",
        "In this demonstration I will show how to load and utilize pretrained GloVe embeddings for a basic document clustering task, and compare the results to more basic, TF-IDF feature engineering. We will work with two different sets of corpora, both which contain brief customer feedback messages.\n",
        "\n",
        "In order to utilize the pretrained embeddings, you will need to download and unzip then unzip the files. You can download them from [here](https://nlp.stanford.edu/projects/glove/).\n",
        "\n",
        "Select the file called `Wikipedia 2014 + Gigaword 5 (6B tokens, 400K vocab, uncased, 50d, 100d, 200d, & 300d vectors, 822 MB download): glove.6B.zip` for download.\n",
        "\n",
        "As always, let's start with loading our dependencies:"
      ]
    },
    {
      "cell_type": "code",
      "execution_count": null,
      "id": "8aaa45a7",
      "metadata": {
        "id": "8aaa45a7"
      },
      "outputs": [],
      "source": [
        "import nltk\n",
        "from nltk.corpus import stopwords\n",
        "from nltk.stem import WordNetLemmatizer\n",
        "\n",
        "from gensim.models import Word2Vec, KeyedVectors\n",
        "from gensim.scripts.glove2word2vec import glove2word2vec\n",
        "from sklearn.feature_extraction.text import TfidfVectorizer\n",
        "from sklearn.cluster import KMeans\n",
        "from sklearn.decomposition import PCA\n",
        "\n",
        "import matplotlib.pyplot as plt\n",
        "import numpy as np\n",
        "\n",
        "import pandas as pd\n",
        "\n",
        "import warnings\n",
        "warnings.filterwarnings(\"ignore\")"
      ]
    },
    {
      "cell_type": "markdown",
      "id": "4141107a",
      "metadata": {
        "id": "4141107a"
      },
      "source": [
        "## Define corpora of customer feedback"
      ]
    },
    {
      "cell_type": "code",
      "execution_count": null,
      "id": "f190a2fd",
      "metadata": {
        "id": "f190a2fd"
      },
      "outputs": [],
      "source": [
        "# Let's define two different simple corpora for customer feedback\n",
        "corpus_1 = [\n",
        "    \"The product quality was great\",\n",
        "    \"Shipping was very fast\",\n",
        "    \"Customer service was not helpful\",\n",
        "    \"Loved the product\",\n",
        "    \"Shipping was slow\",\n",
        "    \"Excellent customer service\",\n",
        "    \"Product quality was poor\",\n",
        "    \"Fast shipping\",\n",
        "    \"Customer service could be better\",\n",
        "    \"Very happy with the product\"\n",
        "]\n",
        "\n",
        "\n",
        "corpus_2 = [\n",
        "    \"I am really satisfied with the product quality\",\n",
        "    \"Really impressed by the fast shipping\",\n",
        "    \"Excellent service from the customer support team\",\n",
        "    \"Customer service was very helpful and friendly\",\n",
        "    \"Really impressed by the high standards of the product quality\",\n",
        "    \"The delivery was quicker than I expected\",\n",
        "    \"The build quality of the product exceeded my expectations\",\n",
        "    \"The product arrived in no time\",\n",
        "    \"The support team was very patient and solved my problem\"\n",
        "]"
      ]
    },
    {
      "cell_type": "markdown",
      "id": "bc4c433f",
      "metadata": {
        "id": "bc4c433f"
      },
      "source": [
        "# Corpus 1\n",
        "\n",
        "## Clean Text"
      ]
    },
    {
      "cell_type": "code",
      "execution_count": null,
      "id": "02d9dc22",
      "metadata": {
        "id": "02d9dc22"
      },
      "outputs": [],
      "source": [
        "# Define the text cleaning function\n",
        "def clean_text(text):\n",
        "    # Add in Case folding\n",
        "\n",
        "    # Add in Tokenization\n",
        "\n",
        "    # Stopwords removal\n",
        "    stop_words = stopwords.words('english')\n",
        "    words = [word for word in words if word not in stop_words]\n",
        "\n",
        "    # Lemmatization\n",
        "    lemmatizer = WordNetLemmatizer()\n",
        "    words = [lemmatizer.lemmatize(word) for word in words]\n",
        "\n",
        "    return words\n",
        "\n",
        "tokens = [] # apply to tokens in corpus_1"
      ]
    },
    {
      "cell_type": "markdown",
      "id": "31c6e011",
      "metadata": {
        "id": "31c6e011"
      },
      "source": [
        "## Convert glove vectors to word2vec format using gensim"
      ]
    },
    {
      "cell_type": "code",
      "execution_count": null,
      "id": "95f7b5e5",
      "metadata": {
        "id": "95f7b5e5"
      },
      "outputs": [],
      "source": [
        "%%time\n",
        "# Input Training Word2Vec model parameters\n",
        "model_w2v = Word2Vec(sentences=, vector_size=, window=, min_count=, workers=)\n",
        "\n",
        "# If we have the GloVe model downloaded and we'll convert Glove vectors in text format into the word2vec text format:\n",
        "glove_input_file = ''\n",
        "\n",
        "word2vec_output_file = ''\n",
        "glove2word2vec(glove_input_file, word2vec_output_file)\n",
        "\n",
        "# load the converted model\n",
        "model_glove = KeyedVectors.load_word2vec_format(, binary=) # input parameters"
      ]
    },
    {
      "cell_type": "markdown",
      "id": "769b080d",
      "metadata": {
        "id": "769b080d"
      },
      "source": [
        "## Define functions for creating document embeddings"
      ]
    },
    {
      "cell_type": "code",
      "execution_count": null,
      "id": "31bf1ad9",
      "metadata": {
        "id": "31bf1ad9"
      },
      "outputs": [],
      "source": [
        "# Add in comments for both functions\n",
        "\n",
        "def average_word_vectors(words, model, vocabulary, num_features):\n",
        "    feature_vector = np.zeros((num_features,),dtype=\"float64\")\n",
        "    nwords = 0.\n",
        "\n",
        "    for word in words:\n",
        "        if word in vocabulary:\n",
        "            nwords = nwords + 1.\n",
        "            feature_vector = np.add(feature_vector, model[word])\n",
        "\n",
        "    if nwords:\n",
        "        feature_vector = np.divide(feature_vector, nwords)\n",
        "\n",
        "    return feature_vector\n",
        "\n",
        "def averaged_word_vectorizer(corpus, model, num_features):\n",
        "    if isinstance(model, Word2Vec):\n",
        "        vocabulary = set(model.wv.index_to_key)\n",
        "        features = [average_word_vectors(tokenized_sentence, model.wv, vocabulary, num_features)\n",
        "                        for tokenized_sentence in corpus]\n",
        "    else:  # this part is for GloVe model, which is loaded as KeyedVectors\n",
        "        vocabulary = set(model.index_to_key)\n",
        "        features = [average_word_vectors(tokenized_sentence, model, vocabulary, num_features)\n",
        "                        for tokenized_sentence in corpus]\n",
        "\n",
        "    return np.array(features)"
      ]
    },
    {
      "cell_type": "code",
      "execution_count": null,
      "id": "92ecd3fb",
      "metadata": {
        "id": "92ecd3fb"
      },
      "outputs": [],
      "source": [
        "# Get document level embeddings\n",
        "glove_feature_array =\n",
        "\n",
        "# check shape"
      ]
    },
    {
      "cell_type": "markdown",
      "id": "51510f25",
      "metadata": {
        "id": "51510f25"
      },
      "source": [
        "## Build TF-IDF matrix"
      ]
    },
    {
      "cell_type": "code",
      "execution_count": null,
      "id": "e845a67a",
      "metadata": {
        "id": "e845a67a"
      },
      "outputs": [],
      "source": [
        "# Building TF-IDF matrix\n",
        "vectorizer = TfidfVectorizer()\n",
        "X_tfidf =\n",
        "\n",
        "# check shape"
      ]
    },
    {
      "cell_type": "markdown",
      "id": "5792c6fb",
      "metadata": {
        "id": "5792c6fb"
      },
      "source": [
        "## Perform KMeans Clustering, $k = 3$"
      ]
    },
    {
      "cell_type": "code",
      "execution_count": null,
      "id": "b0597aa3",
      "metadata": {
        "scrolled": true,
        "id": "b0597aa3"
      },
      "outputs": [],
      "source": [
        "# Now, we will perform KMeans clustering\n",
        "kmeans_glove = KMeans().fit()\n",
        "kmeans_tfidf = KMeans().fit()"
      ]
    },
    {
      "cell_type": "markdown",
      "id": "8c54b784",
      "metadata": {
        "id": "8c54b784"
      },
      "source": [
        "## Visualize document clusters using PCA plots for each Feature Engineering Method"
      ]
    },
    {
      "cell_type": "code",
      "execution_count": null,
      "id": "a23ea835",
      "metadata": {
        "id": "a23ea835"
      },
      "outputs": [],
      "source": [
        "# Function to plot PCA\n",
        "def plot_pca(data, labels, model_name):\n",
        "    pca = PCA(n_components=2)\n",
        "    scatter_plot_points = pca.fit_transform(data)\n",
        "\n",
        "    colors = [\"\", \"\", \"\"] # choose your cluster colors\n",
        "\n",
        "    plt.scatter(scatter_plot_points[:, 0], scatter_plot_points[:, 1], c=[colors[i] for i in labels])\n",
        "\n",
        "    # add labels\n",
        "    for i, label in enumerate(labels):\n",
        "        plt.text(scatter_plot_points[i, 0], scatter_plot_points[i, 1], str(i))\n",
        "\n",
        "    plt.title('PCA plot for '+ model_name)\n",
        "    plt.show()\n",
        "\n",
        "# Plotting PCA plots\n",
        "plot_pca() # add input parameters\n",
        "plot_pca() # add input parameters"
      ]
    },
    {
      "cell_type": "code",
      "execution_count": null,
      "id": "c232a130",
      "metadata": {
        "id": "c232a130"
      },
      "outputs": [],
      "source": [
        "# Convert corpus to a DataFrame\n",
        "df = pd.DataFrame()\n",
        "\n",
        "# Add KMeans cluster labels\n",
        "df['cluster_glove'] =\n",
        "df['cluster_tfidf'] =\n",
        "\n",
        "df"
      ]
    },
    {
      "cell_type": "markdown",
      "id": "43fad944",
      "metadata": {
        "id": "43fad944"
      },
      "source": [
        "# Corpus 2"
      ]
    },
    {
      "cell_type": "code",
      "execution_count": null,
      "id": "6b658889",
      "metadata": {
        "id": "6b658889"
      },
      "outputs": [],
      "source": [
        "# display corpus_2"
      ]
    },
    {
      "cell_type": "markdown",
      "id": "f552f327",
      "metadata": {
        "id": "f552f327"
      },
      "source": [
        "## Clean Text"
      ]
    },
    {
      "cell_type": "code",
      "execution_count": null,
      "id": "7989cd11",
      "metadata": {
        "id": "7989cd11"
      },
      "outputs": [],
      "source": [
        "# Apply the cleaning function to our corpus\n",
        "tokens = [clean_text(doc) for doc in ]"
      ]
    },
    {
      "cell_type": "markdown",
      "id": "8fc39ae2",
      "metadata": {
        "id": "8fc39ae2"
      },
      "source": [
        "## Convert glove vectors to word2vec format using gensim"
      ]
    },
    {
      "cell_type": "code",
      "execution_count": null,
      "id": "e0967783",
      "metadata": {
        "id": "e0967783"
      },
      "outputs": [],
      "source": [
        "%%time\n",
        "# Training Word2Vec model\n",
        "model_w2v = Word2Vec(sentences=, vector_size=, window=, min_count=, workers=)\n",
        "\n",
        "# Convert Glove vectors in text format into the word2vec text format:\n",
        "glove_input_file = 'glove.6B.50d.txt'\n",
        "\n",
        "word2vec_output_file = 'glove.6B.50d.txt.word2vec'\n",
        "glove2word2vec(glove_input_file, word2vec_output_file)\n",
        "\n",
        "# load the converted model\n",
        "model_glove = KeyedVectors.load_word2vec_format(word2vec_output_file, binary=False)"
      ]
    },
    {
      "cell_type": "code",
      "execution_count": null,
      "id": "31656f1b",
      "metadata": {
        "id": "31656f1b"
      },
      "outputs": [],
      "source": [
        "# Get document level embeddings\n",
        "glove_feature_array = averaged_word_vectorizer(corpus=, model=, num_features=)\n",
        "\n",
        "# check shape"
      ]
    },
    {
      "cell_type": "markdown",
      "id": "b9b329b4",
      "metadata": {
        "id": "b9b329b4"
      },
      "source": [
        "## Build TF-IDF Matrix"
      ]
    },
    {
      "cell_type": "code",
      "execution_count": null,
      "id": "ab03965d",
      "metadata": {
        "id": "ab03965d",
        "outputId": "9f891721-c5b1-4038-9ab8-aff4ad8161ef"
      },
      "outputs": [
        {
          "data": {
            "text/plain": [
              "(9, 40)"
            ]
          },
          "execution_count": 63,
          "metadata": {},
          "output_type": "execute_result"
        }
      ],
      "source": [
        "# Building TF-IDF matrix\n",
        "vectorizer = TfidfVectorizer()\n",
        "X_tfidf = vectorizer.fit_transform()\n",
        "\n",
        "# check"
      ]
    },
    {
      "cell_type": "code",
      "execution_count": null,
      "id": "2ff2bcc6",
      "metadata": {
        "id": "2ff2bcc6"
      },
      "outputs": [],
      "source": [
        "# Now, we will perform KMeans clustering\n",
        "kmeans_glove = KMeans(n_clusters=3, random_state=42).fit(glove_feature_array)\n",
        "kmeans_tfidf = KMeans(n_clusters=3, random_state=42).fit(X_tfidf)"
      ]
    },
    {
      "cell_type": "code",
      "execution_count": null,
      "id": "4aae2799",
      "metadata": {
        "id": "4aae2799",
        "outputId": "061f5519-280b-4b3c-d107-9d6c022cb1ec"
      },
      "outputs": [
        {
          "data": {
            "image/png": "[encoded data removed]",
            "text/plain": [
              "<Figure size 640x480 with 1 Axes>"
            ]
          },
          "metadata": {},
          "output_type": "display_data"
        },
        {
          "data": {
            "image/png": "[encoded data removed]",
            "text/plain": [
              "<Figure size 640x480 with 1 Axes>"
            ]
          },
          "metadata": {},
          "output_type": "display_data"
        }
      ],
      "source": [
        "# Function to plot PCA\n",
        "def plot_pca(data, labels, model_name):\n",
        "    pca = PCA(n_components=2)\n",
        "    scatter_plot_points = pca.fit_transform(data)\n",
        "\n",
        "    colors = [\"red\", \"blue\", \"green\"]\n",
        "\n",
        "    plt.scatter(scatter_plot_points[:, 0], scatter_plot_points[:, 1], c=[colors[i] for i in labels])\n",
        "\n",
        "    # add labels\n",
        "    for i, label in enumerate(labels):\n",
        "        plt.text(scatter_plot_points[i, 0], scatter_plot_points[i, 1], str(i))\n",
        "\n",
        "    plt.title('PCA plot for '+ model_name)\n",
        "    plt.show()\n",
        "\n",
        "# Plotting PCA plots\n",
        "plot_pca(glove_feature_array, kmeans_glove.labels_, 'GloVe')\n",
        "plot_pca(X_tfidf.toarray(), kmeans_tfidf.labels_, 'TF-IDF')"
      ]
    },
    {
      "cell_type": "code",
      "execution_count": null,
      "id": "37379e95",
      "metadata": {
        "id": "37379e95",
        "outputId": "fc293d62-1ee5-423e-d207-ce97121b3cdf"
      },
      "outputs": [
        {
          "data": {
            "text/html": [
              "<div>\n",
              "<style scoped>\n",
              "    .dataframe tbody tr th:only-of-type {\n",
              "        vertical-align: middle;\n",
              "    }\n",
              "\n",
              "    .dataframe tbody tr th {\n",
              "        vertical-align: top;\n",
              "    }\n",
              "\n",
              "    .dataframe thead th {\n",
              "        text-align: right;\n",
              "    }\n",
              "</style>\n",
              "<table border=\"1\" class=\"dataframe\">\n",
              "  <thead>\n",
              "    <tr style=\"text-align: right;\">\n",
              "      <th></th>\n",
              "      <th>text</th>\n",
              "      <th>cluster_glove</th>\n",
              "      <th>cluster_tfidf</th>\n",
              "    </tr>\n",
              "  </thead>\n",
              "  <tbody>\n",
              "    <tr>\n",
              "      <th>0</th>\n",
              "      <td>I am really satisfied with the product quality</td>\n",
              "      <td>2</td>\n",
              "      <td>1</td>\n",
              "    </tr>\n",
              "    <tr>\n",
              "      <th>1</th>\n",
              "      <td>Really impressed by the fast shipping</td>\n",
              "      <td>0</td>\n",
              "      <td>1</td>\n",
              "    </tr>\n",
              "    <tr>\n",
              "      <th>2</th>\n",
              "      <td>Excellent service from the customer support team</td>\n",
              "      <td>1</td>\n",
              "      <td>2</td>\n",
              "    </tr>\n",
              "    <tr>\n",
              "      <th>3</th>\n",
              "      <td>Customer service was very helpful and friendly</td>\n",
              "      <td>1</td>\n",
              "      <td>2</td>\n",
              "    </tr>\n",
              "    <tr>\n",
              "      <th>4</th>\n",
              "      <td>Really impressed by the high standards of the ...</td>\n",
              "      <td>2</td>\n",
              "      <td>1</td>\n",
              "    </tr>\n",
              "    <tr>\n",
              "      <th>5</th>\n",
              "      <td>The delivery was quicker than I expected</td>\n",
              "      <td>0</td>\n",
              "      <td>0</td>\n",
              "    </tr>\n",
              "    <tr>\n",
              "      <th>6</th>\n",
              "      <td>The build quality of the product exceeded my e...</td>\n",
              "      <td>2</td>\n",
              "      <td>1</td>\n",
              "    </tr>\n",
              "    <tr>\n",
              "      <th>7</th>\n",
              "      <td>The product arrived in no time</td>\n",
              "      <td>0</td>\n",
              "      <td>1</td>\n",
              "    </tr>\n",
              "    <tr>\n",
              "      <th>8</th>\n",
              "      <td>The support team was very patient and solved m...</td>\n",
              "      <td>1</td>\n",
              "      <td>2</td>\n",
              "    </tr>\n",
              "  </tbody>\n",
              "</table>\n",
              "</div>"
            ],
            "text/plain": [
              "                                                text  cluster_glove  \\\n",
              "0     I am really satisfied with the product quality              2   \n",
              "1              Really impressed by the fast shipping              0   \n",
              "2   Excellent service from the customer support team              1   \n",
              "3     Customer service was very helpful and friendly              1   \n",
              "4  Really impressed by the high standards of the ...              2   \n",
              "5           The delivery was quicker than I expected              0   \n",
              "6  The build quality of the product exceeded my e...              2   \n",
              "7                     The product arrived in no time              0   \n",
              "8  The support team was very patient and solved m...              1   \n",
              "\n",
              "   cluster_tfidf  \n",
              "0              1  \n",
              "1              1  \n",
              "2              2  \n",
              "3              2  \n",
              "4              1  \n",
              "5              0  \n",
              "6              1  \n",
              "7              1  \n",
              "8              2  "
            ]
          },
          "execution_count": 66,
          "metadata": {},
          "output_type": "execute_result"
        }
      ],
      "source": [
        "# Convert corpus to a DataFrame\n",
        "df = pd.DataFrame(corpus_2, columns=['text'])\n",
        "\n",
        "# Add KMeans cluster labels\n",
        "df['cluster_glove'] = kmeans_glove.labels_\n",
        "df['cluster_tfidf'] = kmeans_tfidf.labels_\n",
        "\n",
        "df"
      ]
    }
  ],
  "metadata": {
    "kernelspec": {
      "display_name": "Python 3 (ipykernel)",
      "language": "python",
      "name": "python3"
    },
    "language_info": {
      "codemirror_mode": {
        "name": "ipython",
        "version": 3
      },
      "file_extension": ".py",
      "mimetype": "text/x-python",
      "name": "python",
      "nbconvert_exporter": "python",
      "pygments_lexer": "ipython3",
      "version": "3.10.9"
    },
    "colab": {
      "provenance": []
    }
  },
  "nbformat": 4,
  "nbformat_minor": 5
}